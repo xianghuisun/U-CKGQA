{
 "cells": [
  {
   "cell_type": "code",
   "execution_count": 66,
   "id": "9d7f4ccd",
   "metadata": {},
   "outputs": [],
   "source": [
    "import json\n",
    "from collections import defaultdict\n",
    "import string\n",
    "import zhconv\n",
    "import sys,os,re\n",
    "sys.path.append(os.path.abspath('../'))"
   ]
  },
  {
   "cell_type": "code",
   "execution_count": 209,
   "id": "cc5528fb",
   "metadata": {},
   "outputs": [
    {
     "name": "stderr",
     "output_type": "stream",
     "text": [
      "The tokenizer class you load from this checkpoint is not the same type as the class this function is called from. It may result in unexpected tokenization. \n",
      "The tokenizer class you load from this checkpoint is 'BartTokenizer'. \n",
      "The class this function is called from is 'BertTokenizer'.\n"
     ]
    }
   ],
   "source": [
    "from bart import MyBart\n",
    "import numpy as np\n",
    "from tqdm import tqdm\n",
    "from utils.utils import read_data,read_data_nlpcc,read_kg\n",
    "import torch\n",
    "from transformers import BertTokenizer\n",
    "tokenizer=BertTokenizer.from_pretrained('/home/xhsun/NLP/huggingfaceModels/Chinese/chinese-bart-base')\n",
    "device=torch.device('cuda')"
   ]
  },
  {
   "cell_type": "code",
   "execution_count": 20,
   "id": "f3403683",
   "metadata": {},
   "outputs": [
    {
     "data": {
      "text/plain": [
       "MyBart(\n",
       "  (model): BartModel(\n",
       "    (shared): Embedding(21128, 768, padding_idx=0)\n",
       "    (encoder): BartEncoder(\n",
       "      (embed_tokens): Embedding(21128, 768, padding_idx=0)\n",
       "      (embed_positions): BartLearnedPositionalEmbedding(514, 768)\n",
       "      (layers): ModuleList(\n",
       "        (0): BartEncoderLayer(\n",
       "          (self_attn): BartAttention(\n",
       "            (k_proj): Linear(in_features=768, out_features=768, bias=True)\n",
       "            (v_proj): Linear(in_features=768, out_features=768, bias=True)\n",
       "            (q_proj): Linear(in_features=768, out_features=768, bias=True)\n",
       "            (out_proj): Linear(in_features=768, out_features=768, bias=True)\n",
       "          )\n",
       "          (self_attn_layer_norm): LayerNorm((768,), eps=1e-05, elementwise_affine=True)\n",
       "          (fc1): Linear(in_features=768, out_features=3072, bias=True)\n",
       "          (fc2): Linear(in_features=3072, out_features=768, bias=True)\n",
       "          (final_layer_norm): LayerNorm((768,), eps=1e-05, elementwise_affine=True)\n",
       "        )\n",
       "        (1): BartEncoderLayer(\n",
       "          (self_attn): BartAttention(\n",
       "            (k_proj): Linear(in_features=768, out_features=768, bias=True)\n",
       "            (v_proj): Linear(in_features=768, out_features=768, bias=True)\n",
       "            (q_proj): Linear(in_features=768, out_features=768, bias=True)\n",
       "            (out_proj): Linear(in_features=768, out_features=768, bias=True)\n",
       "          )\n",
       "          (self_attn_layer_norm): LayerNorm((768,), eps=1e-05, elementwise_affine=True)\n",
       "          (fc1): Linear(in_features=768, out_features=3072, bias=True)\n",
       "          (fc2): Linear(in_features=3072, out_features=768, bias=True)\n",
       "          (final_layer_norm): LayerNorm((768,), eps=1e-05, elementwise_affine=True)\n",
       "        )\n",
       "        (2): BartEncoderLayer(\n",
       "          (self_attn): BartAttention(\n",
       "            (k_proj): Linear(in_features=768, out_features=768, bias=True)\n",
       "            (v_proj): Linear(in_features=768, out_features=768, bias=True)\n",
       "            (q_proj): Linear(in_features=768, out_features=768, bias=True)\n",
       "            (out_proj): Linear(in_features=768, out_features=768, bias=True)\n",
       "          )\n",
       "          (self_attn_layer_norm): LayerNorm((768,), eps=1e-05, elementwise_affine=True)\n",
       "          (fc1): Linear(in_features=768, out_features=3072, bias=True)\n",
       "          (fc2): Linear(in_features=3072, out_features=768, bias=True)\n",
       "          (final_layer_norm): LayerNorm((768,), eps=1e-05, elementwise_affine=True)\n",
       "        )\n",
       "        (3): BartEncoderLayer(\n",
       "          (self_attn): BartAttention(\n",
       "            (k_proj): Linear(in_features=768, out_features=768, bias=True)\n",
       "            (v_proj): Linear(in_features=768, out_features=768, bias=True)\n",
       "            (q_proj): Linear(in_features=768, out_features=768, bias=True)\n",
       "            (out_proj): Linear(in_features=768, out_features=768, bias=True)\n",
       "          )\n",
       "          (self_attn_layer_norm): LayerNorm((768,), eps=1e-05, elementwise_affine=True)\n",
       "          (fc1): Linear(in_features=768, out_features=3072, bias=True)\n",
       "          (fc2): Linear(in_features=3072, out_features=768, bias=True)\n",
       "          (final_layer_norm): LayerNorm((768,), eps=1e-05, elementwise_affine=True)\n",
       "        )\n",
       "        (4): BartEncoderLayer(\n",
       "          (self_attn): BartAttention(\n",
       "            (k_proj): Linear(in_features=768, out_features=768, bias=True)\n",
       "            (v_proj): Linear(in_features=768, out_features=768, bias=True)\n",
       "            (q_proj): Linear(in_features=768, out_features=768, bias=True)\n",
       "            (out_proj): Linear(in_features=768, out_features=768, bias=True)\n",
       "          )\n",
       "          (self_attn_layer_norm): LayerNorm((768,), eps=1e-05, elementwise_affine=True)\n",
       "          (fc1): Linear(in_features=768, out_features=3072, bias=True)\n",
       "          (fc2): Linear(in_features=3072, out_features=768, bias=True)\n",
       "          (final_layer_norm): LayerNorm((768,), eps=1e-05, elementwise_affine=True)\n",
       "        )\n",
       "        (5): BartEncoderLayer(\n",
       "          (self_attn): BartAttention(\n",
       "            (k_proj): Linear(in_features=768, out_features=768, bias=True)\n",
       "            (v_proj): Linear(in_features=768, out_features=768, bias=True)\n",
       "            (q_proj): Linear(in_features=768, out_features=768, bias=True)\n",
       "            (out_proj): Linear(in_features=768, out_features=768, bias=True)\n",
       "          )\n",
       "          (self_attn_layer_norm): LayerNorm((768,), eps=1e-05, elementwise_affine=True)\n",
       "          (fc1): Linear(in_features=768, out_features=3072, bias=True)\n",
       "          (fc2): Linear(in_features=3072, out_features=768, bias=True)\n",
       "          (final_layer_norm): LayerNorm((768,), eps=1e-05, elementwise_affine=True)\n",
       "        )\n",
       "      )\n",
       "      (layernorm_embedding): LayerNorm((768,), eps=1e-05, elementwise_affine=True)\n",
       "    )\n",
       "    (decoder): BartDecoder(\n",
       "      (embed_tokens): Embedding(21128, 768, padding_idx=0)\n",
       "      (embed_positions): BartLearnedPositionalEmbedding(514, 768)\n",
       "      (layers): ModuleList(\n",
       "        (0): BartDecoderLayer(\n",
       "          (self_attn): BartAttention(\n",
       "            (k_proj): Linear(in_features=768, out_features=768, bias=True)\n",
       "            (v_proj): Linear(in_features=768, out_features=768, bias=True)\n",
       "            (q_proj): Linear(in_features=768, out_features=768, bias=True)\n",
       "            (out_proj): Linear(in_features=768, out_features=768, bias=True)\n",
       "          )\n",
       "          (self_attn_layer_norm): LayerNorm((768,), eps=1e-05, elementwise_affine=True)\n",
       "          (encoder_attn): BartAttention(\n",
       "            (k_proj): Linear(in_features=768, out_features=768, bias=True)\n",
       "            (v_proj): Linear(in_features=768, out_features=768, bias=True)\n",
       "            (q_proj): Linear(in_features=768, out_features=768, bias=True)\n",
       "            (out_proj): Linear(in_features=768, out_features=768, bias=True)\n",
       "          )\n",
       "          (encoder_attn_layer_norm): LayerNorm((768,), eps=1e-05, elementwise_affine=True)\n",
       "          (fc1): Linear(in_features=768, out_features=3072, bias=True)\n",
       "          (fc2): Linear(in_features=3072, out_features=768, bias=True)\n",
       "          (final_layer_norm): LayerNorm((768,), eps=1e-05, elementwise_affine=True)\n",
       "        )\n",
       "        (1): BartDecoderLayer(\n",
       "          (self_attn): BartAttention(\n",
       "            (k_proj): Linear(in_features=768, out_features=768, bias=True)\n",
       "            (v_proj): Linear(in_features=768, out_features=768, bias=True)\n",
       "            (q_proj): Linear(in_features=768, out_features=768, bias=True)\n",
       "            (out_proj): Linear(in_features=768, out_features=768, bias=True)\n",
       "          )\n",
       "          (self_attn_layer_norm): LayerNorm((768,), eps=1e-05, elementwise_affine=True)\n",
       "          (encoder_attn): BartAttention(\n",
       "            (k_proj): Linear(in_features=768, out_features=768, bias=True)\n",
       "            (v_proj): Linear(in_features=768, out_features=768, bias=True)\n",
       "            (q_proj): Linear(in_features=768, out_features=768, bias=True)\n",
       "            (out_proj): Linear(in_features=768, out_features=768, bias=True)\n",
       "          )\n",
       "          (encoder_attn_layer_norm): LayerNorm((768,), eps=1e-05, elementwise_affine=True)\n",
       "          (fc1): Linear(in_features=768, out_features=3072, bias=True)\n",
       "          (fc2): Linear(in_features=3072, out_features=768, bias=True)\n",
       "          (final_layer_norm): LayerNorm((768,), eps=1e-05, elementwise_affine=True)\n",
       "        )\n",
       "        (2): BartDecoderLayer(\n",
       "          (self_attn): BartAttention(\n",
       "            (k_proj): Linear(in_features=768, out_features=768, bias=True)\n",
       "            (v_proj): Linear(in_features=768, out_features=768, bias=True)\n",
       "            (q_proj): Linear(in_features=768, out_features=768, bias=True)\n",
       "            (out_proj): Linear(in_features=768, out_features=768, bias=True)\n",
       "          )\n",
       "          (self_attn_layer_norm): LayerNorm((768,), eps=1e-05, elementwise_affine=True)\n",
       "          (encoder_attn): BartAttention(\n",
       "            (k_proj): Linear(in_features=768, out_features=768, bias=True)\n",
       "            (v_proj): Linear(in_features=768, out_features=768, bias=True)\n",
       "            (q_proj): Linear(in_features=768, out_features=768, bias=True)\n",
       "            (out_proj): Linear(in_features=768, out_features=768, bias=True)\n",
       "          )\n",
       "          (encoder_attn_layer_norm): LayerNorm((768,), eps=1e-05, elementwise_affine=True)\n",
       "          (fc1): Linear(in_features=768, out_features=3072, bias=True)\n",
       "          (fc2): Linear(in_features=3072, out_features=768, bias=True)\n",
       "          (final_layer_norm): LayerNorm((768,), eps=1e-05, elementwise_affine=True)\n",
       "        )\n",
       "        (3): BartDecoderLayer(\n",
       "          (self_attn): BartAttention(\n",
       "            (k_proj): Linear(in_features=768, out_features=768, bias=True)\n",
       "            (v_proj): Linear(in_features=768, out_features=768, bias=True)\n",
       "            (q_proj): Linear(in_features=768, out_features=768, bias=True)\n",
       "            (out_proj): Linear(in_features=768, out_features=768, bias=True)\n",
       "          )\n",
       "          (self_attn_layer_norm): LayerNorm((768,), eps=1e-05, elementwise_affine=True)\n",
       "          (encoder_attn): BartAttention(\n",
       "            (k_proj): Linear(in_features=768, out_features=768, bias=True)\n",
       "            (v_proj): Linear(in_features=768, out_features=768, bias=True)\n",
       "            (q_proj): Linear(in_features=768, out_features=768, bias=True)\n",
       "            (out_proj): Linear(in_features=768, out_features=768, bias=True)\n",
       "          )\n",
       "          (encoder_attn_layer_norm): LayerNorm((768,), eps=1e-05, elementwise_affine=True)\n",
       "          (fc1): Linear(in_features=768, out_features=3072, bias=True)\n",
       "          (fc2): Linear(in_features=3072, out_features=768, bias=True)\n",
       "          (final_layer_norm): LayerNorm((768,), eps=1e-05, elementwise_affine=True)\n",
       "        )\n",
       "        (4): BartDecoderLayer(\n",
       "          (self_attn): BartAttention(\n",
       "            (k_proj): Linear(in_features=768, out_features=768, bias=True)\n",
       "            (v_proj): Linear(in_features=768, out_features=768, bias=True)\n",
       "            (q_proj): Linear(in_features=768, out_features=768, bias=True)\n",
       "            (out_proj): Linear(in_features=768, out_features=768, bias=True)\n",
       "          )\n",
       "          (self_attn_layer_norm): LayerNorm((768,), eps=1e-05, elementwise_affine=True)\n",
       "          (encoder_attn): BartAttention(\n",
       "            (k_proj): Linear(in_features=768, out_features=768, bias=True)\n",
       "            (v_proj): Linear(in_features=768, out_features=768, bias=True)\n",
       "            (q_proj): Linear(in_features=768, out_features=768, bias=True)\n",
       "            (out_proj): Linear(in_features=768, out_features=768, bias=True)\n",
       "          )\n",
       "          (encoder_attn_layer_norm): LayerNorm((768,), eps=1e-05, elementwise_affine=True)\n",
       "          (fc1): Linear(in_features=768, out_features=3072, bias=True)\n",
       "          (fc2): Linear(in_features=3072, out_features=768, bias=True)\n",
       "          (final_layer_norm): LayerNorm((768,), eps=1e-05, elementwise_affine=True)\n",
       "        )\n",
       "        (5): BartDecoderLayer(\n",
       "          (self_attn): BartAttention(\n",
       "            (k_proj): Linear(in_features=768, out_features=768, bias=True)\n",
       "            (v_proj): Linear(in_features=768, out_features=768, bias=True)\n",
       "            (q_proj): Linear(in_features=768, out_features=768, bias=True)\n",
       "            (out_proj): Linear(in_features=768, out_features=768, bias=True)\n",
       "          )\n",
       "          (self_attn_layer_norm): LayerNorm((768,), eps=1e-05, elementwise_affine=True)\n",
       "          (encoder_attn): BartAttention(\n",
       "            (k_proj): Linear(in_features=768, out_features=768, bias=True)\n",
       "            (v_proj): Linear(in_features=768, out_features=768, bias=True)\n",
       "            (q_proj): Linear(in_features=768, out_features=768, bias=True)\n",
       "            (out_proj): Linear(in_features=768, out_features=768, bias=True)\n",
       "          )\n",
       "          (encoder_attn_layer_norm): LayerNorm((768,), eps=1e-05, elementwise_affine=True)\n",
       "          (fc1): Linear(in_features=768, out_features=3072, bias=True)\n",
       "          (fc2): Linear(in_features=3072, out_features=768, bias=True)\n",
       "          (final_layer_norm): LayerNorm((768,), eps=1e-05, elementwise_affine=True)\n",
       "        )\n",
       "      )\n",
       "      (layernorm_embedding): LayerNorm((768,), eps=1e-05, elementwise_affine=True)\n",
       "    )\n",
       "  )\n",
       "  (lm_head): Linear(in_features=768, out_features=21128, bias=False)\n",
       ")"
      ]
     },
     "execution_count": 20,
     "metadata": {},
     "output_type": "execute_result"
    }
   ],
   "source": [
    "model = MyBart.from_pretrained('/home/xhsun/NLP/huggingfaceModels/Chinese/chinese-bart-base',\n",
    "                               state_dict=torch.load('/home/xhsun/Desktop/graduate_models/Section4/kgclue/best-model.pt',map_location='cpu'))\n",
    "model.to(device)"
   ]
  },
  {
   "cell_type": "code",
   "execution_count": 35,
   "id": "90ec5722",
   "metadata": {},
   "outputs": [],
   "source": [
    "def predict_ner(data,model,tokenizer):\n",
    "    #ner_predictions=[]\n",
    "    for example in tqdm(data,total=len(data),unit='question'):\n",
    "        text=example['question'].lower().replace('“','').replace('”','').replace('\"','').replace('\"','').replace('\\n','').replace('\\t','')\n",
    "        text='{}'.format(text)+'。上个句子中哪些属于实体名词？_。'#'你知道泰山极顶的作家是谁啊？。上个句子中哪些属于实体名词？_。'\n",
    "        model_inputs=tokenizer([text],return_tensors='pt')\n",
    "        input_ids=model_inputs['input_ids'].to(device)\n",
    "        attention_mask=model_inputs['attention_mask'].to(device)\n",
    "        outputs = model.generate(input_ids=input_ids,\n",
    "                                attention_mask=attention_mask,\n",
    "                                num_beams=4,\n",
    "                                min_length=1,\n",
    "                                max_length=30,\n",
    "                                early_stopping=True,)#tensor([[ 102,  101, 3805, 2255, 3353, 7553,  102]], device='cuda:0')\n",
    "        pred=tokenizer.decode(outputs[0],skip_special_tokens=True,clean_up_tokenization_spaces=True).strip()#'泰 山 极 顶'\n",
    "        example.update({\"ner_pred\":pred})\n",
    "#         ner_predictions.append(example)\n",
    "#     return ner_predictions"
   ]
  },
  {
   "cell_type": "code",
   "execution_count": 36,
   "id": "e71950a5",
   "metadata": {},
   "outputs": [
    {
     "name": "stdout",
     "output_type": "stream",
     "text": [
      "原始数据有2000个样本\n"
     ]
    }
   ],
   "source": [
    "data=read_data('../../data/kgclue/test_public.json')"
   ]
  },
  {
   "cell_type": "code",
   "execution_count": 37,
   "id": "0d16e1ce",
   "metadata": {},
   "outputs": [
    {
     "data": {
      "text/plain": [
       "{'id': 0,\n",
       " 'question': '你知道长江武汉航道局管多少个地方吗？',\n",
       " 'answer': '长江武汉航道局 ||| 管辖 ||| 715.2公里'}"
      ]
     },
     "execution_count": 37,
     "metadata": {},
     "output_type": "execute_result"
    }
   ],
   "source": [
    "data[0]"
   ]
  },
  {
   "cell_type": "code",
   "execution_count": 38,
   "id": "a2680333",
   "metadata": {},
   "outputs": [
    {
     "name": "stderr",
     "output_type": "stream",
     "text": [
      "100%|█████████████████████████████████████████████████████████████████████████████████████████████████████████████████████████| 2000/2000 [01:04<00:00, 30.98question/s]\n"
     ]
    }
   ],
   "source": [
    "predict_ner(data,model,tokenizer)"
   ]
  },
  {
   "cell_type": "code",
   "execution_count": 39,
   "id": "a336f8c0",
   "metadata": {},
   "outputs": [
    {
     "data": {
      "text/plain": [
       "[{'id': 0,\n",
       "  'question': '你知道长江武汉航道局管多少个地方吗？',\n",
       "  'answer': '长江武汉航道局 ||| 管辖 ||| 715.2公里',\n",
       "  'ner_pred': '长 江 武 汉 航 道 局'},\n",
       " {'id': 1,\n",
       "  'question': '东瓯王发生的主要事件是什么？',\n",
       "  'answer': '东瓯王 ||| 主要事件 ||| 抗秦反秦，助汉击楚。',\n",
       "  'ner_pred': '东 瓯 王'},\n",
       " {'id': 2,\n",
       "  'question': '山西省铸造新工艺工程技术研究中心是什么的管辖的啊？',\n",
       "  'answer': '山西省铸造新工艺工程技术研究中心 ||| 机构类型 ||| 研究开发机构',\n",
       "  'ner_pred': '山 西 省 铸 造 新 工 艺 工 程 技 术 研 究 中 心'},\n",
       " {'id': 3,\n",
       "  'question': '你知道谁是丘堤的儿媳吗',\n",
       "  'answer': '丘堤 ||| 儿媳 ||| 籍虹',\n",
       "  'ner_pred': '丘 堤'},\n",
       " {'id': 4,\n",
       "  'question': '国民军参与过什么战争？',\n",
       "  'answer': '国民军 ||| 参与战争 ||| 直奉战争、北伐战争、中原大战、抗日战争',\n",
       "  'ner_pred': '国 民 军'},\n",
       " {'id': 5,\n",
       "  'question': '你知道诺基亚lumia1320的主屏尺寸是多少吗？',\n",
       "  'answer': '诺基亚lumia1320 ||| 主屏尺寸 ||| 6英寸',\n",
       "  'ner_pred': '诺 基 亚 lumia1320'},\n",
       " {'id': 6,\n",
       "  'question': '你什么时候参加的执业兽医资格考试啊？',\n",
       "  'answer': '执业兽医资格考试 ||| 考试时间 ||| 10月',\n",
       "  'ner_pred': '执 业 兽 医 资 格 考 试'},\n",
       " {'id': 7,\n",
       "  'question': '你知道2007年度北京流行音乐典礼是哪种类型的奖项吗',\n",
       "  'answer': '2007年度北京流行音乐典礼 ||| 奖项类型 ||| 音乐类奖项',\n",
       "  'ner_pred': '2007 年 度 北 京 流 行 音 乐 典 礼'},\n",
       " {'id': 8,\n",
       "  'question': 'BOT的总价要多少钱',\n",
       "  'answer': 'BOT（dota游戏中飞鞋的简称。） ||| 总价 ||| 2450',\n",
       "  'ner_pred': 'bot'},\n",
       " {'id': 9,\n",
       "  'question': '你知道泰山极顶的作家是谁啊？',\n",
       "  'answer': '泰山极顶 ||| 作家 ||| 杨朔',\n",
       "  'ner_pred': '泰 山 极 顶'}]"
      ]
     },
     "execution_count": 39,
     "metadata": {},
     "output_type": "execute_result"
    }
   ],
   "source": [
    "data[:10]"
   ]
  },
  {
   "cell_type": "code",
   "execution_count": 100,
   "id": "d754bb43",
   "metadata": {},
   "outputs": [],
   "source": [
    "def select_span(tmp_q,question,ner_pred):\n",
    "    start_id=tmp_q.find(ner_pred)\n",
    "    end_id=start_id+len(ner_pred)\n",
    "    new_pred=question[start_id:end_id]\n",
    "    return new_pred\n",
    "\n",
    "def rule_of_departure_to_destination(question,ner_pred):\n",
    "    '''\n",
    "    question='东营—深圳公路途径哪些城市'\n",
    "    ner_pred=''东营深圳公路''\n",
    "    '''\n",
    "    ner_pred=''.join(ner_pred.split())\n",
    "    try:\n",
    "        \n",
    "        if '—' in question:\n",
    "            tmp_q=question.replace('—','')\n",
    "            if ner_pred in tmp_q:\n",
    "                start_token=ner_pred[:2]\n",
    "                end_token=ner_pred[-2:]\n",
    "                assert start_token in question and end_token in question\n",
    "                start_pos=question.find(start_token)\n",
    "                end_pos=question.find(end_token)+1\n",
    "                entity=question[start_pos:end_pos+1]\n",
    "                return entity\n",
    "            else:\n",
    "                return ''\n",
    "        else:\n",
    "            return ''\n",
    "    \n",
    "    except Exception as e:\n",
    "        print(e)\n",
    "        return ''\n",
    "\n",
    "def rule_of_chinese_quotation_mark(question,ner_pred):\n",
    "    '''\n",
    "    question='请问“一带一路”铁路国际人才教育联盟是由哪个单位发起的？'\n",
    "    ner_pred='一带一路铁路国际人才教育联盟'\n",
    "    '''\n",
    "    ner_pred=''.join(ner_pred.split())\n",
    "    try:\n",
    "        if '“' in question:\n",
    "            assert '”' in question\n",
    "            token_string=re.findall('“(.*)”',question)[0]\n",
    "            tmp_q=question.replace('“','').replace('”','')\n",
    "            if ner_pred in tmp_q:\n",
    "                assert token_string in ner_pred\n",
    "                new_pred=ner_pred.replace(token_string,'“{}”'.format(token_string))\n",
    "                assert new_pred in question\n",
    "                return new_pred\n",
    "            else:\n",
    "                return ''\n",
    "        else:\n",
    "            return ''\n",
    "        \n",
    "    except Exception as e:\n",
    "        print(e)\n",
    "        return ''\n",
    "            \n",
    "def rule_of_zhconv(question,ner_pred):\n",
    "    '''\n",
    "    question='中国共产党中央委员会政法委员会属于什么机构你知道吗？'\n",
    "    ner_pred='中国共产党中央委员会政法委员會'\n",
    "    '''\n",
    "    ner_pred=''.join(ner_pred.split())\n",
    "    if zhconv.convert(ner_pred,'zh-hans') in question:\n",
    "        return zhconv.convert(ner_pred,'zh-hans')\n",
    "    else:\n",
    "        return ''\n",
    "    \n",
    "def final_rule(question,ner_pred):\n",
    "    ner_pred=''.join(ner_pred.split())\n",
    "    question_lower=question.lower()\n",
    "    start_token=ner_pred[:2]\n",
    "    end_token=ner_pred[-2:]\n",
    "    \n",
    "    if start_token in question_lower and end_token in question_lower:\n",
    "        start_pos=question_lower.find(start_token)\n",
    "        end_pos=question_lower.find(end_token)+1\n",
    "        entity=question[start_pos:end_pos+1]\n",
    "        return entity\n",
    "    else:\n",
    "        return ''\n",
    "\n",
    "wrong_results=[]\n",
    "\n",
    "for example in data:\n",
    "    question=example['question']\n",
    "    question_lower=question.lower()\n",
    "    ner_pred=example['ner_pred']\n",
    "    if ner_pred in question:\n",
    "        continue\n",
    "        \n",
    "    elif ner_pred in question_lower:\n",
    "        new_pred=select_span(tmp_q=question_lower,question=question,ner_pred=ner_pred)\n",
    "        example.update({\"ner_pred\":new_pred})\n",
    "        \n",
    "    elif ''.join(ner_pred.split()) in question:\n",
    "        new_pred=select_span(tmp_q=question,question=question,ner_pred=''.join(ner_pred.split()))\n",
    "        example.update({\"ner_pred\":new_pred})\n",
    "        \n",
    "    elif ''.join(ner_pred.split()) in question_lower:\n",
    "        new_pred=select_span(tmp_q=question_lower,question=question,ner_pred=''.join(ner_pred.split()))\n",
    "        example.update({\"ner_pred\":new_pred})\n",
    "        \n",
    "    elif rule_of_departure_to_destination(question,ner_pred=ner_pred)!='':\n",
    "        new_pred=rule_of_departure_to_destination(question,ner_pred=ner_pred)\n",
    "        example.update({\"ner_pred\":new_pred})\n",
    "    \n",
    "    elif rule_of_chinese_quotation_mark(question,ner_pred=ner_pred)!='':\n",
    "        new_pred=rule_of_chinese_quotation_mark(question,ner_pred=ner_pred)\n",
    "        example.update({\"ner_pred\":new_pred})\n",
    "    \n",
    "    elif rule_of_zhconv(question,ner_pred=ner_pred)!='':\n",
    "        new_pred=rule_of_zhconv(question,ner_pred=ner_pred)\n",
    "        example.update({\"ner_pred\":new_pred})\n",
    "        \n",
    "    elif final_rule(question,ner_pred=ner_pred)!='':\n",
    "        new_pred=final_rule(question,ner_pred=ner_pred)\n",
    "        example.update({\"ner_pred\":new_pred})\n",
    "        \n",
    "    else:\n",
    "        wrong_results.append(example)"
   ]
  },
  {
   "cell_type": "code",
   "execution_count": 101,
   "id": "ece34463",
   "metadata": {},
   "outputs": [
    {
     "data": {
      "text/plain": [
       "4"
      ]
     },
     "execution_count": 101,
     "metadata": {},
     "output_type": "execute_result"
    }
   ],
   "source": [
    "len(wrong_results)"
   ]
  },
  {
   "cell_type": "code",
   "execution_count": 102,
   "id": "1f674db0",
   "metadata": {},
   "outputs": [
    {
     "data": {
      "text/plain": [
       "[{'id': 567,\n",
       "  'question': '东北鼢鼠有什么天敌啊',\n",
       "  'answer': '东北鼢鼠（哺乳纲动物） ||| 天敌 ||| 猫、猫头鹰和蛇等',\n",
       "  'ner_pred': '东 北 鼠'},\n",
       " {'id': 659,\n",
       "  'question': '于鋆炜的拦网高度是多少',\n",
       "  'answer': '于鋆炜 ||| 拦网高度 ||| 300cm',\n",
       "  'ner_pred': '于 炜'},\n",
       " {'id': 907,\n",
       "  'question': '10·26朴正熙遇刺事件有哪些人员',\n",
       "  'answer': '10·26朴正熙遇刺事件 ||| 主要人员 ||| 金载圭、朴正熙、车智澈',\n",
       "  'ner_pred': '10 · 26 朴 正 熙 遇 刺 案'},\n",
       " {'id': 1529,\n",
       "  'question': '请问慕容莎是什么时候出生的？',\n",
       "  'answer': '慕容莎 ||| 出生年份 ||| 公元390年',\n",
       "  'ner_pred': '请 容 莎'}]"
      ]
     },
     "execution_count": 102,
     "metadata": {},
     "output_type": "execute_result"
    }
   ],
   "source": [
    "wrong_results"
   ]
  },
  {
   "cell_type": "code",
   "execution_count": 219,
   "id": "bb48e4d4",
   "metadata": {},
   "outputs": [
    {
     "name": "stdout",
     "output_type": "stream",
     "text": [
      "The number of triples: 43063796\n"
     ]
    },
    {
     "name": "stderr",
     "output_type": "stream",
     "text": [
      "100%|███████████████████████████████████████████████████████████████████████████████████████████████████████████████████| 43063796/43063796 [01:06<00:00, 652452.33it/s]\n"
     ]
    }
   ],
   "source": [
    "alias_map,sub_map=read_kg(kg_path='/home/xhsun/NLP/KGQA/KG/nlpcc2018/knowledge/nlpcc-iccpol-2016.kbqa.kb',kg='nlpcc')"
   ]
  },
  {
   "cell_type": "code",
   "execution_count": null,
   "id": "0f7a303d",
   "metadata": {},
   "outputs": [],
   "source": []
  },
  {
   "cell_type": "code",
   "execution_count": null,
   "id": "f5721f19",
   "metadata": {},
   "outputs": [],
   "source": []
  },
  {
   "cell_type": "code",
   "execution_count": 148,
   "id": "4b1a9987",
   "metadata": {},
   "outputs": [],
   "source": [
    "if '' in alias_map:\n",
    "    del alias_map['']\n",
    "if '' in sub_map:\n",
    "    del sub_map['']\n",
    "ner_data=[]\n",
    "TP=0\n",
    "FP=0\n",
    "FN=0\n",
    "FP_examples=[]\n",
    "FN_examples=[]\n",
    "with open('../outputs/tmp_ner.json') as f:\n",
    "    lines=f.readlines()\n",
    "    for line in lines:\n",
    "        ner_data.append(json.loads(line.strip()))\n",
    "for example in ner_data:\n",
    "    answer=example['answer']\n",
    "    question=example['question']\n",
    "    \n",
    "    topic_entity=answer.split('|||')[0].strip()\n",
    "    if ('（' in topic_entity and '）' in topic_entity):\n",
    "        topic_entity=topic_entity.split('（')[0]\n",
    "    try:\n",
    "        assert topic_entity in question\n",
    "    except:\n",
    "        print(example,topic_entity)\n",
    "        raise Exception(\"check\")\n",
    "    ner_pred=example['ner_pred']\n",
    "    if ner_pred==topic_entity:\n",
    "        TP+=1\n",
    "    else:\n",
    "        if ner_pred not in question:\n",
    "            FN+=1#is not a true entity\n",
    "            FN_examples.append(example)\n",
    "            continue\n",
    "            \n",
    "        ner_pred_rule1=rule1_for_find_ner(topic_entity=ner_pred,question=question,sub_map=sub_map,alias_map=alias_map)\n",
    "        ner_pred_rule2=rule2_for_find_ner(topic_entity=ner_pred,question=question,sub_map=sub_map,alias_map=alias_map)\n",
    "        if ner_pred_rule1 == topic_entity or ner_pred_rule2 == topic_entity:\n",
    "            TP+=1\n",
    "        else:\n",
    "            if ner_pred in alias_map or ner_pred in sub_map:\n",
    "                FP+=1#is a true entity in KG but not current example\n",
    "                FP_examples.append(example)\n",
    "            else:\n",
    "                FN+=1#is not a true entity\n",
    "                FN_examples.append(example)"
   ]
  },
  {
   "cell_type": "code",
   "execution_count": 149,
   "id": "827ff875",
   "metadata": {},
   "outputs": [
    {
     "name": "stdout",
     "output_type": "stream",
     "text": [
      "1977 7 16\n"
     ]
    }
   ],
   "source": [
    "print(TP,FP,FN)"
   ]
  },
  {
   "cell_type": "code",
   "execution_count": 150,
   "id": "818d3eb6",
   "metadata": {},
   "outputs": [
    {
     "name": "stdout",
     "output_type": "stream",
     "text": [
      "0.9919719016557953 0.9964717741935484 0.9942167462911742\n"
     ]
    }
   ],
   "source": [
    "recall=TP/(TP+FN)\n",
    "precision=TP/(TP+FP)\n",
    "f1=2*recall*precision/(recall+precision)\n",
    "print(recall,precision,f1)"
   ]
  },
  {
   "cell_type": "code",
   "execution_count": 151,
   "id": "118e9578",
   "metadata": {},
   "outputs": [
    {
     "data": {
      "text/plain": [
       "[{'id': 144,\n",
       "  'question': '你知道甑字的偏旁是什么吗？',\n",
       "  'answer': '甑 ||| 简体部首 ||| 瓦',\n",
       "  'ner_pred': ''},\n",
       " {'id': 195,\n",
       "  'question': '你什么时候参加的城市规划师考试的啊？',\n",
       "  'answer': '城市规划师 ||| 考试时间 ||| 10 月中旬',\n",
       "  'ner_pred': '城市规划师考试'},\n",
       " {'id': 293,\n",
       "  'question': '艾德盖恩：平原镇屠夫资源是什么类型？',\n",
       "  'answer': '艾德盖恩：平原镇屠夫 ||| 资源类型 ||| DVDRip',\n",
       "  'ner_pred': '艾德盖恩：平原镇屠夫资源'},\n",
       " {'id': 353,\n",
       "  'question': '第25届北京大学生电影节获得最佳男主角的详细资料有哪些？',\n",
       "  'answer': '第25届北京大学生电影节 ||| 最佳男主角 ||| 张震',\n",
       "  'ner_pred': '第25届北京大学生电影节获得最佳男主角'},\n",
       " {'id': 502,\n",
       "  'question': '天使投资印张一共有几个？',\n",
       "  'answer': '天使投资（2012年浙江人民出版社出版的图书） ||| 印张 ||| 19.5',\n",
       "  'ner_pred': '天使投资印张'},\n",
       " {'id': 567,\n",
       "  'question': '东北鼢鼠有什么天敌啊',\n",
       "  'answer': '东北鼢鼠（哺乳纲动物） ||| 天敌 ||| 猫、猫头鹰和蛇等',\n",
       "  'ner_pred': '东 北 鼠'},\n",
       " {'id': 659,\n",
       "  'question': '于鋆炜的拦网高度是多少',\n",
       "  'answer': '于鋆炜 ||| 拦网高度 ||| 300cm',\n",
       "  'ner_pred': '于 炜'},\n",
       " {'id': 712,\n",
       "  'question': '大佬们，《汉熹平石经残字集录》在哪个博物馆收藏的啊',\n",
       "  'answer': '《汉熹平石经残字集录》 ||| 所属博物馆 ||| 洛阳金石文字博物馆',\n",
       "  'ner_pred': '汉熹平石经残字集录'},\n",
       " {'id': 907,\n",
       "  'question': '10·26朴正熙遇刺事件有哪些人员',\n",
       "  'answer': '10·26朴正熙遇刺事件 ||| 主要人员 ||| 金载圭、朴正熙、车智澈',\n",
       "  'ner_pred': '10 · 26 朴 正 熙 遇 刺 案'},\n",
       " {'id': 1213,\n",
       "  'question': 'C大调弥撒资源是什么类型？',\n",
       "  'answer': 'C大调弥撒 ||| 资源类型 ||| APE',\n",
       "  'ner_pred': 'C大调弥撒资源'},\n",
       " {'id': 1260,\n",
       "  'question': '你知道夐字的偏旁是什么吗？',\n",
       "  'answer': '夐 ||| 简体部首 ||| 夂',\n",
       "  'ner_pred': ''},\n",
       " {'id': 1292,\n",
       "  'question': '你知道㮓的字形结构吗',\n",
       "  'answer': '㮓 ||| 字形结构 ||| 左中右结构',\n",
       "  'ner_pred': ''},\n",
       " {'id': 1463,\n",
       "  'question': 'F君得舅舅是谁呀',\n",
       "  'answer': 'F君（小说《我不喜欢这世界我只喜欢你》男主角） ||| 舅舅 ||| 费大川',\n",
       "  'ner_pred': 'F君得'},\n",
       " {'id': 1529,\n",
       "  'question': '请问慕容莎是什么时候出生的？',\n",
       "  'answer': '慕容莎 ||| 出生年份 ||| 公元390年',\n",
       "  'ner_pred': '请 容 莎'},\n",
       " {'id': 1819,\n",
       "  'question': '统计从业资格证考试的时间由谁确定？',\n",
       "  'answer': '统计从业资格证 ||| 考试时间 ||| 120分',\n",
       "  'ner_pred': '统计从业资格证考试'},\n",
       " {'id': 1956,\n",
       "  'question': '你知道㫃的字形结构吗',\n",
       "  'answer': '㫃 ||| 字形结构 ||| 左右结构',\n",
       "  'ner_pred': ''}]"
      ]
     },
     "execution_count": 151,
     "metadata": {},
     "output_type": "execute_result"
    }
   ],
   "source": [
    "FN_examples"
   ]
  },
  {
   "cell_type": "code",
   "execution_count": 153,
   "id": "a64c4ff6",
   "metadata": {},
   "outputs": [],
   "source": [
    "def rule1_for_find_ner(topic_entity,question,sub_map,alias_map):\n",
    "    '''\n",
    "    以topic_entity为起始点，往右边找\n",
    "    '''\n",
    "    assert topic_entity in question\n",
    "    start_idx=question.find(topic_entity)\n",
    "    end_idx=start_idx+len(topic_entity)\n",
    "    for i in range(end_idx,len(question)):\n",
    "        if question[start_idx:i] in sub_map or question[start_idx:i] in alias_map:\n",
    "            topic_entity=question[start_idx:i]\n",
    "            break\n",
    "    \n",
    "    return topic_entity\n",
    "\n",
    "def rule2_for_find_ner(topic_entity,question,sub_map,alias_map):\n",
    "    '''\n",
    "    以topic_entity为终止点，往左边找\n",
    "    '''\n",
    "    assert topic_entity in question\n",
    "    start_idx=question.find(topic_entity)\n",
    "    end_idx=start_idx+len(topic_entity)\n",
    "    for i in range(0,start_idx+1):\n",
    "        if question[i:end_idx] in sub_map or question[i:end_idx] in alias_map:\n",
    "            topic_entity=question[i:end_idx]\n",
    "            break\n",
    "    \n",
    "    return topic_entity\n",
    "\n",
    "def rule3_for_find_ner(topic_entity,question,sub_map,alias_map):\n",
    "    '''\n",
    "    以topic_entity中心，从左到右删除字符\n",
    "    '''\n",
    "    assert topic_entity in question\n",
    "    for i in range(len(topic_entity)):\n",
    "        if (topic_entity[i:] in sub_map or topic_entity[i:] in alias_map):\n",
    "            topic_entity=topic_entity[i:]\n",
    "            break\n",
    "    return topic_entity\n",
    "\n",
    "def rule4_for_find_ner(topic_entity,question,sub_map,alias_map):\n",
    "    '''\n",
    "    以topic_entity中心，从右到左删除字符\n",
    "    '''\n",
    "    assert topic_entity in question\n",
    "    for i in range(len(topic_entity),1):\n",
    "        if topic_entity[:i] in sub_map or topic_entity[:i] in alias_map:\n",
    "            topic_entity=topic_entity[:i]\n",
    "            break\n",
    "    return topic_entity\n"
   ]
  },
  {
   "cell_type": "code",
   "execution_count": 158,
   "id": "60409381",
   "metadata": {},
   "outputs": [
    {
     "data": {
      "text/plain": [
       "{'id': 353,\n",
       " 'question': '第25届北京大学生电影节获得最佳男主角的详细资料有哪些？',\n",
       " 'answer': '第25届北京大学生电影节 ||| 最佳男主角 ||| 张震',\n",
       " 'ner_pred': '第25届北京大学生电影节获得最佳男主角'}"
      ]
     },
     "execution_count": 158,
     "metadata": {},
     "output_type": "execute_result"
    }
   ],
   "source": [
    "i=3\n",
    "FN_examples[i]"
   ]
  },
  {
   "cell_type": "code",
   "execution_count": 155,
   "id": "e90ce975",
   "metadata": {},
   "outputs": [
    {
     "name": "stdout",
     "output_type": "stream",
     "text": [
      "艾德盖恩：平原镇屠夫资源 艾德盖恩：平原镇屠夫资源是什么类型？\n"
     ]
    }
   ],
   "source": [
    "topic_entity=FN_examples[i]['ner_pred']\n",
    "question=FN_examples[i]['question']\n",
    "print(topic_entity,question)"
   ]
  },
  {
   "cell_type": "code",
   "execution_count": 156,
   "id": "fb3eaf78",
   "metadata": {},
   "outputs": [
    {
     "data": {
      "text/plain": [
       "'资源'"
      ]
     },
     "execution_count": 156,
     "metadata": {},
     "output_type": "execute_result"
    }
   ],
   "source": [
    "rule3_for_find_ner(topic_entity,question,sub_map,alias_map)"
   ]
  },
  {
   "cell_type": "code",
   "execution_count": 157,
   "id": "5784b36d",
   "metadata": {},
   "outputs": [
    {
     "data": {
      "text/plain": [
       "'艾德盖恩：平原镇屠夫资源'"
      ]
     },
     "execution_count": 157,
     "metadata": {},
     "output_type": "execute_result"
    }
   ],
   "source": [
    "rule4_for_find_ner(topic_entity,question,sub_map,alias_map)"
   ]
  },
  {
   "cell_type": "code",
   "execution_count": 215,
   "id": "91221e2f",
   "metadata": {},
   "outputs": [
    {
     "name": "stdout",
     "output_type": "stream",
     "text": [
      "The number examples: 9553 from ../../data/nlpcc2018/test.txt\n"
     ]
    }
   ],
   "source": [
    "def read_data_nlpcc(data_path):\n",
    "    with open(data_path) as f:\n",
    "        lines=f.readlines()\n",
    "\n",
    "    examples=[]\n",
    "    for line in lines:\n",
    "        examples.append(json.loads(line.strip()))\n",
    "    \n",
    "    print(\"The number examples: {} from {}\".format(len(examples),data_path))\n",
    "    return examples\n",
    "\n",
    "data=read_data_nlpcc('../../data/nlpcc2018/test.txt')"
   ]
  },
  {
   "cell_type": "code",
   "execution_count": 216,
   "id": "d439ab3a",
   "metadata": {},
   "outputs": [
    {
     "data": {
      "text/plain": [
       "{'question': '你知道计算机应用基础这本书的作者是谁吗？', 'answer': '计算机应用基础 ||| 作者 ||| 秦婉，王蓉'}"
      ]
     },
     "execution_count": 216,
     "metadata": {},
     "output_type": "execute_result"
    }
   ],
   "source": [
    "data[0]"
   ]
  },
  {
   "cell_type": "code",
   "execution_count": 217,
   "id": "cd7e086f",
   "metadata": {},
   "outputs": [],
   "source": [
    "data_type='nlpcc'\n",
    "bad_examples=[]\n",
    "left_examples=[]\n",
    "for example in data:\n",
    "    answer=example['answer']\n",
    "    question=example['question']\n",
    "\n",
    "    topic_entity=answer.split('|||')[0].strip()\n",
    "    if ('（' in topic_entity and '）' in topic_entity):\n",
    "        topic_entity=topic_entity.split('（')[0]\n",
    "\n",
    "    try:\n",
    "        assert topic_entity in question\n",
    "        left_examples.append(example)\n",
    "    except:\n",
    "        #print(example,topic_entity)\n",
    "        #raise Exception(\"check\")\n",
    "        bad_examples.append(example)"
   ]
  },
  {
   "cell_type": "code",
   "execution_count": 218,
   "id": "0655377c",
   "metadata": {},
   "outputs": [
    {
     "name": "stdout",
     "output_type": "stream",
     "text": [
      "0 9553\n"
     ]
    }
   ],
   "source": [
    "print(len(bad_examples),len(left_examples))"
   ]
  },
  {
   "cell_type": "code",
   "execution_count": null,
   "id": "27b3774f",
   "metadata": {},
   "outputs": [],
   "source": []
  },
  {
   "cell_type": "code",
   "execution_count": null,
   "id": "2f90960e",
   "metadata": {},
   "outputs": [],
   "source": []
  },
  {
   "cell_type": "code",
   "execution_count": 197,
   "id": "a926bd9a",
   "metadata": {},
   "outputs": [
    {
     "data": {
      "text/plain": [
       "[{'question': '万达的总部在哪',\n",
       "  'answer': '万达广场 ||| 总部地点 ||| 重庆市南岸区江南大道8号（重庆万达）/重庆市万州区北滨路（万州万达）'},\n",
       " {'question': '郑州驱逐舰型号是什么有人知道吗', 'answer': '郑州号导弹驱逐舰 ||| 型号 ||| 国产052c型'},\n",
       " {'question': '笑傲江湖是什么语种的电视剧', 'answer': '《笑傲江湖》 ||| 语言版本 ||| 粤语、普通话'},\n",
       " {'question': '我想问一下多沦落猛龙队是啥时候建立的？', 'answer': '多伦多猛龙队 ||| 成立时间 ||| 1980年'},\n",
       " {'question': '梁氏从何起源？', 'answer': '梁氏起源 ||| 起源 ||| 自赢姓'},\n",
       " {'question': '类胡萝卜识别码是多少？', 'answer': '类胡萝卜素 ||| 识别 ||| 116-31-4'},\n",
       " {'question': '海地人是什么种族的？', 'answer': '海底人 ||| 种族 ||| 蛤蟆人'},\n",
       " {'question': '格兰仕kfr-32gw/dlp45-130的空调匹数是多少？',\n",
       "  'answer': '格兰仕kfr-32gw/dlp45-130(2) ||| 空调匹数 ||| ：小1.5p'},\n",
       " {'question': '陶圆梦的品质如何？', 'answer': '陶园梦 ||| 品质 ||| 精选最上等的高原牦牛骨粉'},\n",
       " {'question': 'hp pavilion dv2304tx的显示屏是什么尺寸的？',\n",
       "  'answer': 'hp pavilion dv2304tx(gc235pa) ||| 显示屏尺寸 ||| intel'},\n",
       " {'question': '请问史蒂芬霍金的著名成就是什么？',\n",
       "  'answer': '史蒂芬·霍金 ||| 著名成就 ||| 霍金辐射 彭罗斯–霍金奇性定理（英语：penrose–hawking singularity theorems） 《时间简史：从大爆炸到黑洞》'},\n",
       " {'question': '请问einecs登录号是什么啊？', 'answer': '硫化钠 ||| einecs登录号 ||| 215-211-5'},\n",
       " {'question': '伊普利的装备如何？', 'answer': '伊普利斯 ||| 装备 ||| 使你造成致命一击的几率提高1%'},\n",
       " {'question': '三角函数的万能公式是什么？',\n",
       "  'answer': '三角函数万能公式 ||| 公式 ||| (sinα)^2+(cosα)^2=1'},\n",
       " {'question': '啦啦啦德玛西亚的站点是什么？', 'answer': '啦啦啦德玛西亚4 ||| 站点 ||| ：4399小游戏'},\n",
       " {'question': '蛇夫座的半径是多少？',\n",
       "  'answer': '蛇夫座36 ||| 半径 ||| 0.817 ± 0.016/0.81/0.72 r☉'},\n",
       " {'question': '请问3·10云南盈江地的伤亡人数是多少？',\n",
       "  'answer': '3·10云南盈江地震 ||| 伤亡人数 ||| 25人死亡，250多人受伤'},\n",
       " {'question': '请问萨拉托加号航母可以载多少人呀？', 'answer': '萨拉托加号航空母舰 ||| 人员编制 ||| 2122人'},\n",
       " {'question': '谁能告诉我吉利英伦金刚2010款vvt1.5mt无敌版的排气量是多少？',\n",
       "  'answer': '吉利英伦金刚 2010款 vvt 1.5 mt 无敌版 ||| 排量 ||| 1.5l'},\n",
       " {'question': '我想知道第十一届运动会有多少项目？',\n",
       "  'answer': '中华人民共和国第十一届运动会 ||| 比赛项目 ||| 33个大项 362个小项'},\n",
       " {'question': '请问在中国盛行哪些宗教？',\n",
       "  'answer': '中华人民共和国 ||| 主要宗教 ||| 佛教，道教，伊斯兰教，天主教，基督教'},\n",
       " {'question': '你知道罗斯福号航母上的飞机是哪种吗？',\n",
       "  'answer': '罗斯福号航空母舰 ||| 舰载机 ||| 90架固定翼及直升机'},\n",
       " {'question': '啥时候把约克城号航母注销的？', 'answer': '约克城号航空母舰 ||| 除籍 ||| 1942年10月2日'},\n",
       " {'question': '？？？？？？？？？？？？？？？？？？？？？？？？？？？？？？？？？？？？？？',\n",
       "  'answer': '安徽省财政一般性转移支付资金管理办法 ||| 印发时间 ||| 安徽省人民政府办公厅'},\n",
       " {'question': '？？？？？？？？？？？？？？？？？？？？？？？？？？？？？？？？？？',\n",
       "  'answer': '埃迪森·托洛扎 ||| 2012 ||| 0'},\n",
       " {'question': '？？？？？？？？？？？？？？？？？？？？？？？？？？？？？？？？？？？？？？？？',\n",
       "  'answer': '地理知识手册高中 ||| 下载次数 ||| 2012-09-04'},\n",
       " {'question': '谁知道reina电力动车组的宽度是多少？',\n",
       "  'answer': 'regina电力动车组 ||| 车辆宽度 ||| 3450 mm'},\n",
       " {'question': '有人能告诉我苹果都有哪些功效吗？',\n",
       "  'answer': '苹果功效 ||| 功 效 ||| 降低胆固醇，\\u200b降血压，防癌等'},\n",
       " {'question': '？？？？？？？？？？？？？？？？？？？？？？？？？？？？？？？？？？？？？',\n",
       "  'answer': '望表 ||| 词语 ||| 望表'},\n",
       " {'question': '请问荣耀xl是什么时候曝光的？', 'answer': '荣耀x1 ||| 曝光日期 ||| 2014年'},\n",
       " {'question': '请问什么叫做描声舞？', 'answer': '什么叫描声舞 ||| 类似 ||| 我国少数民族的巫术动作'},\n",
       " {'question': '请问阳痿是属于哪种疾病？', 'answer': '阳萎 ||| 疾病分类 ||| 内科—肾系病证'},\n",
       " {'question': '请问是用什么做成的？', 'answer': '利盟 s408 ||| 耗材类型 ||| 分体式墨盒'},\n",
       " {'question': '厄立特利里亚的海岸线有多长？', 'answer': '厄立特里亚 ||| 海岸线 ||| 2234公里'},\n",
       " {'question': '方正圆明hr580的标准内存容量有多大？',\n",
       "  'answer': '方正圆明 hr580 ||| 标准内存容量 ||| 4gb'},\n",
       " {'question': '中国大学声誉榜榜首是哪个大学？', 'answer': '中国大学声誉排行榜50强 ||| 第一名 ||| 清华大学'},\n",
       " {'question': '慈溪最初旗籍是什么？', 'answer': '慈禧 ||| 旗籍 ||| 满洲镶蓝旗（后抬入镶黄旗）'},\n",
       " {'question': '你知道慈式塔是在哪一年重修的吗？', 'answer': '慈氏塔 ||| 重修 ||| 北宋治平三年(1066年)'},\n",
       " {'question': '谁知道在2002年6月10日的日食中日食阴影面积有多大？',\n",
       "  'answer': '2002年6月10日日食 ||| 影子直径 ||| 13公里'},\n",
       " {'question': '请问中国第九届大运会有多少人参赛？',\n",
       "  'answer': '中华人民共和国第九届大学生运动会 ||| 参赛运动员 ||| 6000名'},\n",
       " {'question': '哥伦比亚男足的fifa代码是多少有人知道吗？',\n",
       "  'answer': '哥伦比亚国家男子足球队 ||| fifa代码 ||| col'},\n",
       " {'question': '请问2012年第三届中国锡林郭勒国际煤炭工业博览会什么时候开幕吗？',\n",
       "  'answer': '2012第三届中国锡林郭勒国际煤炭工业博览会 ||| 开幕时间 ||| 2012年6月14日'},\n",
       " {'question': '我想知道司马前镇的书记是谁？', 'answer': '司门前镇 ||| 书记 ||| 刘界夫 [1]'},\n",
       " {'question': '请问中国社科院新闻与传播研究所的上级机关是什么？',\n",
       "  'answer': '中国社会科学院新闻与传播研究所 ||| 上级机关 ||| 社会科学院'},\n",
       " {'question': '我很好奇苍山越桔（原亚种）在国内分布在哪里？',\n",
       "  'answer': '苍山越桔(原亚种) ||| 国内分布 ||| 川，滇，藏'},\n",
       " {'question': '我想知道三峡水利工程花了多少钱？',\n",
       "  'answer': '长江三峡水利枢纽工程 ||| 耗资 ||| ¥1800亿 (美元$260亿)'},\n",
       " {'question': '中国国航的icao代码是多少有人知道吗？',\n",
       "  'answer': '中国国际航空股份有限公司 ||| icao代码 ||| cca'},\n",
       " {'question': '你知道中国国家安全部的业务上级机构是什么吗？',\n",
       "  'answer': '中华人民共和国国家安全部 ||| 业务上级机构 ||| 中央国家安全工作领导小组'},\n",
       " {'question': '你知道华联商业家南北向宽多少吗？', 'answer': '华联商业街 ||| 南北宽 ||| 160多米，'},\n",
       " {'question': '清华工程物理学有哪些下属你知道吗？',\n",
       "  'answer': '清华大学工程物理系 ||| 下属 ||| 6个研究所，1个教育部重点实验室'},\n",
       " {'question': '你知道阿伯丁的捐赠基金是多少吗？',\n",
       "  'answer': '阿伯丁大学 ||| 捐赠基金 ||| 29.2 m 英镑 [2]'},\n",
       " {'question': '你知道闽清县地税局是什么时候组建的吗？', 'answer': '闽清县地方税务局 ||| 组建于 ||| 1994年8月'},\n",
       " {'question': '我想知道11eyes -罪与罚与赎的少女有没有讯息略过？',\n",
       "  'answer': '11eyes -罪与罚与赎的少女- ||| 讯息略过 ||| 有（pc、ios）'},\n",
       " {'question': '谁知道济青高铁投资了多少钱？', 'answer': '济青高速铁路 ||| 投资总额 ||| 600亿元'},\n",
       " {'question': '你知道胶济客远专线是什么时候开工的吗？',\n",
       "  'answer': '胶济客运专线 ||| 开工时间 ||| 2007年1月8日'},\n",
       " {'question': '请问澳大利亚国族的最佳成绩是什么？',\n",
       "  'answer': '澳大利亚国家足球队 ||| 最佳成绩 ||| 八分之一决赛，2006年'},\n",
       " {'question': '请问超烂减肥法在哪里比较流行？', 'answer': '超懒减肥法 ||| 流行 ||| 网络'},\n",
       " {'question': '谁知道广元市是什么时候开馆的？', 'answer': '广元市美术馆 ||| 开馆时间 ||| 2013年12月28日'},\n",
       " {'question': '你知道西安交大医学院第二附属医院在哪吗？',\n",
       "  'answer': '西安交通大学医学院第二附属医院 ||| 医院地址 ||| 西安市新城区北大街西五路157号'},\n",
       " {'question': '请问地牢猎手2是什么语言的？', 'answer': '地牢猎人2 ||| 语言种类 ||| 英文 中文'},\n",
       " {'question': '你知道山海一家三七是时候竣工的吗？', 'answer': '山海一家三期 ||| 竣工时间 ||| 2005年'},\n",
       " {'question': '请问安徽师大心理研究会有多少会员？', 'answer': '安徽师范大学心理研究会 ||| 会员人数 ||| 600人'},\n",
       " {'question': '你知道长江之星号邮轮的造型是怎样的吗？', 'answer': '长江之星号游轮 ||| 造型 ||| 幽雅别'},\n",
       " {'question': '请问创亿bic-21/24c用的是什么类型的墨盒？',\n",
       "  'answer': '创亿 bic-21/24c ||| 墨盒类型 ||| 彩色'},\n",
       " {'question': '我想知道进行潢尺蛾东北亚种属于什么目？', 'answer': '金星潢尺蛾东北亚种 ||| 目名 ||| 鳞翅目'},\n",
       " {'question': '请问港科大一共有多少人？', 'answer': '香港科技大学 ||| 总人数 ||| 12584人'},\n",
       " {'question': '谁知道9.18公务员连考的程序？', 'answer': '9.18公务员联考 ||| 程序 ||| 报考'},\n",
       " {'question': '请问独立号航母有什么导弹武器？',\n",
       "  'answer': '独立号航空母舰 ||| 导弹武器 ||| 2门4联装40毫米高射炮'},\n",
       " {'question': '你知道神圣不列颠国出自哪里吗？',\n",
       "  'answer': '神圣不列颠帝国 ||| 出 自 ||| 《codegeass造反的巴力尔特》'},\n",
       " {'question': '请问中国国足的fifa排名是多少？',\n",
       "  'answer': '中国国家足球队 ||| fifa排名 ||| 96（2015年1月）'},\n",
       " {'question': '请问综漫只数据后宫属于什么小说子类？', 'answer': '综漫之数据后宫 ||| 小说子类 ||| 动漫同人'},\n",
       " {'question': '请问东阿阿胶怎么保存？', 'answer': '东阿阿胶浆 ||| 贮藏方法 ||| 置阴凉、干燥处'},\n",
       " {'question': '你知道润滑水设备的耗电量是多少吗?', 'answer': '软化水设备 ||| 耗电量 ||| 20w/d'},\n",
       " {'question': '请问大同一中有多少学生？', 'answer': '大同市第一中学 ||| 学生数 ||| 8000余名'},\n",
       " {'question': '我很好奇基隆市立安乐高中的校园占地多少？',\n",
       "  'answer': '基隆市立安乐高级中学 ||| 校地面积 ||| 38590平方公尺'},\n",
       " {'question': '请问中国农大峰云社设计什么项目？',\n",
       "  'answer': '中国农业大学峰云社 ||| 涉及项目 ||| 雪山攀登、人文科考、冬训、日常登山拉练'},\n",
       " {'question': '我很好奇四川师大学生公寓自管委员会的指导老师是谁？',\n",
       "  'answer': '四川师范大学学生公寓自管委员会 ||| 指导老师 ||| 刘英'},\n",
       " {'question': '请问独立号航母的续航力怎么样？', 'answer': '独立号航空母舰 ||| 续航力 ||| 12500千米'},\n",
       " {'question': '我很好奇跳棋演变的成果是什么？', 'answer': '跳棋演讲 ||| 成果 ||| 尼克松有共和党副总统候选人资格'},\n",
       " {'question': '谁知道金泵是什么意思？', 'answer': '金汞 ||| 基本释义 ||| 道家所炼丹药名'},\n",
       " {'question': '请问上海华润置地中央公寓是什么类型的物业？',\n",
       "  'answer': '上海华润置地中央公园 ||| 物业类型 ||| 公寓，别墅'},\n",
       " {'question': '请问萨拉托加号航母有其他武器吗？', 'answer': '萨拉托加号航空母舰 ||| 其他武器 ||| 24挺.50机枪'},\n",
       " {'question': '有人知道海城市岔沟镇庞家店小学的办学思想是怎样的吗？',\n",
       "  'answer': '海城市岔沟镇庞家店小学校 ||| 办学思想 ||| 面向全体，全面提高'},\n",
       " {'question': '请问华东师大研究生院设了几个博士后流动站？',\n",
       "  'answer': '华东师范大学研究生院 ||| 设有 ||| 18个博士后流动站'},\n",
       " {'question': '谁知道留存收益抽次有什么优点？', 'answer': '留存收益筹资 ||| 优 点 ||| 不发生实际的现金支出'},\n",
       " {'question': '请问翁通瓜哇环礁属于哪个群岛？', 'answer': '翁通爪哇环礁 ||| 所属群岛 ||| 所罗门群岛'},\n",
       " {'question': '请问独立号航母有多少舰载机？',\n",
       "  'answer': '独立号航空母舰 ||| 舰载机 ||| 12架战机、9架鱼雷轰炸机、9架俯冲轰炸机'},\n",
       " {'question': '请问Intel奔腾双核e5400是什么类型的核心？',\n",
       "  'answer': 'intel奔腾双核e5400 ||| 核心类型 ||| wolfdale'},\n",
       " {'question': '请问iPad的输入方式有什么？',\n",
       "  'answer': 'ipad ||| 输入 ||| 多点触摸屏、线控设备、接近和环境光源感应器、三轴加速规、三轴陀螺仪、数字罗盘'},\n",
       " {'question': '请问浙江省征兵实施办法是什么时候开始执行的？',\n",
       "  'answer': '浙江省征兵工作实施办法 ||| 执行时间 ||| 1990年11月16日'},\n",
       " {'question': '你知道传播返修率的指标是什么吗？', 'answer': '船舶返修率 ||| 指标 ||| 衡量船舶修理质量'},\n",
       " {'question': '我很好奇奔驰s级2010款s600l是怎样的生产状态？',\n",
       "  'answer': '奔驰s级2010款 s600l ||| 生产状态 ||| 停产'},\n",
       " {'question': '奈沃科分针对哪些人群有人知道吗？', 'answer': '奈沃科粉 ||| 针对人群 ||| 容易疲劳和缺氧的人群'},\n",
       " {'question': '请问黄山宝来半岛酒店有哪些设施？',\n",
       "  'answer': '黄山宝莱半岛酒店 ||| 酒店设施 ||| 洗衣服务、商务中心、会议室'},\n",
       " {'question': '炊事班的故事的对白是什么语言？', 'answer': '炊事班的故事1 ||| 对白 ||| 普通话、方言'},\n",
       " {'question': '你知道好像你里面有防腐剂吗？', 'answer': '好想你 ||| 是否含防腐剂 ||| 否'},\n",
       " {'question': '我想知道潘多拉之心的原版叫什么名字？',\n",
       "  'answer': '潘朵拉之心 ||| 原版名称 ||| パンドラハーツ(pandora hearts)'},\n",
       " {'question': '请问天平镇的行政区划代码是多少？', 'answer': '太平镇 ||| 行政区划代码 ||| 440184111'},\n",
       " {'question': '你知道玉琼的字号是多少吗？', 'answer': '王琼 ||| 字号 ||| 良玉'},\n",
       " {'question': '请问中心区的邮政区码是多少？', 'answer': '中心村 ||| 邮政区码 ||| 426100'},\n",
       " {'question': '我想请问分子量是多少？', 'answer': '三甲双酮 ||| 分子量 ||| 143.15'},\n",
       " {'question': '你知道中国福彩的宗旨是什么吗？', 'answer': '中国福利彩票 ||| 宗旨 ||| 扶老、助残、救孤、济困'},\n",
       " {'question': '你知道神雕侠侣是哪个电影公司的吗？', 'answer': '《神雕侠侣》 ||| 电影公司 ||| 香港tvb'},\n",
       " {'question': '我很好奇4399的总部在哪？',\n",
       "  'answer': '4399在线游戏 ||| 总部所在地 ||| 福建省厦门市思明区软件园二期望海路2号楼'},\n",
       " {'question': '你知道的近日点有多远吗？', 'answer': '金星 ||| 近日点 ||| 107,476,259千米'},\n",
       " {'question': '富士康的主芯片组是什么你知道吗？',\n",
       "  'answer': '富士康a7da-s ||| 主芯片组 ||| amd\\xa0790gx'},\n",
       " {'question': '中国重汽集团的主管单位是哪里你知道吗？',\n",
       "  'answer': '中国重型汽车集团有限公司 ||| 主管单位 ||| 山东省国资委'},\n",
       " {'question': '你知道Windows phone的最新版本是什么吗？',\n",
       "  'answer': 'windows phone ||| 最新版本 ||| windows phone 8.1 update1（预览版）'},\n",
       " {'question': '你知道上海戏剧学院附属高中是什么性质的吗？',\n",
       "  'answer': '上海戏剧学院附属高级中学 ||| 学校属性 ||| 区实验性示范性高中[1]'},\n",
       " {'question': '你知道吴思军在哪个医院吗？', 'answer': '吴四军 ||| 医院 ||| 北京大学首钢医院'},\n",
       " {'question': '互联网的背景是什么？', 'answer': '互联网+ ||| 背景 ||| 互联网企业的成功与辉煌'},\n",
       " {'question': '《九龙巴士5a线》使用的是什么平台语言开发？', 'answer': '鱼雷战记无名 ||| 其他平台 ||| java'},\n",
       " {'question': '陵区国家税务局有多少干部职工？', 'answer': '夷陵区国家税务局 ||| 干部职工 ||| 247人'},\n",
       " {'question': '武林外史的评分是多少？', 'answer': '武林外史中 ||| 多看评分 ||| 9.5'},\n",
       " {'question': '你知道南宋官窑瓷的得名由来吗？', 'answer': '仿南宋官窑瓷 ||| 得名 ||| 南宋官窑专为皇宫烧制瓷器'},\n",
       " {'question': '狗号码通是什么时候开发的？', 'answer': '搜狗号码通 ||| 开发时间 ||| 2012年'},\n",
       " {'question': '你知道金海花园知的周边有哪些小学吗？',\n",
       "  'answer': '金海花园知寓 ||| 周边配套 ||| :星火小学，七里塘小学'},\n",
       " {'question': '2011年《金融时报》全球500强排名的发行国家是什么？',\n",
       "  'answer': '2011年《金融时报》全球500强排名 (101-200) ||| country ||| us'},\n",
       " {'question': '台湾的经济收入是多少？', 'answer': '台湾经济 ||| 收入 ||| $762亿美元(2007年)'},\n",
       " {'question': '州市瑞德塑料机械厂需要多少注册资本？', 'answer': '胶州市瑞德塑料机械厂 ||| 注册资本 ||| 无需验资'},\n",
       " {'question': '如何治理雾霾？', 'answer': '雾霾治理 ||| 治理 ||| 减少排放 \\xa0负离子治理'},\n",
       " {'question': '你记得CSA的成立时间吗？', 'answer': 'csa ||| 成立时间 ||| 1998.07'},\n",
       " {'question': '有人知道林润婀的本名吗？', 'answer': '林润妸 ||| 本名 ||| 林允儿'},\n",
       " {'question': '笑傲江湖的导演是谁来着？', 'answer': '《笑傲江湖》 ||| 导演 ||| 胡意涓, 黄俊文'},\n",
       " {'question': '你了解山寺处于哪个时代吗?', 'answer': '南山寺 ||| 时代 ||| 唐代'},\n",
       " {'question': '张家庄村有什么人物吗？', 'answer': '张老庄村 ||| 人物 ||| 段庆香 杜聿明'},\n",
       " {'question': '应用层级 的(*@ο@*) 哇～嗯是55', 'answer': 'skf6211轴承 ||| 轴承内径 ||| 55'},\n",
       " {'question': 'tcl 71的频率是多少？', 'answer': 'tcl 718 ||| 频率 ||| gsm 900/1800mhz'},\n",
       " {'question': '中国2014年青岛世界园艺博览的名称叫什么？',\n",
       "  'answer': '中国2014年青岛世界园艺博览会 ||| 展会名称 ||| 2014青岛世界园艺博览会'},\n",
       " {'question': '三届山东文化产业博览交易会在哪里举办？',\n",
       "  'answer': '第三届山东文化产业博览交易会 ||| 地 点 ||| 济南国际会展中心'},\n",
       " {'question': '阀门ce在相关领域有认证技术要求吗？', 'answer': '阀门ce认证技术要求 ||| 相关领域 ||| 技术认证'},\n",
       " {'question': '安溪县第六中校园面积多大？', 'answer': '安溪县第六中学 ||| 校园 ||| 占地8万多平方米'},\n",
       " {'question': '你知道与轴向加速相关的学科吗？', 'answer': '轴向加速度 ||| 相关学科 ||| 线性代数 物理学'},\n",
       " {'question': '请问变形记还在播出吗？', 'answer': '变形计 ||| 播出状态 ||| 播出中'},\n",
       " {'question': '你知道科密小秘书的碎纸效果的多少吗？', 'answer': '科密小秘书t10 ||| 碎纸效果 ||| 4x35mm'},\n",
       " {'question': '请问 江·战国三公主在港澳什么台播放？',\n",
       "  'answer': '江～公主们的战国～ ||| 港澳 ||| 江·战国三公主（有线娱乐台）'},\n",
       " {'question': '请问石头的农历生日时间是什么？', 'answer': '石头生日 ||| 农历日期 ||| 正月初十'},\n",
       " {'question': '你知道并联电容器的设计规范是由哪里部门批准的吗？',\n",
       "  'answer': '并联电容器装置设计规范 ||| 批准部门 ||| 中华人民共和国建设部'},\n",
       " {'question': '你知道青岛的博文小学总共有多大面积？',\n",
       "  'answer': '青岛博文小学 ||| 学校占地面积 ||| 32617平方米'},\n",
       " {'question': '很好奇“和”字这种书法纪念币是由谁发行的？',\n",
       "  'answer': '“和”字书法——行书普通纪念币 ||| 发行单位 ||| 中国人民银行'},\n",
       " {'question': '盐城市的好梦缘是个什么样的公司？',\n",
       "  'answer': '盐城市好梦缘商贸有限公司 ||| 专业从事 ||| 酒水销售的大型商贸公司'},\n",
       " {'question': '请问与天才有关的词语是什么？', 'answer': '天赋 ||| 相关词语 ||| 天才；天生'},\n",
       " {'question': '你知道世界计算机500强第二名叫什么吗?',\n",
       "  'answer': '世界超级计算机500强 ||| 第二名 ||| 泰坦（美国）每秒1.76亿亿次'},\n",
       " {'question': '请问罪与罚与赎的少女能更改角色名吗？',\n",
       "  'answer': '11eyes -罪与罚与赎的少女- ||| 角色名设置 ||| 不可'},\n",
       " {'question': '请问哈拉斯之剑有职业限制吗？', 'answer': '传承：哈拉斯之剑 ||| 职业限制 ||| ：鬼剑士'},\n",
       " {'question': '慧炬威闪绝密防盗u盘兼容什么系统操作？',\n",
       "  'answer': '慧炬威闪绝密防盗u盘(8gb) ||| 兼容操作系统 ||| windows 98/98se/me/xp/'},\n",
       " {'question': '惠普designjet z6200是什么类型的打印机？',\n",
       "  'answer': '惠普designjet z6200(cq111a) ||| 打印机类型 ||| 大幅面打印机'},\n",
       " {'question': '中国电子m5支持电子书功能吗？', 'answer': '中国电子m5(8gb) ||| 电子书功能 ||| 支持'},\n",
       " {'question': 'pcm king 1000al在多长时间内转换？',\n",
       "  'answer': 'pcm king 1000al (直流24v) ||| 转换时间 ||| 2 - 4毫秒'}]"
      ]
     },
     "execution_count": 197,
     "metadata": {},
     "output_type": "execute_result"
    }
   ],
   "source": [
    "bad_examples"
   ]
  },
  {
   "cell_type": "code",
   "execution_count": null,
   "id": "7f228825",
   "metadata": {},
   "outputs": [],
   "source": []
  },
  {
   "cell_type": "code",
   "execution_count": null,
   "id": "52eb7816",
   "metadata": {},
   "outputs": [],
   "source": []
  },
  {
   "cell_type": "code",
   "execution_count": null,
   "id": "e282bba7",
   "metadata": {},
   "outputs": [],
   "source": []
  },
  {
   "cell_type": "code",
   "execution_count": null,
   "id": "79af3e8a",
   "metadata": {},
   "outputs": [],
   "source": []
  },
  {
   "cell_type": "code",
   "execution_count": 142,
   "id": "0efeae3c",
   "metadata": {},
   "outputs": [
    {
     "data": {
      "text/plain": [
       "set()"
      ]
     },
     "execution_count": 142,
     "metadata": {},
     "output_type": "execute_result"
    }
   ],
   "source": [
    "sub_map['迹象展览']"
   ]
  },
  {
   "cell_type": "code",
   "execution_count": 159,
   "id": "88485421",
   "metadata": {},
   "outputs": [
    {
     "data": {
      "text/plain": [
       "set()"
      ]
     },
     "execution_count": 159,
     "metadata": {},
     "output_type": "execute_result"
    }
   ],
   "source": [
    "sub_map['康熙字典']"
   ]
  },
  {
   "cell_type": "code",
   "execution_count": 160,
   "id": "6fcded16",
   "metadata": {},
   "outputs": [
    {
     "data": {
      "text/plain": [
       "{'康熙字典（清代康熙时期的一种字典）'}"
      ]
     },
     "execution_count": 160,
     "metadata": {},
     "output_type": "execute_result"
    }
   ],
   "source": [
    "alias_map['康熙字典']"
   ]
  },
  {
   "cell_type": "code",
   "execution_count": null,
   "id": "be26f0f9",
   "metadata": {},
   "outputs": [],
   "source": []
  },
  {
   "cell_type": "code",
   "execution_count": null,
   "id": "81a4eca6",
   "metadata": {},
   "outputs": [],
   "source": []
  },
  {
   "cell_type": "code",
   "execution_count": null,
   "id": "97bbd1ee",
   "metadata": {},
   "outputs": [],
   "source": []
  },
  {
   "cell_type": "code",
   "execution_count": 112,
   "id": "208a1af6",
   "metadata": {},
   "outputs": [
    {
     "data": {
      "text/plain": [
       "'宪法号博物馆'"
      ]
     },
     "execution_count": 112,
     "metadata": {},
     "output_type": "execute_result"
    }
   ],
   "source": [
    "topic_entity"
   ]
  },
  {
   "cell_type": "code",
   "execution_count": 113,
   "id": "ebfddca5",
   "metadata": {},
   "outputs": [
    {
     "data": {
      "text/plain": [
       "'宪法号博物馆'"
      ]
     },
     "execution_count": 113,
     "metadata": {},
     "output_type": "execute_result"
    }
   ],
   "source": [
    "ner_pred"
   ]
  },
  {
   "cell_type": "code",
   "execution_count": null,
   "id": "80021886",
   "metadata": {},
   "outputs": [],
   "source": []
  },
  {
   "cell_type": "code",
   "execution_count": 57,
   "id": "88db5dd1",
   "metadata": {},
   "outputs": [
    {
     "data": {
      "text/plain": [
       "False"
      ]
     },
     "execution_count": 57,
     "metadata": {},
     "output_type": "execute_result"
    }
   ],
   "source": [
    "'agustin isunza' in 'Agustín Isunza有哪些合作导演'.lower()"
   ]
  },
  {
   "cell_type": "code",
   "execution_count": 75,
   "id": "f5dd77d6",
   "metadata": {},
   "outputs": [
    {
     "data": {
      "text/plain": [
       "'委员会'"
      ]
     },
     "execution_count": 75,
     "metadata": {},
     "output_type": "execute_result"
    }
   ],
   "source": [
    "zhconv.convert('委员會','zh-hans')"
   ]
  },
  {
   "cell_type": "code",
   "execution_count": 87,
   "id": "7abb1574",
   "metadata": {},
   "outputs": [
    {
     "data": {
      "text/plain": [
       "'Agustín Isunza'"
      ]
     },
     "execution_count": 87,
     "metadata": {},
     "output_type": "execute_result"
    }
   ],
   "source": [
    "final_rule(question='Agustín Isunza有哪些合作导演',ner_pred='agustin isunza')"
   ]
  },
  {
   "cell_type": "code",
   "execution_count": 103,
   "id": "1dd38932",
   "metadata": {},
   "outputs": [
    {
     "data": {
      "text/plain": [
       "[{'id': 0,\n",
       "  'question': '你知道长江武汉航道局管多少个地方吗？',\n",
       "  'answer': '长江武汉航道局 ||| 管辖 ||| 715.2公里',\n",
       "  'ner_pred': '长江武汉航道局管'},\n",
       " {'id': 1,\n",
       "  'question': '东瓯王发生的主要事件是什么？',\n",
       "  'answer': '东瓯王 ||| 主要事件 ||| 抗秦反秦，助汉击楚。',\n",
       "  'ner_pred': '东瓯王发'},\n",
       " {'id': 2,\n",
       "  'question': '山西省铸造新工艺工程技术研究中心是什么的管辖的啊？',\n",
       "  'answer': '山西省铸造新工艺工程技术研究中心 ||| 机构类型 ||| 研究开发机构',\n",
       "  'ner_pred': '山西省铸造新工艺工程技术研究中心是'},\n",
       " {'id': 3,\n",
       "  'question': '你知道谁是丘堤的儿媳吗',\n",
       "  'answer': '丘堤 ||| 儿媳 ||| 籍虹',\n",
       "  'ner_pred': '丘堤的'},\n",
       " {'id': 4,\n",
       "  'question': '国民军参与过什么战争？',\n",
       "  'answer': '国民军 ||| 参与战争 ||| 直奉战争、北伐战争、中原大战、抗日战争',\n",
       "  'ner_pred': '国民军参'},\n",
       " {'id': 5,\n",
       "  'question': '你知道诺基亚lumia1320的主屏尺寸是多少吗？',\n",
       "  'answer': '诺基亚lumia1320 ||| 主屏尺寸 ||| 6英寸',\n",
       "  'ner_pred': '诺基亚lumia1320的'},\n",
       " {'id': 6,\n",
       "  'question': '你什么时候参加的执业兽医资格考试啊？',\n",
       "  'answer': '执业兽医资格考试 ||| 考试时间 ||| 10月',\n",
       "  'ner_pred': '执业兽医资格考试啊'},\n",
       " {'id': 7,\n",
       "  'question': '你知道2007年度北京流行音乐典礼是哪种类型的奖项吗',\n",
       "  'answer': '2007年度北京流行音乐典礼 ||| 奖项类型 ||| 音乐类奖项',\n",
       "  'ner_pred': '2007年度北京流行音乐典礼是'},\n",
       " {'id': 8,\n",
       "  'question': 'BOT的总价要多少钱',\n",
       "  'answer': 'BOT（dota游戏中飞鞋的简称。） ||| 总价 ||| 2450',\n",
       "  'ner_pred': 'BOT的'},\n",
       " {'id': 9,\n",
       "  'question': '你知道泰山极顶的作家是谁啊？',\n",
       "  'answer': '泰山极顶 ||| 作家 ||| 杨朔',\n",
       "  'ner_pred': '泰山极顶的'},\n",
       " {'id': 10,\n",
       "  'question': '.org的注册机构是什么',\n",
       "  'answer': '.org ||| 注册机构 ||| VeriSign等',\n",
       "  'ner_pred': '.org的'},\n",
       " {'id': 11,\n",
       "  'question': '我想知道法国斗牛犬有什么特点？',\n",
       "  'answer': '法国斗牛犬 ||| 形态特征 ||| 骨骼沉重，背毛平滑',\n",
       "  'ner_pred': '法国斗牛犬有'},\n",
       " {'id': 12,\n",
       "  'question': '请问七朵水仙花的作者是谁？',\n",
       "  'answer': '七朵水仙花 ||| 作家 ||| 金河仁',\n",
       "  'ner_pred': '七朵水仙花的'},\n",
       " {'id': 13,\n",
       "  'question': '你知道皖系军阀参与了什么战争？',\n",
       "  'answer': '皖系军阀 ||| 参与战争 ||| 直皖战争、江浙战争',\n",
       "  'ner_pred': '皖系军阀参'},\n",
       " {'id': 14,\n",
       "  'question': '信号与系统分析什么时候印刷的？',\n",
       "  'answer': '信号与系统分析（2012年清华大学出版社出版的图书） ||| 印刷日期 ||| 2016.01.27',\n",
       "  'ner_pred': '信号与系统分析什'},\n",
       " {'id': 15,\n",
       "  'question': '请问设计成本控制是什么意思？',\n",
       "  'answer': '设计成本控制 ||| 阐述 ||| 生产而事先测算的产品成本',\n",
       "  'ner_pred': '设计成本控制是'},\n",
       " {'id': 16,\n",
       "  'question': '广东省预防青少年犯罪研究会由哪个单位发起？',\n",
       "  'answer': '广东省预防青少年犯罪研究会 ||| 发起单位 ||| 团省委、省法院、省公安厅等',\n",
       "  'ner_pred': '广东省预防青少年犯罪研究会由'},\n",
       " {'id': 17,\n",
       "  'question': '义安公主有侄女吗，叫什么啊',\n",
       "  'answer': '义安公主 ||| 侄女 ||| 千金公主、清都公主等',\n",
       "  'ner_pred': '义安公主有'},\n",
       " {'id': 18,\n",
       "  'question': '请问你好台湾网在哪里办公？',\n",
       "  'answer': '你好台湾网 ||| 办公地点 ||| 央广新媒体大厦',\n",
       "  'ner_pred': '你好台湾网在'},\n",
       " {'id': 19,\n",
       "  'question': '谁能告诉我半屏岛都管些什么方面的事情？',\n",
       "  'answer': '半屏岛 ||| 管辖 ||| 东屏镇政府',\n",
       "  'ner_pred': '半屏岛都'}]"
      ]
     },
     "execution_count": 103,
     "metadata": {},
     "output_type": "execute_result"
    }
   ],
   "source": [
    "data[:20]"
   ]
  },
  {
   "cell_type": "code",
   "execution_count": null,
   "id": "b6671441",
   "metadata": {},
   "outputs": [],
   "source": []
  },
  {
   "cell_type": "code",
   "execution_count": 67,
   "id": "720a88be",
   "metadata": {},
   "outputs": [
    {
     "data": {
      "text/plain": [
       "['一带一路']"
      ]
     },
     "execution_count": 67,
     "metadata": {},
     "output_type": "execute_result"
    }
   ],
   "source": [
    "re.findall('“(.*)”','请问“一带一路”铁路国际人才教育联盟是由哪个单位发起的？')"
   ]
  },
  {
   "cell_type": "code",
   "execution_count": 69,
   "id": "1d5a5604",
   "metadata": {},
   "outputs": [
    {
     "data": {
      "text/plain": [
       "'“一带一路”铁路国际人才教育联盟'"
      ]
     },
     "execution_count": 69,
     "metadata": {},
     "output_type": "execute_result"
    }
   ],
   "source": [
    "'一带一路铁路国际人才教育联盟'.replace('一带一路','“一带一路”')"
   ]
  },
  {
   "cell_type": "code",
   "execution_count": null,
   "id": "7c792a38",
   "metadata": {},
   "outputs": [],
   "source": [
    "zhconv."
   ]
  },
  {
   "cell_type": "code",
   "execution_count": 21,
   "id": "f81b4f06",
   "metadata": {},
   "outputs": [],
   "source": [
    "for example in data[:10]:\n",
    "    text=example['question'].lower().replace('“','').replace('”','').replace('\"','').replace('\"','').replace('\\n','').replace('\\t','')\n",
    "    text='{}'.format(text)+'。上个句子中哪些属于实体名词？_。'#'你知道泰山极顶的作家是谁啊？。上个句子中哪些属于实体名词？_。'\n",
    "    model_inputs=tokenizer([text],return_tensors='pt')\n",
    "    input_ids=model_inputs['input_ids'].to(device)\n",
    "    attention_mask=model_inputs['attention_mask'].to(device)\n",
    "    outputs = model.generate(input_ids=input_ids,\n",
    "                             attention_mask=attention_mask,\n",
    "                             num_beams=4,\n",
    "                             min_length=1,\n",
    "                             max_length=30,\n",
    "                             early_stopping=True,)#tensor([[ 102,  101, 3805, 2255, 3353, 7553,  102]], device='cuda:0')\n",
    "    pred=tokenizer.decode(outputs[0],skip_special_tokens=True,clean_up_tokenization_spaces=True).strip()#'泰 山 极 顶'\n",
    "    "
   ]
  },
  {
   "cell_type": "code",
   "execution_count": 22,
   "id": "1dfe485b",
   "metadata": {},
   "outputs": [
    {
     "data": {
      "text/plain": [
       "tensor([[ 102,  101, 3805, 2255, 3353, 7553,  102]], device='cuda:0')"
      ]
     },
     "execution_count": 22,
     "metadata": {},
     "output_type": "execute_result"
    }
   ],
   "source": [
    "outputs"
   ]
  },
  {
   "cell_type": "code",
   "execution_count": 27,
   "id": "6402f0d0",
   "metadata": {},
   "outputs": [
    {
     "data": {
      "text/plain": [
       "'你知道泰山极顶的作家是谁啊？。上个句子中哪些属于实体名词？_。'"
      ]
     },
     "execution_count": 27,
     "metadata": {},
     "output_type": "execute_result"
    }
   ],
   "source": [
    "text"
   ]
  },
  {
   "cell_type": "code",
   "execution_count": 24,
   "id": "124cb8a8",
   "metadata": {},
   "outputs": [
    {
     "data": {
      "text/plain": [
       "'泰 山 极 顶'"
      ]
     },
     "execution_count": 24,
     "metadata": {},
     "output_type": "execute_result"
    }
   ],
   "source": [
    "tokenizer.decode(outputs[0],skip_special_tokens=True,clean_up_tokenization_spaces=True).strip()"
   ]
  },
  {
   "cell_type": "code",
   "execution_count": 26,
   "id": "aadba4e3",
   "metadata": {},
   "outputs": [
    {
     "data": {
      "text/plain": [
       "{'id': 9, 'question': '你知道泰山极顶的作家是谁啊？', 'answer': '泰山极顶 ||| 作家 ||| 杨朔'}"
      ]
     },
     "execution_count": 26,
     "metadata": {},
     "output_type": "execute_result"
    }
   ],
   "source": [
    "data[9]"
   ]
  },
  {
   "cell_type": "code",
   "execution_count": 8,
   "id": "54e26257",
   "metadata": {},
   "outputs": [
    {
     "data": {
      "text/plain": [
       "'宪法号博物馆位于哪里？。上个句子中哪些属于实体名词？_。'"
      ]
     },
     "execution_count": 8,
     "metadata": {},
     "output_type": "execute_result"
    }
   ],
   "source": [
    "text"
   ]
  },
  {
   "cell_type": "code",
   "execution_count": 13,
   "id": "176e7d64",
   "metadata": {},
   "outputs": [
    {
     "data": {
      "text/plain": [
       "{'input_ids': tensor([[ 101, 2150, 3791, 1384, 1300, 4289, 7667,  855,  754, 1525, 7027, 8043,\n",
       "          511,  677,  702, 1368, 2094,  704, 1525,  763, 2247,  754, 2141,  860,\n",
       "         1399, 6404, 8043,  142,  511,  102]]), 'token_type_ids': tensor([[0, 0, 0, 0, 0, 0, 0, 0, 0, 0, 0, 0, 0, 0, 0, 0, 0, 0, 0, 0, 0, 0, 0, 0,\n",
       "         0, 0, 0, 0, 0, 0]]), 'attention_mask': tensor([[1, 1, 1, 1, 1, 1, 1, 1, 1, 1, 1, 1, 1, 1, 1, 1, 1, 1, 1, 1, 1, 1, 1, 1,\n",
       "         1, 1, 1, 1, 1, 1]])}"
      ]
     },
     "execution_count": 13,
     "metadata": {},
     "output_type": "execute_result"
    }
   ],
   "source": [
    "tokenizer([text],return_tensors='pt')"
   ]
  },
  {
   "cell_type": "code",
   "execution_count": null,
   "id": "278d7ddf",
   "metadata": {},
   "outputs": [],
   "source": []
  },
  {
   "cell_type": "code",
   "execution_count": null,
   "id": "54e27648",
   "metadata": {},
   "outputs": [],
   "source": []
  },
  {
   "cell_type": "code",
   "execution_count": null,
   "id": "db47298c",
   "metadata": {},
   "outputs": [],
   "source": []
  },
  {
   "cell_type": "code",
   "execution_count": null,
   "id": "f80e810c",
   "metadata": {},
   "outputs": [],
   "source": []
  },
  {
   "cell_type": "code",
   "execution_count": null,
   "id": "c0b78638",
   "metadata": {},
   "outputs": [],
   "source": []
  },
  {
   "cell_type": "code",
   "execution_count": null,
   "id": "9c1a5e4a",
   "metadata": {},
   "outputs": [],
   "source": []
  },
  {
   "cell_type": "code",
   "execution_count": 77,
   "id": "7f29acc8",
   "metadata": {},
   "outputs": [],
   "source": [
    "examples=[]\n",
    "with open('/home/xhsun/Desktop/graduate_models/Section4/kgclue/finegrained/ner-predictions.json') as f:\n",
    "    lines=f.readlines()\n",
    "for line in lines:\n",
    "    examples.append(json.loads(line.strip()))"
   ]
  },
  {
   "cell_type": "code",
   "execution_count": 78,
   "id": "600d0bd1",
   "metadata": {},
   "outputs": [
    {
     "data": {
      "text/plain": [
       "[{'question': '你知道长江武汉航道局管多少个地方吗？。这个句子中有哪些属于组织机构？',\n",
       "  'answer': ['空实体'],\n",
       "  'predict': '长江武汉航道局'},\n",
       " {'question': '你知道长江武汉航道局管多少个地方吗？。这个句子中有哪些属于人名？',\n",
       "  'answer': ['空实体'],\n",
       "  'predict': '空实体'},\n",
       " {'question': '你知道长江武汉航道局管多少个地方吗？。这个句子中有哪些属于音乐？',\n",
       "  'answer': ['空实体'],\n",
       "  'predict': '风铃'}]"
      ]
     },
     "execution_count": 78,
     "metadata": {},
     "output_type": "execute_result"
    }
   ],
   "source": [
    "examples[:3]"
   ]
  },
  {
   "cell_type": "code",
   "execution_count": 79,
   "id": "b0f72608",
   "metadata": {},
   "outputs": [],
   "source": [
    "def normalize_string(token):\n",
    "    token=token.lower()\n",
    "    token=token.replace('“','').replace('”','').replace('《','').replace('》','').replace('。','').replace('-','')\n",
    "    token=zhconv.convert(token,'zh-hans')\n",
    "    return token"
   ]
  },
  {
   "cell_type": "code",
   "execution_count": 80,
   "id": "ab5a4f26",
   "metadata": {},
   "outputs": [
    {
     "name": "stdout",
     "output_type": "stream",
     "text": [
      "22000\n",
      "1584\n"
     ]
    }
   ],
   "source": [
    "print(len(examples))\n",
    "res={}\n",
    "for e  in examples:\n",
    "    q=e['question'].split('。这个句子中有哪些')[0]\n",
    "    q=normalize_string(q)\n",
    "    has_en=False\n",
    "    for char in q:\n",
    "        if char in string.ascii_letters:\n",
    "            has_en=True\n",
    "            break\n",
    "    if has_en:\n",
    "        continue\n",
    "        \n",
    "    if q not in res:\n",
    "        res[q]={\"answer\":[],'predict':set()}\n",
    "    answer=e['answer']\n",
    "    assert len(answer)==1\n",
    "    answer=answer[0]\n",
    "    answer=normalize_string(answer)\n",
    "    predict=e['predict']\n",
    "    predict=normalize_string(predict)\n",
    "    assert type(predict)==str\n",
    "    if answer!='空实体':\n",
    "        res[q]['answer'].append(answer)\n",
    "    if predict!='空实体':\n",
    "        if predict in q and predict!='':\n",
    "            res[q]['predict'].add(predict)\n",
    "        \n",
    "print(len(list(res.keys())))"
   ]
  },
  {
   "cell_type": "code",
   "execution_count": 81,
   "id": "a10e2681",
   "metadata": {},
   "outputs": [
    {
     "data": {
      "text/plain": [
       "'乌戈·拉斐尔·查韦斯·弗里斯'"
      ]
     },
     "execution_count": 81,
     "metadata": {},
     "output_type": "execute_result"
    }
   ],
   "source": [
    "'乌戈·拉斐尔·查韦斯·弗里斯'"
   ]
  },
  {
   "cell_type": "code",
   "execution_count": 82,
   "id": "360609db",
   "metadata": {},
   "outputs": [
    {
     "data": {
      "text/plain": [
       "{'你知道长江武汉航道局管多少个地方吗？': {'answer': ['长江武汉航道局'], 'predict': {'长江武汉航道局'}},\n",
       " '东瓯王发生的主要事件是什么？': {'answer': ['东瓯王'], 'predict': {'东瓯王'}},\n",
       " '山西省铸造新工艺工程技术研究中心是什么的管辖的啊？': {'answer': ['山西省铸造新工艺工程技术研究中心'],\n",
       "  'predict': set()},\n",
       " '你知道谁是丘堤的儿媳吗': {'answer': ['丘堤'], 'predict': {'丘堤'}},\n",
       " '国民军参与过什么战争？': {'answer': ['国民军'], 'predict': {'国民军'}},\n",
       " '你什么时候参加的执业兽医资格考试啊？': {'answer': ['执业兽医资格考试'], 'predict': {'执业兽医资格考试'}},\n",
       " '你知道2007年度北京流行音乐典礼是哪种类型的奖项吗': {'answer': ['2007年度北京流行音乐典礼'],\n",
       "  'predict': set()},\n",
       " '你知道泰山极顶的作家是谁啊？': {'answer': ['泰山极顶'], 'predict': {'泰山极顶'}},\n",
       " '我想知道法国斗牛犬有什么特点？': {'answer': ['法国斗牛犬'], 'predict': {'法国斗牛犬'}},\n",
       " '请问七朵水仙花的作者是谁？': {'answer': ['七朵水仙花'], 'predict': {'七朵水仙花'}},\n",
       " '你知道皖系军阀参与了什么战争？': {'answer': ['皖系军阀'], 'predict': {'皖系军阀'}},\n",
       " '信号与系统分析什么时候印刷的？': {'answer': ['信号与系统分析'], 'predict': {'信号与系统分析'}},\n",
       " '请问设计成本控制是什么意思？': {'answer': ['设计成本控制'], 'predict': {'设计成本控制'}},\n",
       " '广东省预防青少年犯罪研究会由哪个单位发起？': {'answer': ['广东省预防青少年犯罪研究会'], 'predict': set()},\n",
       " '义安公主有侄女吗，叫什么啊': {'answer': ['义安公主'], 'predict': {'义安公主'}},\n",
       " '请问你好台湾网在哪里办公？': {'answer': ['你好台湾网'], 'predict': {'台湾网'}},\n",
       " '谁能告诉我半屏岛都管些什么方面的事情？': {'answer': ['半屏岛'], 'predict': {'半屏岛'}},\n",
       " '分众传媒主营一些什么业务？': {'answer': ['分众传媒'], 'predict': {'分众传媒'}},\n",
       " '2005年度北京流行音乐典礼是什么类型的奖？': {'answer': ['2005年度北京流行音乐典礼'],\n",
       "  'predict': {'2005年度北京流行音乐典礼'}},\n",
       " '七宝有哪些伙伴': {'answer': ['七宝'], 'predict': {'七宝'}},\n",
       " '量子力学是什么时候印刷的有人知道吗？': {'answer': ['量子力学'], 'predict': {'量子力学'}},\n",
       " '万贵妃有什么历史原型吗': {'answer': ['万贵妃'], 'predict': {'万贵妃'}},\n",
       " '442是什么时候流行的': {'answer': ['442'], 'predict': {'442'}},\n",
       " '请问巴西海盆东西宽多少？': {'answer': ['巴西海盆'], 'predict': {'巴西海盆'}},\n",
       " '请问九女泉的水有多深？': {'answer': ['九女泉'], 'predict': {'九女泉'}},\n",
       " '上海公交173路的日均客运量多少': {'answer': ['上海公交173路'], 'predict': {'上海公交173路'}},\n",
       " '不伦瑞克的著名的大学有哪些': {'answer': ['不伦瑞克'], 'predict': set()},\n",
       " '久敬庄是什么类别的建筑？': {'answer': ['久敬庄'], 'predict': {'久敬庄'}},\n",
       " '你知道核心元素的游戏特征是什么类型的游戏吗？': {'answer': ['核心元素'], 'predict': {'核心元素'}},\n",
       " '告诉我一下不死天皇的修为呗': {'answer': ['不死天皇'], 'predict': {'不死天皇'}},\n",
       " '你知道丰县的县委书记是谁吗': {'answer': ['丰县'], 'predict': {'丰县'}},\n",
       " '火凤凰是什么时候出生的？': {'answer': ['火凤凰'], 'predict': {'火凤凰'}},\n",
       " '1185年的主要事件是什么？': {'answer': ['1185年'], 'predict': {'1185年'}},\n",
       " '请告诉我107的罗马数字': {'answer': ['107'], 'predict': {'107'}},\n",
       " '告诉我上官瑞谦的女友是谁': {'answer': ['上官瑞谦'], 'predict': {'上官瑞谦'}},\n",
       " '你知道阋神星的逃逸速度是多少吗？': {'answer': ['阋神星'], 'predict': {'神星'}},\n",
       " '七里河区有哪些有名的大学': {'answer': ['七里河区'], 'predict': {'七里河区'}},\n",
       " '严韵遥的养母是谁': {'answer': ['严韵遥'], 'predict': {'严韵遥'}},\n",
       " '煮羊肉具有什么营养价值？': {'answer': ['煮羊肉'], 'predict': {'羊肉'}},\n",
       " '谁是王子外出赚钱中的作者？': {'answer': ['王子外出赚钱中'], 'predict': {'王子外出赚钱中'}},\n",
       " '谁知道万年飘香的执行导演啊': {'answer': ['万年飘香'], 'predict': {'万年飘香'}},\n",
       " '于伟的执业证号是多少': {'answer': ['于伟'], 'predict': {'于伟'}},\n",
       " '请问蕨粉有哪些营养成分？': {'answer': ['蕨粉'], 'predict': {'蕨粉'}},\n",
       " '东君草堂诗选的作品题材是什么': {'answer': ['东君草堂诗选'], 'predict': {'东君草堂诗选'}},\n",
       " '三田佳子的长子是谁': {'answer': ['三田佳子'], 'predict': {'三田佳子'}},\n",
       " '你知道夺子战争1997的片头曲是什么啊？': {'answer': ['夺子战争1997'], 'predict': {'夺子战争1997'}},\n",
       " '你知道三家村的耕地面积多大吗': {'answer': ['三家村'], 'predict': {'三家村'}},\n",
       " '请问上海交通大学苏州人工智能研究院的统一社会信用代码是什么': {'answer': ['上海交通大学苏州人工智能研究院'],\n",
       "  'predict': set()},\n",
       " '七濑陆讨厌什么': {'answer': ['七濑陆'], 'predict': {'七濑陆'}},\n",
       " '胆绿素有哪些形态特征？': {'answer': ['胆绿素'], 'predict': {'胆绿素'}},\n",
       " '要怎么获得8比特啊': {'answer': ['8比特'], 'predict': {'8比特'}},\n",
       " '华中农业大学学术委员会属于哪所大学呢？': {'answer': ['华中农业大学学术委员会'], 'predict': set()},\n",
       " '和康居国有关的地理知识有哪些？': {'answer': ['康居国'], 'predict': {'康居国'}},\n",
       " '藤山柳属属于引种吗？': {'answer': ['藤山柳属'], 'predict': {'藤山柳属'}},\n",
       " '你知道东方仗助的伙伴都有谁吗': {'answer': ['东方仗助'], 'predict': {'东方仗助'}},\n",
       " '搜一下何清华有几遍论文': {'answer': ['何清华'], 'predict': {'何清华'}},\n",
       " '你知道中华人民共和国第一届全国人民代表大会第五次会议是什么时候开会吗？': {'answer': ['中华人民共和国第一届全国人民代表大会第五次会议'],\n",
       "  'predict': {'中华人民共和国第一届全国人民代表大会第五次会议'}},\n",
       " '1952年奥斯陆冬季奥运会的比赛时间是什么时候': {'answer': ['1952年奥斯陆冬季奥运会'],\n",
       "  'predict': {'1952年奥斯陆冬季奥运会'}},\n",
       " '何家村的人均耕地面积是多少？': {'answer': ['何家村'], 'predict': {'何家村'}},\n",
       " '再次飞升是从哪天开始创作的？': {'answer': ['再次飞升'], 'predict': {'再次飞升'}},\n",
       " '104的罗马数字是多少': {'answer': ['104'], 'predict': {'104'}},\n",
       " '第11届华盛顿影评人协会奖在哪个电影中获得最佳男主角？': {'answer': ['第11届华盛顿影评人协会奖'],\n",
       "  'predict': {'第11届华盛顿影评人协会奖'}},\n",
       " '什么可以治疗疼痛病？': {'answer': ['疼痛病'], 'predict': {'疼痛病'}},\n",
       " '康斯坦茨会议是什么时候？': {'answer': ['康斯坦茨会议'], 'predict': {'康斯坦茨会议'}},\n",
       " '甩尾需要哪些步骤？': {'answer': ['甩尾'], 'predict': {'甩尾'}},\n",
       " '请问10·12宜兰地震的震源深度是多少': {'answer': ['10·12宜兰地震'], 'predict': {'10·12宜兰地震'}},\n",
       " '有哪些球队参加了1922年巴西美洲杯': {'answer': ['1922年巴西美洲杯'], 'predict': {'1922年巴西美洲杯'}},\n",
       " '武宫正树师从于谁？': {'answer': ['武宫正树'], 'predict': {'武宫正树'}},\n",
       " '你知道武定的起始地在哪吗？': {'answer': ['武定'], 'predict': {'武定'}},\n",
       " '请问湖北莲田食品开发有限公司的主营业务有哪些？': {'answer': ['湖北莲田食品开发有限公司'],\n",
       "  'predict': {'湖北莲田食品开发有限公司'}},\n",
       " '代庆成的医师级别是什么': {'answer': ['代庆成'], 'predict': {'代庆成'}},\n",
       " '文夕大火有多少人遇难？': {'answer': ['文夕大火'], 'predict': set()},\n",
       " '中国人民武装警察部队海警总队属于什么机构的类型？': {'answer': ['中国人民武装警察部队海警总队'],\n",
       "  'predict': {'中国人民武装警察部队海警总队'}},\n",
       " '请问时间移民的印张是多少？': {'answer': ['时间移民'], 'predict': {'时间移民'}},\n",
       " '你知道元气娘一般都被指代成什么吗？': {'answer': ['元气娘'], 'predict': {'元气娘'}},\n",
       " '中空知美咲的就读学校是什么呢': {'answer': ['中空知美咲'], 'predict': {'中空知美咲'}},\n",
       " '你知道烟火阑珊的作品风格属于什么系列吗？': {'answer': ['烟火阑珊'], 'predict': {'烟火阑珊'}},\n",
       " '迹象展览是什么时候开幕的？': {'answer': ['迹象'], 'predict': {'迹象展览'}},\n",
       " '七情六欲是从哪天开始创作的？': {'answer': ['七情六欲'], 'predict': {'七情六欲'}},\n",
       " '手球的组织结构是什么啊？': {'answer': ['手球'], 'predict': {'手球'}},\n",
       " '一探究竟的重播时间是什么时候的': {'answer': ['一探究竟'], 'predict': {'一探究竟'}},\n",
       " '三宝有哪些同僚啊': {'answer': ['三宝'], 'predict': {'三宝'}},\n",
       " '一定要幸福的备案地在哪': {'answer': ['一定要幸福'], 'predict': {'一定要幸福'}},\n",
       " '南澳岛的陆地面积达到多少？': {'answer': ['南澳岛'], 'predict': {'南澳岛'}},\n",
       " '战略实施的实现意味着什么？': {'answer': ['战略实施'], 'predict': {'战略实施'}},\n",
       " '家庭云中心是什么时候首发的？': {'answer': ['家庭云中心'], 'predict': {'家庭云中心'}},\n",
       " '你知道东皇太一达到了什么境界吗': {'answer': ['东皇太一'], 'predict': {'东皇太一'}},\n",
       " '你知道丘鲁克·奥古斯都·菲列特利加·封·安哈尔特·泽鲁普斯特不喜欢什么吗': {'answer': ['丘鲁克·奥古斯都·菲列特利加·封·安哈尔特·泽鲁普斯特'],\n",
       "  'predict': set()},\n",
       " '德意志帝国议会在哪个时间段举行？': {'answer': ['德意志帝国议会'], 'predict': {'德意志帝国议会'}},\n",
       " '李中堂乐的诞生是什么时候？': {'answer': ['李中堂乐'], 'predict': {'李中堂乐'}},\n",
       " '辰河目连戏的项目编号是什么？': {'answer': ['辰河目连戏'], 'predict': {'辰河目连戏'}},\n",
       " '哪个是东方不败的挚友': {'answer': ['东方不败'], 'predict': {'东方不败'}},\n",
       " '告诉我雨露是哪儿出版的?': {'answer': ['雨露'], 'predict': {'雨露'}},\n",
       " '你认识丁勉的师兄吗': {'answer': ['丁勉'], 'predict': {'丁勉'}},\n",
       " '中岛直美有什么厌恶的呢': {'answer': ['中岛直美'], 'predict': {'中岛直美'}},\n",
       " '周琴发生的主要事件是什么？': {'answer': ['周琴'], 'predict': {'周琴'}},\n",
       " '环三都澳区域的陆地有多大？': {'answer': ['环三都澳区域'], 'predict': {'环三都澳'}},\n",
       " '上海马路命名备忘录是什么时候发布的？': {'answer': ['上海马路命名备忘录'], 'predict': {'上海马路命名备忘录'}},\n",
       " '我想知道中部锦龟是怎么繁殖的？': {'answer': ['中部锦龟'], 'predict': {'中部锦龟'}},\n",
       " '西西伯利亚平原东西多宽啊？': {'answer': ['西西伯利亚平原'], 'predict': {'西西伯利亚平原'}},\n",
       " '你清楚杀虎口的最佳旅游时间吗？': {'answer': ['杀虎口'], 'predict': {'杀虎口'}},\n",
       " '谁知道9·7昭通市彝良县地震是多少级？': {'answer': ['9·7昭通市彝良县地震'], 'predict': {'昭通市彝良县'}},\n",
       " '你知道谁冠名七十二层奇楼了': {'answer': ['七十二层奇楼'], 'predict': {'七十二层奇楼'}},\n",
       " '东水关是什么级别的': {'answer': ['东水关'], 'predict': {'东水关'}},\n",
       " '定鼎门什么时候建设的？': {'answer': ['定鼎门'], 'predict': {'定鼎门'}},\n",
       " '114怎么大写啊': {'answer': ['114'], 'predict': {'114'}},\n",
       " '五十岚色叶以前的男朋友是谁': {'answer': ['五十岚色叶'], 'predict': {'五十岚色叶'}},\n",
       " '请问澳洲鲭的俗名是什么？': {'answer': ['澳洲鲭'], 'predict': {'澳洲'}},\n",
       " '埋伏这个游戏有哪些特征？': {'answer': ['埋伏'], 'predict': {'埋伏'}},\n",
       " '中国科学技术馆的建成面积有多少？': {'answer': ['中国科学技术馆'], 'predict': {'中国科学技术馆'}},\n",
       " '特殊教育学专业主要培养目标是什么？': {'answer': ['特殊教育学专业'], 'predict': {'特殊教育学专业'}},\n",
       " '双龙村有多少农户？': {'answer': ['双龙村'], 'predict': {'双龙村'}},\n",
       " '13的音乐总监是谁': {'answer': ['13'], 'predict': {'13'}},\n",
       " '麻烦你告诉我一下铁道大厦具体地址？': {'answer': ['铁道大厦'], 'predict': set()},\n",
       " '秦皇岛新澳海底世界在哪里有人知道吗？': {'answer': ['秦皇岛新澳海底世界'], 'predict': {'秦皇岛新澳海底世界'}},\n",
       " '你知道井浩的入党日期是什么时候': {'answer': ['井浩'], 'predict': {'井浩'}},\n",
       " '结构力学的印刷日期是什么时候？': {'answer': ['结构力学'], 'predict': {'结构力学'}},\n",
       " '山东金诚石化集团有限公司的企业精神是什么？': {'answer': ['山东金诚石化集团有限公司'],\n",
       "  'predict': {'山东金诚石化集团有限公司'}},\n",
       " '乡村爱情故事的片头曲是什么来着？': {'answer': ['乡村爱情故事'], 'predict': {'乡村爱情故事'}},\n",
       " '你知道两当县人民政府的县长是哪个': {'answer': ['两当县人民政府'], 'predict': {'两当县人民政府'}},\n",
       " '边令诚有什么著名的事迹？': {'answer': ['边令诚'], 'predict': {'边令诚'}},\n",
       " '你知道甑字的偏旁是什么吗？': {'answer': ['甑'], 'predict': set()},\n",
       " '你知道中国2010年上海世博会云南馆的名字吗？': {'answer': ['中国2010年上海世博会云南馆'],\n",
       "  'predict': {'中国2010年上海世博会云南馆'}},\n",
       " '你知道中马铁路的沿途有哪些城市吗': {'answer': ['中马铁路'], 'predict': {'中马铁路'}},\n",
       " '请告诉我兰陵颂由谁创作？': {'answer': ['兰陵颂'], 'predict': {'兰陵颂'}},\n",
       " '我很好奇邵云的导师是谁?': {'answer': ['邵云'], 'predict': {'邵云'}},\n",
       " '中草药栽培技术的修学年限是多长时间': {'answer': ['中草药栽培技术'], 'predict': {'中草药栽培技术'}},\n",
       " '在粤语中，乌鼠要怎么拼啊': {'answer': ['乌鼠'], 'predict': {'乌鼠'}},\n",
       " '你知道今川义元的手下都有谁': {'answer': ['今川义元'], 'predict': {'今川义元'}},\n",
       " '请问少年冒险王是哪个单位出版的？': {'answer': ['少年冒险王'], 'predict': {'少年冒险王'}},\n",
       " '万科美景魅力之城的交房时间是什么时候': {'answer': ['万科美景魅力之城'], 'predict': {'万科美景魅力之城'}},\n",
       " '中国历史地理的开课时间是什么时候': {'answer': ['中国历史地理'], 'predict': set()},\n",
       " '印度航空182号航班事故的死亡人数有多少？': {'answer': ['印度航空182号航班事故'],\n",
       "  'predict': {'印度航空182号航班事故'}},\n",
       " '我想知道宣肺化痰可以治疗什么？': {'answer': ['宣肺化痰'], 'predict': {'宣肺化痰'}},\n",
       " '万木草堂现在谁是馆长': {'answer': ['万木草堂'], 'predict': {'万木草堂'}},\n",
       " '你了解古格藏香坊属于什么公司吗？': {'answer': ['古格藏香坊'], 'predict': {'古格藏香坊'}},\n",
       " '一碗水村的面积有多大': {'answer': ['一碗水村'], 'predict': set()},\n",
       " '告诉我117的四进制啊': {'answer': ['117'], 'predict': {'117'}},\n",
       " '你知道245国道途经哪些省份吗': {'answer': ['245国道'], 'predict': {'245国道'}},\n",
       " '请问开天辟地属于什么题材的游戏？': {'answer': ['开天辟地'], 'predict': set()},\n",
       " '干果有哪些营养成分？': {'answer': ['干果'], 'predict': {'干果'}},\n",
       " '你了解金属恶魔牛的罕贵度吗？': {'answer': ['金属恶魔牛'], 'predict': {'金属恶魔牛'}},\n",
       " '丰臣秀吉的朋友都有谁': {'answer': ['丰臣秀吉'], 'predict': {'丰臣秀吉'}},\n",
       " '你知道梁带村遗址从西边到东边一共多少公里长？': {'answer': ['梁带村遗址'], 'predict': {'梁带村遗址'}},\n",
       " '七里香溪的装修情况怎么样': {'answer': ['七里香溪'], 'predict': set()},\n",
       " '你知道中国特色社会主义理论与实践研究什么时间开课的嘛': {'answer': ['中国特色社会主义理论与实践研究'],\n",
       "  'predict': set()},\n",
       " '我想知道白羊座我面积排多少？': {'answer': ['白羊座'], 'predict': {'白羊座'}},\n",
       " '请问江苏省普通高中星级评估属于什么机构？': {'answer': ['江苏省普通高中星级评估'],\n",
       "  'predict': {'江苏省普通高中星级评估'}},\n",
       " '最爱是中华的导师都有谁？': {'answer': ['最爱是中华'], 'predict': set()},\n",
       " '哪些国家在使用001啊': {'answer': ['001'], 'predict': {'001'}},\n",
       " '请问国际人类基因组计划1%的项目编号是什么啊？': {'answer': ['国际人类基因组计划1%'],\n",
       "  'predict': {'国际人类基因组计划'}},\n",
       " '三的胶片长度是多少': {'answer': ['三'], 'predict': {'三'}},\n",
       " '战争和战略问题的主旨是什么？': {'answer': ['战争和战略问题'], 'predict': {'战争和战略问题'}},\n",
       " '什么时候召开了黑龙江嫩江联合省？': {'answer': ['黑龙江嫩江联合省'], 'predict': set()},\n",
       " '一声所爱·大地飞歌的重播时间是什么时候的': {'answer': ['一声所爱·大地飞歌'], 'predict': {'一声所爱·大地飞歌'}},\n",
       " '㐆的字形结构是什么': {'answer': ['㐆'], 'predict': set()},\n",
       " '有谁知道东北剿匪记的上星日期是什么时候': {'answer': ['东北剿匪记'], 'predict': set()},\n",
       " '下萨克森州的著名的大学有哪些': {'answer': ['下萨克森州'], 'predict': set()},\n",
       " '复苏的魔女由哪个单位出版？': {'answer': ['复苏的魔女'], 'predict': {'复苏的魔女'}},\n",
       " '永登暗沙的经度范围是什么？': {'answer': ['永登暗沙'], 'predict': {'永登暗沙'}},\n",
       " '中华田园犬的性格有什么特点': {'answer': ['中华田园犬'], 'predict': {'中华田园犬'}},\n",
       " '三道沟村的降水量多少': {'answer': ['三道沟村'], 'predict': set()},\n",
       " '你知道乔安的闺蜜是谁吗': {'answer': ['乔安'], 'predict': {'乔安'}},\n",
       " '你什么时候参加的城市规划师考试的啊？': {'answer': ['城市规划师'], 'predict': {'城市规划师考试'}},\n",
       " '尚蛙会员联盟应实现？': {'answer': ['尚蛙会员联盟'], 'predict': {'尚蛙会员联盟'}},\n",
       " '大家知道上海音乐学院管弦系的院歌是什么吗': {'answer': ['上海音乐学院管弦系'], 'predict': set()},\n",
       " '谁知道天津县新志的负责人是谁？': {'answer': ['天津县新志'], 'predict': {'天津县新志'}},\n",
       " '飓风威尔玛死了多少人？': {'answer': ['飓风威尔玛'], 'predict': {'飓风威尔玛'}},\n",
       " '黄滔他的属地在哪？': {'answer': ['黄滔'], 'predict': {'黄滔'}},\n",
       " '什么是科托卡国际机场的三字代码？': {'answer': ['科托卡国际机场'], 'predict': set()},\n",
       " '你知道上海公交14路途经哪些地区': {'answer': ['上海公交14路'], 'predict': {'上海公交14路'}},\n",
       " '当代联坛青年五人作品集是哪个单位出版的？': {'answer': ['当代联坛青年五人作品集'], 'predict': set()},\n",
       " '1143.5型航空母舰的下水时间是什么时候呢': {'answer': ['1143.5型航空母舰'], 'predict': set()},\n",
       " '请问黄初平的编号是多少？': {'answer': ['黄初平'], 'predict': {'黄初平'}},\n",
       " '菌丝的亮度是多少？': {'answer': ['菌丝'], 'predict': {'菌丝'}},\n",
       " '白色链霉菌有什么形态特征？': {'answer': ['白色链霉菌'], 'predict': {'白色链霉菌'}},\n",
       " '你知道1123型航空母舰什么时候下水的': {'answer': ['1123型航空母舰'], 'predict': {'1123型航空母舰'}},\n",
       " '三妙夫人有哪些法宝啊': {'answer': ['三妙夫人'], 'predict': {'三妙夫人'}},\n",
       " '你知道1·11香格里拉火灾事故造成了什么经济损失吗': {'answer': ['1·11香格里拉火灾事故'],\n",
       "  'predict': {'1·11香格里拉火灾事故'}},\n",
       " '香港特别行政区政府驻北京办事处属于什么机构的类型？': {'answer': ['香港特别行政区政府驻北京办事处'],\n",
       "  'predict': set()},\n",
       " '在梁山，孔亮排多少位': {'answer': ['孔亮'], 'predict': {'孔亮'}},\n",
       " '上海市住房保障和房屋管理局有哪些副局长': {'answer': ['上海市住房保障和房屋管理局'],\n",
       "  'predict': {'住房保障和房屋管理局'}},\n",
       " '链孢囊菌属有哪些形态特征？': {'answer': ['链孢囊菌属'], 'predict': {'链孢囊菌属'}},\n",
       " '请问巴赫大提琴组曲有哪些资源？': {'answer': ['巴赫大提琴组曲'], 'predict': set()},\n",
       " '什么事汽车排气系统？': {'answer': ['汽车排气系统'], 'predict': {'车排气系统'}},\n",
       " '201413的执行导演是谁': {'answer': ['201413'], 'predict': {'201413'}},\n",
       " '你记得忍者龙剑传2是哪天发售的吗？': {'answer': ['忍者龙剑传2'], 'predict': {'忍者龙剑传2'}},\n",
       " '你知道修神的创作时间吗？': {'answer': ['修神'], 'predict': {'修神'}},\n",
       " '你知道公共管理与公共服务用地是什么吗？': {'answer': ['公共管理与公共服务用地'],\n",
       "  'predict': {'公共管理与公共服务用地'}},\n",
       " '东北野战军第二纵队的司令员叫什么': {'answer': ['东北野战军第二纵队'], 'predict': set()},\n",
       " '翟家古城遗址的东西长是多少？': {'answer': ['翟家古城遗址'], 'predict': {'翟家古城遗址'}},\n",
       " '缪的简体部首是什么？': {'answer': ['缪'], 'predict': {'缪'}},\n",
       " '北京市慈善义工协会是哪个部门批准的？': {'answer': ['北京市慈善义工协会'], 'predict': {'北京市慈善义工协会'}},\n",
       " '什么是谁来一起午餐的主旨？': {'answer': ['谁来一起午餐'], 'predict': set()},\n",
       " '请说出四正推手的要点是什么？': {'answer': ['四正推手'], 'predict': {'四正推手'}},\n",
       " '苾的部首是什么？': {'answer': ['苾'], 'predict': set()},\n",
       " '我想知道天蝎座我面积排多少？': {'answer': ['天蝎座'], 'predict': {'天蝎座'}},\n",
       " '三角座的最佳观测时间是什么时候': {'answer': ['三角座'], 'predict': {'三角座'}},\n",
       " '谁知道三十三中站有几个出入口': {'answer': ['三十三中站'], 'predict': {'三十三中站'}},\n",
       " '过氧化物效应是什么时候发现的？': {'answer': ['过氧化物效应'], 'predict': {'过氧化物效应'}},\n",
       " '敦煌研究院的地址是哪啊？': {'answer': ['敦煌研究院'], 'predict': {'敦煌研究院'}},\n",
       " '101的十六进制是多少': {'answer': ['101'], 'predict': {'101'}},\n",
       " '中国儿童戏剧节什么时候开幕？': {'answer': ['中国儿童戏剧节'], 'predict': {'中国儿童戏剧节'}},\n",
       " '你知道2030年世界杯是多少个参加比赛的队数啊？': {'answer': ['2030年世界杯'], 'predict': {'2030年世界杯'}},\n",
       " '请问信用的意思是什么？': {'answer': ['信用'], 'predict': {'信用'}},\n",
       " '世自在王佛在什么文献中有记载啊': {'answer': ['世自在王佛'], 'predict': {'世自在王佛'}},\n",
       " '你知道泊林花园是什么建筑类别吗？': {'answer': ['泊林花园'], 'predict': {'泊林花园'}},\n",
       " '大洋山景区': {'answer': ['大洋山景区'], 'predict': {'大洋山景区'}},\n",
       " '你知道波动爆发的冷却时间吗？': {'answer': ['波动爆发'], 'predict': {'波动爆发'}},\n",
       " '中国元素的开课时间是什么时候': {'answer': ['中国元素'], 'predict': set()},\n",
       " '金块是多少的亮度啊？': {'answer': ['金块'], 'predict': {'金块'}},\n",
       " '请问是谁创作了女生寝室啊？': {'answer': ['女生寝室'], 'predict': {'女生寝室'}},\n",
       " '你能解释一下批处理的含义吗？': {'answer': ['批处理'], 'predict': {'批处理'}},\n",
       " '冈比亚的国家格言是什么': {'answer': ['冈比亚'], 'predict': {'冈比亚'}},\n",
       " '不死怪兽林顿的登场日期是什么时候': {'answer': ['不死怪兽林顿'], 'predict': {'不死怪兽林顿'}},\n",
       " '你知道东岩寺用过哪些名字吗': {'answer': ['东岩寺'], 'predict': {'东岩寺'}},\n",
       " '2018中国蓝燃情贺岁夜的音乐总监是谁': {'answer': ['2018中国蓝燃情贺岁夜'],\n",
       "  'predict': {'2018中国蓝燃情贺岁夜'}},\n",
       " '乔守玮发表了几篇论文': {'answer': ['乔守玮'], 'predict': {'乔守玮'}},\n",
       " '10·12纽约布鲁克林枪击案的伤亡怎么样': {'answer': ['10·12纽约布鲁克林枪击案'],\n",
       "  'predict': {'10·12纽约布鲁克林枪击案'}},\n",
       " '你知道韦伟的属地在哪里吗？': {'answer': ['韦伟'], 'predict': {'韦伟'}},\n",
       " '全国离子液体与绿色过程学术会议是哪个单位发起的？': {'answer': ['全国离子液体与绿色过程学术会议'], 'predict': set()},\n",
       " '存储芯片的主要应用是什么？': {'answer': ['存储芯片'], 'predict': {'存储芯片'}},\n",
       " '前口蝠鲼有什么形态特征？': {'answer': ['前口蝠鲼'], 'predict': {'前口蝠'}},\n",
       " '蓝色海岸的均价是多少？': {'answer': ['蓝色海岸'], 'predict': {'蓝色海岸'}},\n",
       " '你知道南亚运动会是由谁举办的吗？': {'answer': ['南亚运动会'], 'predict': {'南亚运动会'}},\n",
       " '请问一级法人有什么权利': {'answer': ['一级法人'], 'predict': {'一级法人'}},\n",
       " '三江西路的建设单位是什么': {'answer': ['三江西路'], 'predict': {'三江西路'}},\n",
       " '谁是丁浩天的女友': {'answer': ['丁浩天'], 'predict': {'丁浩天'}},\n",
       " '焦月是什么原因起这个名字的啊？': {'answer': ['焦月'], 'predict': {'焦月'}},\n",
       " '你知道有关视网膜显示屏的发布信息吗？': {'answer': ['视网膜显示屏'], 'predict': {'视网膜显示屏'}},\n",
       " '你知道第22届东京电影节是什么获得的最佳男主角？': {'answer': ['第22届东京电影节'],\n",
       "  'predict': {'第22届东京电影节'}},\n",
       " '255省道限速多少': {'answer': ['255省道'], 'predict': {'255省道'}},\n",
       " '你知道东汉镂雕东王公西王母纹玉座屏的文物级别吗': {'answer': ['东汉镂雕东王公西王母纹玉座屏'],\n",
       "  'predict': {'东汉镂雕东王公西王母纹玉座屏'}},\n",
       " '本·赛卡角的经度是多少啊你知道吗？': {'answer': ['本·赛卡角'], 'predict': {'本·赛卡角'}},\n",
       " '昆仑山隧道起止点是哪里？': {'answer': ['昆仑山隧道'], 'predict': {'昆仑山隧道'}},\n",
       " '谁是开封府志的责任者？': {'answer': ['开封府志'], 'predict': set()},\n",
       " '你知道智䓨的儿子是谁吗？': {'answer': ['智䓨'], 'predict': {'智'}},\n",
       " '你知道列支敦士登的国家格言吗': {'answer': ['列支敦士登'], 'predict': {'列支敦士登'}},\n",
       " '想要了解下七罪有什么讨厌的东西': {'answer': ['七罪'], 'predict': {'七罪'}},\n",
       " '有人知道田鱼的主要营养成分是啥吗？': {'answer': ['田鱼'], 'predict': {'田鱼'}},\n",
       " '艾德盖恩：平原镇屠夫资源是什么类型？': {'answer': ['艾德盖恩：平原镇屠夫'], 'predict': set()},\n",
       " '图像预处理的实现意味着什么？': {'answer': ['图像预处理'], 'predict': {'图像预处理'}},\n",
       " '请问1998年法国世界杯有多少队参赛？': {'answer': ['1998年法国世界杯'], 'predict': {'1998年法国世界杯'}},\n",
       " '你知道刘艺冰有哪些喜爱的食物吗': {'answer': ['刘艺冰'], 'predict': {'刘艺冰'}},\n",
       " '升职记是谁开发的？': {'answer': ['升职记'], 'predict': {'升职记'}},\n",
       " '请问天津快板的项目编号是什么啊？': {'answer': ['天津快板'], 'predict': {'天津快板'}},\n",
       " '你知道052型驱逐舰什么时候下水的': {'answer': ['052型驱逐舰'], 'predict': {'052型驱逐舰'}},\n",
       " '全字母句何意？': {'answer': ['全字母句'], 'predict': {'全字母'}},\n",
       " '来生孝夫是什么类型的作品呢？': {'answer': ['来生孝夫'], 'predict': {'来生孝夫'}},\n",
       " '做二次加压供水设备最重要的是什么？': {'answer': ['二次加压供水设备'], 'predict': {'二次加压供水设备'}},\n",
       " '我很好奇开州站有多少条线路？': {'answer': ['开州站'], 'predict': {'开州站'}},\n",
       " '请问上海东方脑医学基金会的统一社会信用代码是什么': {'answer': ['上海东方脑医学基金会'],\n",
       "  'predict': {'上海东方脑医学基金会'}},\n",
       " '我很好奇毕业季是指哪些人？': {'answer': ['毕业季'], 'predict': {'毕业季'}},\n",
       " '1212是什么时候停播的': {'answer': ['1212'], 'predict': {'1212'}},\n",
       " '你知道伊拉克的国花吗': {'answer': ['伊拉克'], 'predict': {'伊拉克'}},\n",
       " '你知道格洛里厄斯群岛的陆地面积吗？': {'answer': ['格洛里厄斯群岛'], 'predict': {'格洛里厄斯群岛'}},\n",
       " '万年桥的旧名是什么': {'answer': ['万年桥'], 'predict': {'万年桥'}},\n",
       " '你知道什么时候去千佛寺石窟旅游比较好吗？': {'answer': ['千佛寺石窟'], 'predict': {'千佛寺石窟'}},\n",
       " '你认识上田秋成的养父吗': {'answer': ['上田秋成'], 'predict': {'上田秋成'}},\n",
       " '你知道巴淡市的土地面积是多少？': {'answer': ['巴淡市'], 'predict': {'巴淡市'}},\n",
       " '黄杏初的主要事件是什么？': {'answer': ['黄杏初'], 'predict': {'黄杏初'}},\n",
       " '你知道最后的天使的专辑名称叫什么吗？': {'answer': ['最后的天使'], 'predict': {'最后的天使'}},\n",
       " '你知道空降奇兵的资源类型是什么吗？': {'answer': ['空降奇兵'], 'predict': {'空降奇兵'}},\n",
       " '你知道复述课文有什么体现吗？': {'answer': ['复述课文'], 'predict': {'复述课文'}},\n",
       " '什么事唐狮子牡丹？': {'answer': ['唐狮子牡丹'], 'predict': {'唐狮子牡丹'}},\n",
       " '请问液体疗法有什么作用？': {'answer': ['液体疗法'], 'predict': {'液体疗法'}},\n",
       " '一条佰的爷爷是谁': {'answer': ['一条佰'], 'predict': {'一条佰'}},\n",
       " '请问超模学院的导师是谁？': {'answer': ['超模学院'], 'predict': {'超模学院'}},\n",
       " '地球构造的逃逸速度是多少？': {'answer': ['地球构造'], 'predict': {'地球构造'}},\n",
       " '狮城舌战有多少张？': {'answer': ['狮城舌战'], 'predict': {'狮城舌战'}},\n",
       " '闽安村的人均耕地有多少？': {'answer': ['闽安村'], 'predict': {'闽安村'}},\n",
       " '你知道白兔儿乖乖是哪个专辑里面的吗？': {'answer': ['白兔儿乖乖'], 'predict': set()},\n",
       " '东钱湖东西有多宽？': {'answer': ['东钱湖'], 'predict': {'东钱湖'}},\n",
       " '丁玲儿修为怎么样': {'answer': ['丁玲儿'], 'predict': {'丁玲'}},\n",
       " '余淼的叔叔是哪个呢': {'answer': ['余淼'], 'predict': {'余淼'}},\n",
       " '你知道瑞典左翼党的意识形态是什么吗？': {'answer': ['瑞典左翼党'], 'predict': {'瑞典左翼党'}},\n",
       " '一千零一夜的组织机构代码是什么': {'answer': ['一千零一夜'], 'predict': set()},\n",
       " '中粮御岭湾是什么类别的建筑？': {'answer': ['中粮御岭湾'], 'predict': {'中粮御岭湾'}},\n",
       " '你知道上海仁渡海洋公益发展中心的注册机构在哪吗': {'answer': ['上海仁渡海洋公益发展中心'], 'predict': set()},\n",
       " '请说出外因论的要点是什么？': {'answer': ['外因论'], 'predict': {'外因论'}},\n",
       " '我想知道伊斯坦布尔赛道的地理位置是什么啊？': {'answer': ['伊斯坦布尔赛道'], 'predict': {'伊斯坦布尔赛道'}},\n",
       " '请说出黄金瞳的开始创作是什么时候？': {'answer': ['黄金瞳'], 'predict': set()},\n",
       " '乔健是什么时候入党的': {'answer': ['乔健'], 'predict': {'乔健'}},\n",
       " '中国针灸治疗学归属于什么类别': {'answer': ['中国针灸治疗学'], 'predict': {'中国针灸治疗学'}},\n",
       " '第25届北京大学生电影节获得最佳男主角的详细资料有哪些？': {'answer': ['第25届北京大学生电影节'],\n",
       "  'predict': {'第25届北京大学生电影节'}},\n",
       " '台风丽琵的起编日期是什么时候': {'answer': ['台风丽琵'], 'predict': {'台风丽琵'}},\n",
       " '勇者30在什么时候发售的？': {'answer': ['勇者30'], 'predict': {'勇者30'}},\n",
       " '我很好奇毛里求斯航空的代码是什么？': {'answer': ['毛里求斯航空'], 'predict': {'毛里求斯航空'}},\n",
       " '牵星术是谁制作的啊？': {'answer': ['牵星术'], 'predict': {'牵星术'}},\n",
       " '金鼎有什么著名的事迹？': {'answer': ['金鼎'], 'predict': {'金鼎'}},\n",
       " '你知道乌拉那拉·如懿的好朋友是都有谁吗': {'answer': ['乌拉那拉·如懿'], 'predict': {'乌拉那拉·如懿'}},\n",
       " '10·28南丹矿山冒顶事故有多少人员伤亡': {'answer': ['10·28南丹矿山冒顶事故'],\n",
       "  'predict': {'10·28南丹矿山冒顶事故'}},\n",
       " '谁知道牛膝属是不是从外部引入的？': {'answer': ['牛膝属'], 'predict': {'牛膝属'}},\n",
       " '1989的艺术指导是哪个': {'answer': ['1989'], 'predict': {'1989'}},\n",
       " '楚凌岚的导师都有谁？': {'answer': ['楚凌岚'], 'predict': {'楚凌岚'}},\n",
       " '你知道东方卫视的播出时长吗': {'answer': ['东方卫视'], 'predict': {'东方卫视'}},\n",
       " '洋洋有什么有名的是事情发生吗？': {'answer': ['洋洋'], 'predict': {'洋洋'}},\n",
       " '请问乌夜啼是什么时候出生的？': {'answer': ['乌夜啼'], 'predict': {'乌夜啼'}},\n",
       " '8·8九寨沟地震的经度是多少？': {'answer': ['8·8九寨沟地震'], 'predict': {'8·8九寨沟地震'}},\n",
       " '你知道101封情书的曲风怎么样啊': {'answer': ['101封情书'], 'predict': {'101封情书'}},\n",
       " '桃之妖妖由哪里开发？': {'answer': ['桃之妖妖'], 'predict': {'桃之妖妖'}},\n",
       " '下坡风属于什么学科': {'answer': ['下坡风'], 'predict': {'下坡风'}},\n",
       " '真核起始因子有些什么相关疾病吗？': {'answer': ['真核起始因子'], 'predict': {'真核起始因子'}},\n",
       " '请问七匹狼中国男装博物馆是什么类型的景点': {'answer': ['七匹狼中国男装博物馆'], 'predict': {'七匹狼中国男装博物馆'}},\n",
       " '请问国民革命军第四集团军管辖哪里？': {'answer': ['国民革命军第四集团军'], 'predict': set()},\n",
       " '丁小满有侄女吗，叫什么啊': {'answer': ['丁小满'], 'predict': {'丁小满'}},\n",
       " '你知道下投式探空仪是哪个学科的分支吗': {'answer': ['下投式探空仪'], 'predict': {'下投式探空仪'}},\n",
       " '下南京靠什么谋生的': {'answer': ['下南京'], 'predict': {'下南京'}},\n",
       " '传次郎喜欢吃什么': {'answer': ['传次郎'], 'predict': {'传次郎'}},\n",
       " '什么时候召开了中国共产党第十七次全国代表大会？': {'answer': ['中国共产党第十七次全国代表大会'],\n",
       "  'predict': {'中国共产党第十七次全国代表大会'}},\n",
       " '谁知道国民革命军新编第一军打过哪些仗？': {'answer': ['国民革命军新编第一军'], 'predict': {'国民革命军新编第一军'}},\n",
       " '英格兰联赛锦标赛有多少支参赛队？': {'answer': ['英格兰联赛锦标赛'], 'predict': {'英格兰联赛锦标赛'}},\n",
       " '压条的繁殖方式是什么？': {'answer': ['压条'], 'predict': {'压条'}},\n",
       " '柁嘉熹师从于谁？': {'answer': ['柁嘉熹'], 'predict': {'嘉熹'}},\n",
       " '谁认识2013年中央电视台春节戏曲晚会的艺术总监呀': {'answer': ['2013年中央电视台春节戏曲晚会'],\n",
       "  'predict': {'2013年中央电视台春节戏曲晚会'}},\n",
       " '岩泉一是什么院校的啊？': {'answer': ['岩泉一'], 'predict': {'岩泉一'}},\n",
       " '你清楚龙门山风景名胜区的最佳旅游时间吗？': {'answer': ['龙门山风景名胜区'], 'predict': {'龙门山风景名胜区'}},\n",
       " '你认识三田都元帅的养父吗': {'answer': ['三田都元帅'], 'predict': {'三田都元帅'}},\n",
       " '䢂的粤语拼音是什么': {'answer': ['䢂'], 'predict': set()},\n",
       " '学医的，何涛是什么级数的医生啊': {'answer': ['何涛'], 'predict': {'何涛'}},\n",
       " '你认识万岁的爷爷吗': {'answer': ['万岁'], 'predict': {'万岁'}},\n",
       " '我想知道唐大诏令集在第几章？': {'answer': ['唐大诏令集'], 'predict': set()},\n",
       " '俄罗斯苏维埃联邦社会主义共和国的国家格言是什么': {'answer': ['俄罗斯苏维埃联邦社会主义共和国'], 'predict': set()},\n",
       " '请问广东珠江律师事务所是由哪个部门批准进行的？': {'answer': ['广东珠江律师事务所'],\n",
       "  'predict': {'广东珠江律师事务所'}},\n",
       " '翻晒干草的女人的属地是什么？': {'answer': ['翻晒干草的女人'], 'predict': set()},\n",
       " '卓不凡几几年出生的？': {'answer': ['卓不凡'], 'predict': {'卓不凡'}},\n",
       " '寂寞在唱歌的风格是什么？': {'answer': ['寂寞在唱歌'], 'predict': {'寂寞'}},\n",
       " '你知道广州南站属于什么性质吗？': {'answer': ['广州南站'], 'predict': set()},\n",
       " '你知道圆觉寺的俗名是什么吗？': {'answer': ['圆觉寺'], 'predict': {'圆觉寺'}},\n",
       " '请问鹰扬是什么意思？': {'answer': ['鹰扬'], 'predict': {'鹰扬'}},\n",
       " '日本的陆地面积达到多少？': {'answer': ['日本'], 'predict': {'日本'}},\n",
       " '95式自动步枪的总设计师是谁': {'answer': ['95式自动步枪'], 'predict': {'95式自动步枪'}},\n",
       " '20102011中央电视台跨年盛典的直播平台是什么': {'answer': ['20102011中央电视台跨年盛典'],\n",
       "  'predict': set()},\n",
       " '南通农场东西有多长？': {'answer': ['南通农场'], 'predict': {'南通农场'}},\n",
       " '新禁断之恋的漫画是谁画的啊？': {'answer': ['新禁断之恋'], 'predict': set()},\n",
       " '你知道102的十六进制是什么吗': {'answer': ['102'], 'predict': {'102'}},\n",
       " '我想了解一下空心莓组它的形态特征是什么啊？': {'answer': ['空心莓组'], 'predict': {'空心莓组'}},\n",
       " '威海—青岛高速公路经过哪些线路？': {'answer': ['威海—青岛高速公路'], 'predict': set()},\n",
       " '谁知道江苏省演艺集团飞扬乐团是那个公司的？': {'answer': ['江苏省演艺集团飞扬乐团'],\n",
       "  'predict': {'江苏省演艺集团飞扬乐团'}},\n",
       " '席狮舞的项目编号是多少？': {'answer': ['席狮舞'], 'predict': {'席狮舞'}},\n",
       " '玻璃扯旗的繁殖方式是什么？': {'answer': ['玻璃扯旗'], 'predict': set()},\n",
       " '告诉我付敏的执业证号呗': {'answer': ['付敏'], 'predict': {'付敏'}},\n",
       " '你知道东伯雪鹰达到了什么境界吗': {'answer': ['东伯雪鹰'], 'predict': {'东伯雪鹰'}},\n",
       " '不居集是什么类别的': {'answer': ['不居集'], 'predict': {'不居集'}},\n",
       " '请问东湖公园东西宽有多少米？': {'answer': ['东湖公园'], 'predict': {'东湖公园'}},\n",
       " '永恒冒险游戏是什么题材？': {'answer': ['永恒冒险'], 'predict': {'永恒冒险'}},\n",
       " '请问安徽省康博粮油有限公司的主营业务有哪些？': {'answer': ['安徽省康博粮油有限公司'],\n",
       "  'predict': {'安徽省康博粮油有限公司'}},\n",
       " '1931年的爱情在哪个平台播放的': {'answer': ['1931年的爱情'], 'predict': {'1931年的爱情'}},\n",
       " '上元门站的出入口数是多少': {'answer': ['上元门站'], 'predict': set()},\n",
       " '飞行机器有多少射程？': {'answer': ['飞行机器'], 'predict': {'飞行机器'}},\n",
       " '青金石块有多亮？': {'answer': ['青金石块'], 'predict': {'青金石块'}},\n",
       " '京九铁路途径哪些城市': {'answer': ['京九铁路'], 'predict': {'京九铁路'}},\n",
       " '现在谁是上海市教育委员会的主任': {'answer': ['上海市教育委员会'], 'predict': set()},\n",
       " '你知道天山山系的东西长度是多少吗？': {'answer': ['天山山系'], 'predict': {'天山山系'}},\n",
       " '113的大写怎么写': {'answer': ['113'], 'predict': {'113'}},\n",
       " '一路上有你第一季冠名商是谁呀': {'answer': ['一路上有你第一季'], 'predict': set()},\n",
       " '请问太阳的逃逸速度是多少？': {'answer': ['太阳'], 'predict': {'太阳'}},\n",
       " '你知道炸鸡排的成分是什么吗?': {'answer': ['炸鸡排'], 'predict': {'炸鸡排'}},\n",
       " '告诉我118的四进制啊': {'answer': ['118'], 'predict': {'118'}},\n",
       " '上井草风香的青梅竹马是谁': {'answer': ['上井草风香'], 'predict': {'上井草风香'}},\n",
       " '9·21南投地震是多少震级？': {'answer': ['9·21南投地震'], 'predict': {'9·21南投地震'}},\n",
       " '中央民族工作会议是什么时候？': {'answer': ['中央民族工作会议'], 'predict': {'中央民族工作会议'}},\n",
       " '互联网服务提供商的服务范围是什么？': {'answer': ['互联网服务提供商'], 'predict': {'互联网服务提供商'}},\n",
       " '中国民主建国会章程是哪个党派的': {'answer': ['中国民主建国会章程'], 'predict': {'中国民主建国会'}},\n",
       " '大家了解谁是刘天孚的儿子吗？': {'answer': ['刘天孚'], 'predict': {'刘天孚'}},\n",
       " '你知道110的八进制吗': {'answer': ['110'], 'predict': {'110'}},\n",
       " '上海冠勇信息科技有限公司是在什么地方上班啊？': {'answer': ['上海冠勇信息科技有限公司'],\n",
       "  'predict': {'上海冠勇信息科技有限公司'}},\n",
       " '中条梓的就读学校是什么呢': {'answer': ['中条梓'], 'predict': {'中条梓'}},\n",
       " '我想知道利姓是谁发布的啊？': {'answer': ['利姓'], 'predict': {'利姓'}},\n",
       " '你知道小井村的林地面积是多大？': {'answer': ['小井村'], 'predict': {'小井村'}},\n",
       " '龙舞天团是在什么地方上班啊？': {'answer': ['龙舞天团'], 'predict': set()},\n",
       " '请问广东省低碳产业技术协会在哪里办公？': {'answer': ['广东省低碳产业技术协会'],\n",
       "  'predict': {'广东省低碳产业技术协会'}},\n",
       " '一江两岸的装修情况怎么样': {'answer': ['一江两岸'], 'predict': set()},\n",
       " '乔尼亚斯·奥特曼的人间体是谁': {'answer': ['乔尼亚斯·奥特曼'], 'predict': {'乔尼亚斯·奥特曼'}},\n",
       " '1973年国际防止船舶造成污染公约是什么时候制定的': {'answer': ['1973年国际防止船舶造成污染公约'],\n",
       "  'predict': {'1973年国际防止船舶造成污染公约'}},\n",
       " '请问英卓的服务范围包含了哪些地区？': {'answer': ['英卓'], 'predict': {'英卓'}},\n",
       " '国际贸易实务是什么时候印刷的？': {'answer': ['国际贸易实务'], 'predict': {'国际贸易实务'}},\n",
       " '三河有哪些主要的河流': {'answer': ['三河'], 'predict': {'三河'}},\n",
       " '七伤拳是哪个门派的': {'answer': ['七伤拳'], 'predict': {'七伤拳'}},\n",
       " '你知道丹克沙德尔的登场日期吗': {'answer': ['丹克沙德尔'], 'predict': {'丹克沙德尔'}},\n",
       " '城头山遗址东西多宽啊？': {'answer': ['城头山遗址'], 'predict': {'城头山遗址'}},\n",
       " '油焖冬笋具有什么营养价值？': {'answer': ['油焖冬笋'], 'predict': {'油焖冬笋'}},\n",
       " '西夏史话塑像馆的最佳旅游时间是什么时候？': {'answer': ['西夏史话塑像馆'], 'predict': {'西夏史话塑像馆'}},\n",
       " '你知道脊椎动物亚门的繁殖方式是什么吗？': {'answer': ['脊椎动物亚门'], 'predict': {'脊椎动物亚门'}},\n",
       " '你知道2019年香港人权与民主法案是什么时候签的吗': {'answer': ['2019年香港人权与民主法案'],\n",
       "  'predict': {'2019年香港人权与民主法案'}},\n",
       " '百炼成仙游戏是什么题材？': {'answer': ['百炼成仙'], 'predict': {'百炼成仙'}},\n",
       " '我想知道十八家晋史在第几章？': {'answer': ['十八家晋史'], 'predict': {'十八家晋史'}},\n",
       " '万佛沟是什么年代建造的': {'answer': ['万佛沟'], 'predict': {'万佛沟'}},\n",
       " '你知道付涛的入党日期是什么时候': {'answer': ['付涛'], 'predict': {'付涛'}},\n",
       " '永星村的农业户口有多少户啊？': {'answer': ['永星村'], 'predict': {'永星村'}},\n",
       " '万世北溟·玄武的精灵等级是多少': {'answer': ['万世北溟·玄武'], 'predict': {'万世北溟·玄武'}},\n",
       " '小开类似于什么？': {'answer': ['小开'], 'predict': {'小开'}},\n",
       " '三木武夫是哪个党派的': {'answer': ['三木武夫'], 'predict': {'三木武夫'}},\n",
       " '你知道浮生萦云是什么吗？': {'answer': ['浮生萦云'], 'predict': {'浮生萦云'}},\n",
       " '李欣普拉提的组织结构是什么啊？': {'answer': ['李欣普拉提'], 'predict': set()},\n",
       " '中国国际鞋业博览会是哪个部门批准的？': {'answer': ['中国国际鞋业博览会'], 'predict': {'中国国际鞋业博览会'}},\n",
       " '有多少队参加了2008年奥地利瑞士欧洲杯？': {'answer': ['2008年奥地利瑞士欧洲杯'],\n",
       "  'predict': {'2008年奥地利瑞士欧洲杯'}},\n",
       " '天使投资印张一共有几个？': {'answer': ['天使投资'], 'predict': {'天使投资印张'}},\n",
       " '灌香肠有哪些营养成分？': {'answer': ['灌香肠'], 'predict': {'灌香肠'}},\n",
       " '你知道0.8的幸福哲学是什么时候出版的吗': {'answer': ['0.8的幸福哲学'], 'predict': set()},\n",
       " '豪森花园平均多少钱？': {'answer': ['豪森花园'], 'predict': {'豪森花园'}},\n",
       " '魂之挽歌的冷却时间是多少？': {'answer': ['魂之挽歌'], 'predict': {'魂之挽歌'}},\n",
       " '你知道关东山地东西有多长吗？': {'answer': ['关东山地'], 'predict': {'关东山地'}},\n",
       " '你知道唢呐的俗称是什么吗？': {'answer': ['唢呐'], 'predict': {'呐'}},\n",
       " '怎么又是你的作品是什么样的风格？': {'answer': ['怎么又是你'], 'predict': {'怎么又是你'}},\n",
       " '怎么获得乔娜': {'answer': ['乔娜'], 'predict': {'乔娜'}},\n",
       " '徐琳哪年出生的？': {'answer': ['徐琳'], 'predict': {'徐琳'}},\n",
       " '顺义半壁店的线路是什么啊？': {'answer': ['顺义半壁店'], 'predict': {'顺义半壁店'}},\n",
       " '东北野战军第三纵队的司令员叫什么': {'answer': ['东北野战军第三纵队'], 'predict': {'北野战军第三纵队'}},\n",
       " '闪光之追放者的罕贵度是什么？': {'answer': ['闪光之追放者'], 'predict': {'闪光之追放者'}},\n",
       " '你知道天鹰座面积排名是多少吗？': {'answer': ['天鹰座'], 'predict': {'天鹰座'}},\n",
       " '中华基督教青年会全国协会是在哪里注册的呀': {'answer': ['中华基督教青年会全国协会'],\n",
       "  'predict': {'中华基督教青年会全国协会'}},\n",
       " '告诉我中国传统文化的开课时间被': {'answer': ['中国传统文化'], 'predict': set()},\n",
       " '你知道假贝利亚奥特曼在水中的速度有多快吗': {'answer': ['假贝利亚奥特曼'], 'predict': {'假贝利亚奥特曼'}},\n",
       " '三钵罗底的统治时间有多久': {'answer': ['三钵罗底'], 'predict': {'三钵罗底'}},\n",
       " '爱尔兰皇家科学院是什么类型的机构？': {'answer': ['爱尔兰皇家科学院'], 'predict': {'爱尔兰皇家科学院'}},\n",
       " '你知道不一样的美男子ⅱ的播出剧场吗': {'answer': ['不一样的美男子ⅱ'], 'predict': {'一样的美男子ⅱ'}},\n",
       " '于克利的最高学历是什么': {'answer': ['于克利'], 'predict': {'于克利'}},\n",
       " '证券从业资格预约式考试考试的时间由谁确定？': {'answer': ['证券从业资格预约式考试'],\n",
       "  'predict': {'证券从业资格预约式考试'}},\n",
       " '请问彭家村的人均耕地面积有多大？': {'answer': ['彭家村'], 'predict': {'彭家村'}},\n",
       " '请问成都华尔道夫酒店在哪里？': {'answer': ['成都华尔道夫酒店'], 'predict': set()},\n",
       " '谁知道2013年中央电视台元宵晚会的制片主任是谁': {'answer': ['2013年中央电视台元宵晚会'],\n",
       "  'predict': {'2013年中央电视台元宵晚会'}},\n",
       " '上谷公主的侄子是谁': {'answer': ['上谷公主'], 'predict': {'上谷公主'}},\n",
       " '有谁知道万圣龙王的女婿是哪个人': {'answer': ['万圣龙王'], 'predict': {'万圣龙王'}},\n",
       " '世医得效方是什么类别的': {'answer': ['世医得效方'], 'predict': {'世医得效方'}},\n",
       " '保利世界贸易中心的轨道交通属于哪条线？': {'answer': ['保利世界贸易中心'], 'predict': set()},\n",
       " '不动珍是谁的亲属？': {'answer': ['不动珍'], 'predict': {'不动珍'}},\n",
       " '一村之长之皆大欢喜在什么地方备案的': {'answer': ['一村之长之皆大欢喜'], 'predict': {'一村之长之皆大欢喜'}},\n",
       " '严正是什么时候被免职的': {'answer': ['严正'], 'predict': {'严正'}},\n",
       " '谁知道卷心菜投手能射多远呀？': {'answer': ['卷心菜投手'], 'predict': {'卷心菜'}},\n",
       " '你知道杰尔系统属于什么公司啊？': {'answer': ['杰尔系统'], 'predict': {'杰尔系统'}},\n",
       " '你知道仙后座的最佳观测时间吗': {'answer': ['仙后座'], 'predict': {'仙后座'}},\n",
       " '哪里是一物降一物的备案地': {'answer': ['一物降一物'], 'predict': set()},\n",
       " '北京群众艺术馆的地址在哪？': {'answer': ['北京群众艺术馆'], 'predict': set()},\n",
       " '西北民族研究所属于什么院校？': {'answer': ['西北民族研究所'], 'predict': {'西北民族研究所'}},\n",
       " '你知道中华周易文化协会是什么服务范围吗？': {'answer': ['中华周易文化协会'], 'predict': {'中华周易文化协会'}},\n",
       " '18岁定终身在哪个平台播放的': {'answer': ['18岁定终身'], 'predict': {'18岁定终身'}},\n",
       " '三丘田村的降水量多少': {'answer': ['三丘田村'], 'predict': {'三丘田村'}},\n",
       " '请问诊疗费体现了什么？': {'answer': ['诊疗费'], 'predict': {'诊疗费'}},\n",
       " '你知道东山峰东西有多长吗？': {'answer': ['东山峰'], 'predict': {'东山峰'}},\n",
       " '你知道忏悔的冷却时间吗？': {'answer': ['忏悔'], 'predict': {'忏悔'}},\n",
       " '中药专业的修学年限是多长时间': {'answer': ['中药专业'], 'predict': {'中药专业'}},\n",
       " '三里屯的朋友圈在什么剧场播出的': {'answer': ['三里屯的朋友圈'], 'predict': {'三里屯'}},\n",
       " '天桐的亲戚是谁啊？': {'answer': ['天桐'], 'predict': {'天桐'}},\n",
       " '东北鼢鼠有什么天敌啊': {'answer': ['东北鼢鼠'], 'predict': set()},\n",
       " '中国校庆报是哪个单位出版的？': {'answer': ['中国校庆报'], 'predict': {'中国校庆报'}},\n",
       " '谁是8弃8离的副导演': {'answer': ['8弃8离'], 'predict': {'8弃8离'}},\n",
       " '你知道丹珠尔的属地在哪里吗？': {'answer': ['丹珠尔'], 'predict': {'丹珠尔'}},\n",
       " '请问潜泉因何得名？': {'answer': ['潜泉'], 'predict': {'潜泉'}},\n",
       " '台风丹娜丝的起编日期是什么时候': {'answer': ['台风丹娜丝'], 'predict': {'台风丹娜丝'}},\n",
       " '谁是上官星的生母': {'answer': ['上官星'], 'predict': {'上官星'}},\n",
       " '滇桐属是引种吗？': {'answer': ['滇桐属'], 'predict': {'滇桐属'}},\n",
       " '10·15阿富汗直升机坠毁事故有多少人员伤亡': {'answer': ['10·15阿富汗直升机坠毁事故'],\n",
       "  'predict': {'10·15阿富汗直升机坠毁事故'}},\n",
       " '你能举出与酮尿相关的疾病吗？': {'answer': ['酮尿'], 'predict': {'酮尿'}},\n",
       " '丽心有哪些同僚啊': {'answer': ['丽心'], 'predict': {'丽心'}},\n",
       " '中非共和国总统现在的总统是谁': {'answer': ['中非共和国总统'], 'predict': set()},\n",
       " '沙田惨案死了多少人？': {'answer': ['沙田惨案'], 'predict': {'沙田惨案'}},\n",
       " '请问丹麦人民党有哪些意识形态？': {'answer': ['丹麦人民党'], 'predict': {'丹麦人民党'}},\n",
       " '欧洲冠军联赛派出了多少支队伍参赛？': {'answer': ['欧洲冠军联赛'], 'predict': set()},\n",
       " '东海岛—雷州高速公路限速多少': {'answer': ['东海岛—雷州高速公路'], 'predict': set()},\n",
       " '三泽真帆的性格怎么样': {'answer': ['三泽真帆'], 'predict': {'三泽真帆'}},\n",
       " '请问假案的意思是什么？': {'answer': ['假案'], 'predict': {'假案'}},\n",
       " '1143型航空母舰属于什么舰型': {'answer': ['1143型航空母舰'], 'predict': {'1143型航空母舰'}},\n",
       " '第6届戛纳国际电影节获得最佳男主角的详细资料有哪些？': {'answer': ['第6届戛纳国际电影节'],\n",
       "  'predict': {'第6届戛纳国际电影节'}},\n",
       " '上思县水利局有哪些副局长': {'answer': ['上思县水利局'], 'predict': {'上思县水利局'}},\n",
       " '你知道哪个是中川百合的青梅竹马吗': {'answer': ['中川百合'], 'predict': {'中川百合'}},\n",
       " '谁知道上海国际舞蹈中心这栋建筑属于什么类别？': {'answer': ['上海国际舞蹈中心'], 'predict': set()},\n",
       " '芝加哥数学分析学派的创立地点是哪？': {'answer': ['芝加哥数学分析学派'], 'predict': set()},\n",
       " '请问朝阳北路周围有什么轨道交通？': {'answer': ['朝阳北路'], 'predict': {'朝阳北路'}},\n",
       " '裕隆企业集团主要是做什么节目的啊？': {'answer': ['裕隆企业集团'], 'predict': {'裕隆企业集团'}},\n",
       " '你知道毁灭前夕是哪里开发的吗？': {'answer': ['毁灭前夕'], 'predict': {'毁灭前夕'}},\n",
       " '我想知道莲池乡的地理位置是什么啊？': {'answer': ['莲池乡'], 'predict': {'莲池乡'}},\n",
       " '三识在什么文献中有记载啊': {'answer': ['三识'], 'predict': {'三识'}},\n",
       " '伊万·布拉金斯基的国花是什么': {'answer': ['伊万·布拉金斯基'], 'predict': {'伊万·布拉金斯基'}},\n",
       " '1111的大写是什么': {'answer': ['1111'], 'predict': {'1111'}},\n",
       " '请问佛学小辞典是哪个单位出版的？': {'answer': ['佛学小辞典'], 'predict': set()},\n",
       " '三宝树是因什么得名的？': {'answer': ['三宝树'], 'predict': {'三宝树'}},\n",
       " '东山嘴遗址有哪些历史意义啊': {'answer': ['东山嘴遗址'], 'predict': {'东山嘴遗址'}},\n",
       " '大学英语四级考试的考试时间是什么时候？': {'answer': ['大学英语四级考试'], 'predict': {'大学英语四级'}},\n",
       " '独立学院的发展方向是什么？': {'answer': ['独立学院'], 'predict': {'独立学院'}},\n",
       " '谁负责同治上江两县志？': {'answer': ['同治上江两县志'], 'predict': {'同治上江'}},\n",
       " '你知道远藤基信是孩子叫什么吗?': {'answer': ['远藤基信'], 'predict': {'远藤基信'}},\n",
       " '什么鸟是卢森堡的国鸟啊': {'answer': ['卢森堡'], 'predict': {'卢森堡'}},\n",
       " '新疆当代艺术双年展什么时候开始啊？': {'answer': ['新疆当代艺术双年展'], 'predict': {'新疆当代艺术双年展'}},\n",
       " '想要了解下三枝由纪香有什么讨厌的东西': {'answer': ['三枝由纪香'], 'predict': {'三枝由纪香'}},\n",
       " '有人知道中华人民共和国第十届全国人民代表大会第五次会议是什么时候吗？': {'answer': ['中华人民共和国第十届全国人民代表大会第五次会议'],\n",
       "  'predict': set()},\n",
       " '1944的豆瓣评分是多少': {'answer': ['1944'], 'predict': set()},\n",
       " '你知道下沉气流是哪个学科的分支吗': {'answer': ['下沉气流'], 'predict': {'下沉气流'}},\n",
       " '20142015湖南卫视跨年演唱会冠名商是谁呀': {'answer': ['20142015湖南卫视跨年演唱会'],\n",
       "  'predict': {'2015湖南卫视跨年演唱会'}},\n",
       " '做黄土学最重要的是什么？': {'answer': ['黄土学'], 'predict': {'黄土学'}},\n",
       " '车站村的人均耕地面积是多大？': {'answer': ['车站村'], 'predict': {'车站村'}},\n",
       " '花开半夏的片头曲是什么？': {'answer': ['花开半夏'], 'predict': {'花开半夏'}},\n",
       " '第17届欧洲电影奖这个人在什么电影中获得了最佳男主角？': {'answer': ['第17届欧洲电影奖'],\n",
       "  'predict': {'第17届欧洲电影奖'}},\n",
       " '郑州大学图书馆勤工助学区是如何发展的？': {'answer': ['郑州大学图书馆勤工助学区'], 'predict': set()},\n",
       " '我想请教您大胜关在什么地理位置？': {'answer': ['大胜关'], 'predict': {'大胜关'}},\n",
       " '中晶白云岩的保存单位在哪': {'answer': ['中晶白云岩'], 'predict': {'中晶白云岩'}},\n",
       " '请问万全县志一共有多少册': {'answer': ['万全县志'], 'predict': {'万全县志'}},\n",
       " '你知道2015华语金曲奖的创办机构吗': {'answer': ['2015华语金曲奖'], 'predict': {'2015华语金曲奖'}},\n",
       " '谁是上海应用技术学院图书馆的馆长啊': {'answer': ['上海应用技术学院图书馆'], 'predict': set()},\n",
       " '谁知道博士来拜属于哪里？': {'answer': ['博士来拜'], 'predict': {'博士来拜'}},\n",
       " '全身过敏反应跟哪些疾病有关？': {'answer': ['全身过敏反应'], 'predict': {'全身过敏反应'}},\n",
       " '请问地海古墓是什么时候发布的？': {'answer': ['地海古墓'], 'predict': {'地海古墓'}},\n",
       " '你知道华新是什么时候建好的吗？': {'answer': ['华新'], 'predict': {'华新'}},\n",
       " '不屈之枪的角色定位是什么': {'answer': ['不屈之枪'], 'predict': set()},\n",
       " '14平方米的星空的售价多少': {'answer': ['14平方米的星空'], 'predict': {'星空'}},\n",
       " '小蜜蜂属于哪个公司？': {'answer': ['小蜜蜂'], 'predict': {'小蜜蜂'}},\n",
       " '东海顷王的性格有什么特点': {'answer': ['东海顷王'], 'predict': {'东海顷王'}},\n",
       " '你知道10的八进制吗': {'answer': ['10'], 'predict': {'10'}},\n",
       " '谁能告诉我慕容彦达都管些什么方面的事情？': {'answer': ['慕容彦达'], 'predict': {'慕容彦达'}},\n",
       " '上官曦的师弟是谁呀': {'answer': ['上官曦'], 'predict': {'上官曦'}},\n",
       " '告诉我骆青青的时间查询编号是多少？': {'answer': ['骆青青'], 'predict': {'骆青青'}},\n",
       " '1998年长江特大洪水造成了损失有多少': {'answer': ['1998年长江特大洪水'],\n",
       "  'predict': {'1998年长江特大洪水'}},\n",
       " '于鋆炜的拦网高度是多少': {'answer': ['于鋆炜'], 'predict': set()},\n",
       " '九节鞭展示过哪些招法': {'answer': ['九节鞭'], 'predict': {'九节鞭'}},\n",
       " '你知道二代目雷影的查克拉属性吗': {'answer': ['二代目雷影'], 'predict': {'二代目雷影'}},\n",
       " '衬裤指代什么？': {'answer': ['衬裤'], 'predict': {'衬裤'}},\n",
       " '请问1976年南斯拉夫欧洲杯有多少队参赛？': {'answer': ['1976年南斯拉夫欧洲杯'],\n",
       "  'predict': {'1976年南斯拉夫欧洲杯'}},\n",
       " '你知道什么时候于涛被免职的吗': {'answer': ['于涛'], 'predict': {'于涛'}},\n",
       " '第五届世界互联网大会的举办方是谁？': {'answer': ['第五届世界互联网大会'], 'predict': {'第五届世界互联网大会'}},\n",
       " '有多少队参加了2022年卡塔尔世界杯？': {'answer': ['2022年卡塔尔世界杯'],\n",
       "  'predict': {'2022年卡塔尔世界杯'}},\n",
       " '你知道一站到底啥时候又重播了嘛': {'answer': ['一站到底'], 'predict': {'一站'}},\n",
       " '朝洛蒙是什么时候出生的？': {'answer': ['朝洛蒙'], 'predict': {'朝洛蒙'}},\n",
       " '加拉特隆的腕力怎么样': {'answer': ['加拉特隆'], 'predict': {'加拉特隆'}},\n",
       " '下诺夫哥罗德州有哪些主要的河流': {'answer': ['下诺夫哥罗德州'], 'predict': set()},\n",
       " '冰岛的国鸟是什么': {'answer': ['冰岛'], 'predict': {'冰岛'}},\n",
       " '拟等位基因像什么？': {'answer': ['拟等位基因'], 'predict': {'拟等位基因'}},\n",
       " '罗姆洛现在在哪个球队效力？': {'answer': ['罗姆洛'], 'predict': {'罗姆洛'}},\n",
       " '11的十二进制是什么': {'answer': ['11'], 'predict': {'11'}},\n",
       " '请问神启属于什么题材？': {'answer': ['神启'], 'predict': {'神启'}},\n",
       " '星光站隶属于哪个公司？': {'answer': ['星光站'], 'predict': {'星光站'}},\n",
       " '请说明漫水土司的地理特征？': {'answer': ['漫水土司'], 'predict': {'漫水土司'}},\n",
       " '轰鸣防空导弹的射程是多少啊？': {'answer': ['轰鸣防空导弹'], 'predict': {'轰鸣防空导弹'}},\n",
       " '你告诉我一下121的十二进制': {'answer': ['121'], 'predict': {'121'}},\n",
       " '求告诉我什么是俄罗斯的国花': {'answer': ['俄罗斯'], 'predict': {'俄罗斯', '国花'}},\n",
       " '玩具兵大战3在什么时候发售的？': {'answer': ['玩具兵大战3'], 'predict': {'玩具兵大战3'}},\n",
       " '囊缩可以治疗什么？': {'answer': ['囊缩'], 'predict': {'囊缩'}},\n",
       " '上海广播电视台东方影视频道的频道总监是谁': {'answer': ['上海广播电视台东方影视频道'], 'predict': set()},\n",
       " '丘崇的夫人是谁': {'answer': ['丘崇'], 'predict': {'丘崇'}},\n",
       " '且兰的最高峰叫什么': {'answer': ['且兰'], 'predict': {'且兰'}},\n",
       " '吴中经济技术开发区附近有轨道交通吗？': {'answer': ['吴中经济技术开发区'], 'predict': set()},\n",
       " '一步天履的化身是什么': {'answer': ['一步天履'], 'predict': {'一步天履'}},\n",
       " '住宅产业化的目标是什么？': {'answer': ['住宅产业化'], 'predict': {'住宅产业化'}},\n",
       " '丛晓明获得了什么学位': {'answer': ['丛晓明'], 'predict': {'丛晓明'}},\n",
       " '再生要注意什么啊？': {'answer': ['再生'], 'predict': {'再生'}},\n",
       " '谁能告诉我时钟发生器可以往哪些方向发展？': {'answer': ['时钟发生器'], 'predict': {'时钟发生器'}},\n",
       " '你知道南国明珠是什么建筑类别吗？': {'answer': ['南国明珠'], 'predict': {'南国明珠'}},\n",
       " '丁校伟是什么时候入党的': {'answer': ['丁校伟'], 'predict': {'丁校伟'}},\n",
       " '请说出官神的开始创作是什么时候？': {'answer': ['官神'], 'predict': {'官神'}},\n",
       " '地区党处于什么意识形态？': {'answer': ['地区党'], 'predict': {'地区党'}},\n",
       " '电动平板车这门技术主要应用在什么地方？': {'answer': ['电动平板车'], 'predict': {'电动平板车'}},\n",
       " '上海市松江区九亭医院的发证机关是哪个': {'answer': ['上海市松江区九亭医院'], 'predict': set()},\n",
       " '大家了解乔纳森·内塔尼亚胡的亲属有谁吗？': {'answer': ['乔纳森·内塔尼亚胡'], 'predict': {'乔纳森·内塔尼亚胡'}},\n",
       " '124的因数分解是什么': {'answer': ['124'], 'predict': {'124'}},\n",
       " '有谁看过万有引力之虹吗，总共有多少字呀': {'answer': ['万有引力之虹'], 'predict': {'万有引力之虹'}},\n",
       " '你知道马世真仙俗称是什么吗？': {'answer': ['马世真仙'], 'predict': {'马世真仙'}},\n",
       " '大佬们，汉熹平石经残字集录在哪个博物馆收藏的啊': {'answer': ['汉熹平石经残字集录'],\n",
       "  'predict': {'汉熹平石经残字集录'}},\n",
       " '2012年波兰乌克兰欧洲杯有多少支参赛队？': {'answer': ['2012年波兰乌克兰欧洲杯'],\n",
       "  'predict': {'2012年波兰乌克兰欧洲杯'}},\n",
       " '一战成名属于什么题材？': {'answer': ['一战成名'], 'predict': {'一战成名'}},\n",
       " '圈闭预探有哪些步骤？': {'answer': ['圈闭预探'], 'predict': {'圈闭预探'}},\n",
       " '千禧国际村的均价是多少？': {'answer': ['千禧国际村'], 'predict': {'千禧国际村'}},\n",
       " '文渊阁由哪个机构组织？': {'answer': ['文渊阁'], 'predict': {'文渊阁'}},\n",
       " '我想知道牛三星有什么营养啊？': {'answer': ['牛三星'], 'predict': {'牛三星'}},\n",
       " '调教富家女的资源类型是什么？': {'answer': ['调教富家女'], 'predict': set()},\n",
       " '三亚有哪些港口': {'answer': ['三亚'], 'predict': {'三亚'}},\n",
       " '2·19也门防长车队遇袭事件有多少人死亡？': {'answer': ['2·19也门防长车队遇袭事件'],\n",
       "  'predict': {'2·19也门防长车队遇袭事件'}},\n",
       " '兴旺村的人均耕地面积是多少？': {'answer': ['兴旺村'], 'predict': {'兴旺村'}},\n",
       " '南燕湾如何得名的？': {'answer': ['南燕湾'], 'predict': {'南燕湾'}},\n",
       " '你知道童话国的名称是什么吗？': {'answer': ['童话国'], 'predict': {'童话国'}},\n",
       " '一阳子的师兄是哪个': {'answer': ['一阳子'], 'predict': {'一阳子'}},\n",
       " '成安县志他的属地在哪？': {'answer': ['成安县志'], 'predict': {'成安县志'}},\n",
       " '谁知道滚瓶主要应用于什么地方？': {'answer': ['滚瓶'], 'predict': {'滚瓶'}},\n",
       " '远红外纤维主要由什么应用？': {'answer': ['远红外纤维'], 'predict': {'远红外纤维'}},\n",
       " '汤村村的人均耕地面积是多大？': {'answer': ['汤村村'], 'predict': {'汤村村'}},\n",
       " '你知道上海公交26路途经哪些地区': {'answer': ['上海公交26路'], 'predict': {'上海公交26路'}},\n",
       " '卡特里娜的死亡人数有多少？': {'answer': ['卡特里娜'], 'predict': {'卡特里娜'}},\n",
       " '学考古的，你们知道上坊孙吴墓是什么级别的文物吗': {'answer': ['上坊孙吴墓'], 'predict': {'上坊孙吴墓'}},\n",
       " '东阁里平均多少钱？': {'answer': ['东阁里'], 'predict': {'东阁'}},\n",
       " '谁知道不动行光的图鉴编号是多少': {'answer': ['不动行光'], 'predict': {'不动行光'}},\n",
       " '你知道万事通的企业精神是什么吗？': {'answer': ['万事通'], 'predict': {'万事通'}},\n",
       " '你知道种子计划的培养目标吗？': {'answer': ['种子计划'], 'predict': {'种子计划'}},\n",
       " '谁知道德国基督教民主联盟的意识形态？': {'answer': ['德国基督教民主联盟'], 'predict': {'德国基督教民主联盟'}},\n",
       " '丁霞的扣球高度是多少': {'answer': ['丁霞'], 'predict': {'丁霞'}},\n",
       " '何晨光的未婚妻是谁': {'answer': ['何晨光'], 'predict': {'何晨光'}},\n",
       " '什么是伊斯兰堡贝娜齐尔·布托国际机场的三字代码？': {'answer': ['伊斯兰堡贝娜齐尔·布托国际机场'],\n",
       "  'predict': {'伊斯兰堡贝娜齐尔·布托国际机场'}},\n",
       " '四方埔村属于什么地方？': {'answer': ['四方埔村'], 'predict': {'四方埔村'}},\n",
       " '谁是井然的初恋': {'answer': ['井然'], 'predict': {'井然'}},\n",
       " '谁知道顺生茶叶是什么时候开始的？': {'answer': ['顺生茶叶'], 'predict': {'顺生茶叶'}},\n",
       " '七台河市人民政府现在是谁当市长': {'answer': ['七台河市人民政府'], 'predict': {'七台河市人民政府'}},\n",
       " '你知道东营—深圳公路的沿途有哪些城市吗': {'answer': ['东营—深圳公路'], 'predict': set()},\n",
       " '你知道乔尼·乔斯达的好朋友是都有谁吗': {'answer': ['乔尼·乔斯达'], 'predict': {'乔尼·乔斯达'}},\n",
       " '你知道济宁道管多少个地方吗？': {'answer': ['济宁道'], 'predict': {'济宁道'}},\n",
       " '上海欧瑞腾律师事务所的执业证号是多少': {'answer': ['上海欧瑞腾律师事务所'], 'predict': set()},\n",
       " '你知道丘力居属于什么兵种吗': {'answer': ['丘力居'], 'predict': {'丘力居'}},\n",
       " '我想知道永恒之城是有关什么内容的啊？': {'answer': ['永恒之城'], 'predict': {'永恒之城'}},\n",
       " '请问伊理户水斗以前的女朋友叫什么': {'answer': ['伊理户水斗'], 'predict': {'伊理户水斗'}},\n",
       " '告诉我于虹的执业证号呗': {'answer': ['于虹'], 'predict': {'于虹'}},\n",
       " '于清华获得过什么个人荣誉': {'answer': ['于清华'], 'predict': {'于清华'}},\n",
       " '何爱瑜的叔叔是哪个呢': {'answer': ['何爱瑜'], 'predict': {'何爱瑜'}},\n",
       " '金钱帝国属于什么题材？': {'answer': ['金钱帝国'], 'predict': {'金钱帝国'}},\n",
       " '谁知道归魂信条是哪种类型的游戏呀？': {'answer': ['归魂信条'], 'predict': {'归魂信条'}},\n",
       " '丁夫人的兵种是什么': {'answer': ['丁夫人'], 'predict': {'丁夫人'}},\n",
       " '丁慧的扣球高度是多少': {'answer': ['丁慧'], 'predict': {'丁慧'}},\n",
       " '鞍山车务段在哪里办公？': {'answer': ['鞍山车务段'], 'predict': {'鞍山车务段'}},\n",
       " '云妃的养子是谁': {'answer': ['云妃'], 'predict': {'云妃'}},\n",
       " '你知道与萧临川书是哪种题材的作品吗': {'answer': ['与萧临川书'], 'predict': {'萧临川书'}},\n",
       " '王黎哪年出生的？': {'answer': ['王黎'], 'predict': {'王黎'}},\n",
       " '请问是谁创作了猜猜我是谁啊？': {'answer': ['猜猜我是谁'], 'predict': {'猜猜我'}},\n",
       " '你知道香港先生是由谁举办的吗？': {'answer': ['香港先生'], 'predict': set()},\n",
       " '你知道为人父母的执行制片人吗': {'answer': ['为人父母'], 'predict': {'为人父母'}},\n",
       " '你知道宝健中国的企业精神是什么吗？': {'answer': ['宝健中国'], 'predict': {'宝健中国'}},\n",
       " '谁是于浩宸的叔叔': {'answer': ['于浩宸'], 'predict': {'于浩宸'}},\n",
       " '你知道与王修书是哪种题材的作品吗': {'answer': ['与王修书'], 'predict': {'与王修书', '王修书'}},\n",
       " '你知道船舶与海洋工程的培养目标吗？': {'answer': ['船舶与海洋工程'], 'predict': {'船舶与海洋工程'}},\n",
       " '中华人民共和国海关行政处罚听证办法有多少章节？': {'answer': ['中华人民共和国海关行政处罚听证办法'],\n",
       "  'predict': {'中华人民共和国海关行政处罚听证办法'}},\n",
       " '请问与肾移植相关的疾病有哪些啊？': {'answer': ['肾移植'], 'predict': {'肾移植'}},\n",
       " '谁是一秤金的叔叔': {'answer': ['一秤金'], 'predict': {'一秤金'}},\n",
       " '乡村路是何意？': {'answer': ['乡村路'], 'predict': {'乡村路'}},\n",
       " '一反是什么等级的忍着': {'answer': ['一反'], 'predict': {'一反'}},\n",
       " '你知道甲壳类的繁衍方式吗？': {'answer': ['甲壳类'], 'predict': {'甲壳类'}},\n",
       " '诡刺什么时候开始创作的？': {'answer': ['诡刺'], 'predict': {'诡刺'}},\n",
       " '哪里是一气之下的备案地': {'answer': ['一气之下'], 'predict': {'一气之下'}},\n",
       " '上海广播电视台的台长是谁': {'answer': ['上海广播电视台'], 'predict': {'广播电视台'}},\n",
       " '你知道三台县的县委书记是谁吗': {'answer': ['三台县'], 'predict': {'三台县'}},\n",
       " '请问火箭大使的作者是谁？': {'answer': ['火箭大使'], 'predict': {'火箭大使'}},\n",
       " '谁知道卫生信息管理都培养啥样的人才？': {'answer': ['卫生信息管理'], 'predict': {'卫生信息管理'}},\n",
       " '你知道吉安市科学技术局在哪里吗？': {'answer': ['吉安市科学技术局'], 'predict': set()},\n",
       " '请问催化三联体是什么意思？': {'answer': ['催化三联体'], 'predict': {'催化三联体'}},\n",
       " '库克诺斯的亲属是谁？': {'answer': ['库克诺斯'], 'predict': {'库克诺斯'}},\n",
       " '一口红是什么时候采集的': {'answer': ['一口红'], 'predict': {'一口红'}},\n",
       " '我想知道同心村有多少林地？': {'answer': ['同心村'], 'predict': {'同心村'}},\n",
       " '越南航空的三字代码是什么？': {'answer': ['越南航空'], 'predict': {'越南航空'}},\n",
       " '谁是202地质队的队长': {'answer': ['202地质队'], 'predict': {'202地质队'}},\n",
       " '你知道什么时候去五云寺旅游比较好吗？': {'answer': ['五云寺'], 'predict': {'五云寺'}},\n",
       " '金珰是何意？': {'answer': ['金珰'], 'predict': {'金'}},\n",
       " '请问张惠虹的注册编号是多少？': {'answer': ['张惠虹'], 'predict': {'张惠虹'}},\n",
       " '85式太极拳有什么招式': {'answer': ['85式太极拳'], 'predict': {'85式太极拳'}},\n",
       " '你知道一线啥时候又重播了嘛': {'answer': ['一线'], 'predict': {'一线'}},\n",
       " '三门峡市人民政府现在是谁当市长': {'answer': ['三门峡市人民政府'], 'predict': {'三门峡市人民政府'}},\n",
       " '三叶的精灵等级是多少': {'answer': ['三叶'], 'predict': {'三叶'}},\n",
       " '中国中央电视台的台长是谁': {'answer': ['中国中央电视台'], 'predict': set()},\n",
       " '请问东台县志一共有多少册': {'answer': ['东台县志'], 'predict': {'东台县志'}},\n",
       " '请问日本汽车研究所是什么样的机构？': {'answer': ['日本汽车研究所'], 'predict': {'日本汽车研究所'}},\n",
       " '请问李进干了什么事情啊?': {'answer': ['李进'], 'predict': {'李进'}},\n",
       " '精进辨尊者有什么有名的是事情发生吗？': {'answer': ['精进辨尊者'], 'predict': set()},\n",
       " '一盔一带安全守护行动由哪个机构组织？': {'answer': ['一盔一带安全守护行动'], 'predict': {'一盔一带安全守护行动'}},\n",
       " '请问杨晓丹的主要经历都有什么？': {'answer': ['杨晓丹'], 'predict': {'杨晓丹'}},\n",
       " '七海千秋讨厌什么': {'answer': ['七海千秋'], 'predict': {'七海千秋'}},\n",
       " '你知道苔藓植物门的繁衍方式吗？': {'answer': ['苔藓植物门'], 'predict': {'苔藓植物门'}},\n",
       " '冬妮娅的国鸟是什么': {'answer': ['冬妮娅'], 'predict': {'冬妮娅'}},\n",
       " '你知道王功权获得过哪些重要奖项？': {'answer': ['王功权'], 'predict': {'王功权'}},\n",
       " '库归礁的经度是多少啊你知道吗？': {'answer': ['库归礁'], 'predict': {'库归礁'}},\n",
       " '丁凯乐的恩师是谁': {'answer': ['丁凯乐'], 'predict': {'丁凯乐'}},\n",
       " '东荷西柳属于哪种类别的建筑？': {'answer': ['东荷西柳'], 'predict': {'东荷西柳'}},\n",
       " '乌玛塘站是什么时候建成的？': {'answer': ['乌玛塘站'], 'predict': {'乌玛塘站'}},\n",
       " '嘉安律师事务所经营哪些业务？': {'answer': ['嘉安律师事务所'], 'predict': {'嘉安律师事务所'}},\n",
       " '你知道103的十六进制是什么吗': {'answer': ['103'], 'predict': {'103'}},\n",
       " '战略协同是指什么？': {'answer': ['战略协同'], 'predict': {'战略协同'}},\n",
       " '谁知道美宜佳控股有限公司的企业精神是什么？': {'answer': ['美宜佳控股有限公司'], 'predict': {'美宜佳控股有限公司'}},\n",
       " '公主坟有什么交通线路？': {'answer': ['公主坟'], 'predict': {'公主坟'}},\n",
       " '我想知道张保皋传记馆在哪？': {'answer': ['张保皋传记馆'], 'predict': set()},\n",
       " '北京平谷国际酒店在哪啊？': {'answer': ['北京平谷国际酒店'], 'predict': {'平谷国际酒店'}},\n",
       " '两狼山靠什么谋生的': {'answer': ['两狼山'], 'predict': {'两狼山'}},\n",
       " '你知道上海合作组织成员国元首塔什干宣言是在哪签订的吗': {'answer': ['上海合作组织成员国元首塔什干宣言'],\n",
       "  'predict': {'合作组织成员国元首塔什干宣言'}},\n",
       " '万彧的警衔是什么': {'answer': ['万彧'], 'predict': {'万彧'}},\n",
       " '麦片的营养价值如何？': {'answer': ['麦片'], 'predict': {'麦片'}},\n",
       " '谁是丹衡的妹夫啊': {'answer': ['丹衡'], 'predict': {'丹衡'}},\n",
       " '家庭销售会要注意什么啊？': {'answer': ['家庭销售会'], 'predict': set()},\n",
       " '你知道马鞍岭火山口什么时候最适合旅游吗？': {'answer': ['马鞍岭火山口'], 'predict': {'马鞍岭火山口'}},\n",
       " '请问数位内容产业指的是什么？': {'answer': ['数位内容产业'], 'predict': {'数位内容产业'}},\n",
       " '谁知道三下桃园的执行导演啊': {'answer': ['三下桃园'], 'predict': {'三下桃园'}},\n",
       " '1000000的大写是什么': {'answer': ['1000000'], 'predict': {'1000000'}},\n",
       " '谁知道一生一世的制片主任是谁': {'answer': ['一生一世'], 'predict': {'一生一世'}},\n",
       " '请问万安桥社区的绿化面积多大': {'answer': ['万安桥社区'], 'predict': {'万安桥社区'}},\n",
       " '请问一下丸迫奈扎是什么时候登场的': {'answer': ['丸迫奈扎'], 'predict': {'丸迫奈扎'}},\n",
       " '钟表技术史是什么意思啊你知道吗？': {'answer': ['钟表技术史'], 'predict': {'钟表技术史'}},\n",
       " '我很好奇王红生的老师是谁？': {'answer': ['王红生'], 'predict': {'王红生'}},\n",
       " '乔治·冈圭朗获得了什么学位': {'answer': ['乔治·冈圭朗'], 'predict': {'乔治·冈圭朗'}},\n",
       " '嬖的简体部首是什么？': {'answer': ['嬖'], 'predict': set()},\n",
       " '飞马座的面积排名多少？': {'answer': ['飞马座'], 'predict': {'飞马座'}},\n",
       " '居民自治应实现？': {'answer': ['居民自治'], 'predict': {'居民自治'}},\n",
       " '10·27永胜地震造成了损失有多少': {'answer': ['10·27永胜地震'], 'predict': set()},\n",
       " '修真仙侠啥时候可以看？': {'answer': ['修真仙侠'], 'predict': {'修真仙侠'}},\n",
       " '甜汤的营养价值如何？': {'answer': ['甜汤'], 'predict': {'甜汤'}},\n",
       " '有谁看过三嫁皇妃吗，总共有多少字呀': {'answer': ['三嫁皇妃'], 'predict': {'三嫁皇妃'}},\n",
       " '你知道南必村有多少林地面积吗？': {'answer': ['南必村'], 'predict': {'南必村'}},\n",
       " '你知道谁是克雷斯托的人间体吗': {'answer': ['克雷斯托'], 'predict': set()},\n",
       " '你知道乌戈·拉斐尔·查韦斯·弗里亚斯属于什么政党的吗': {'answer': ['乌戈·拉斐尔·查韦斯·弗里亚斯'],\n",
       "  'predict': {'乌戈·拉斐尔·查韦斯·弗里亚斯'}},\n",
       " '请问奇异博士的导师是谁？': {'answer': ['奇异博士'], 'predict': set()},\n",
       " '你知道上海海洋地质调查局是哪里开发的吗？': {'answer': ['上海海洋地质调查局'], 'predict': {'上海海洋地质调查局'}},\n",
       " '搜一下俞大鹏有几遍论文': {'answer': ['俞大鹏'], 'predict': {'俞大鹏'}},\n",
       " '你知道耶稣受难日地震是几级的吗？': {'answer': ['耶稣受难日地震'], 'predict': set()},\n",
       " '厦门大学管理学院国际教育中心在哪里办公？': {'answer': ['厦门大学管理学院国际教育中心'], 'predict': set()},\n",
       " '古北国际财富中心的轨道交通属于哪条线？': {'answer': ['古北国际财富中心'], 'predict': {'古北国际财富中心'}},\n",
       " '你知道电视剧上阵父子兵是什么时候杀青的吗': {'answer': ['上阵父子兵'], 'predict': {'上阵父子兵'}},\n",
       " '时代广场是什么类型的建筑？': {'answer': ['时代广场'], 'predict': {'时代广场'}},\n",
       " '仙女座的拉丁缩写是什么': {'answer': ['仙女座'], 'predict': {'仙女座'}},\n",
       " '请问一带一路铁路国际人才教育联盟是由哪个单位发起的？': {'answer': ['一带一路铁路国际人才教育联盟'],\n",
       "  'predict': {'一带一路铁路国际人才教育联盟'}},\n",
       " '10秒钟是什么类别的作品': {'answer': ['10秒钟'], 'predict': {'10秒钟'}},\n",
       " '岗头村有多少农户？': {'answer': ['岗头村'], 'predict': {'岗头村'}},\n",
       " '请问涉水证是什么步骤？': {'answer': ['涉水证'], 'predict': {'涉水证'}},\n",
       " '中央集权制度的起点在哪里？': {'answer': ['中央集权制度'], 'predict': {'中央集权制度'}},\n",
       " '一山派的始祖是谁': {'answer': ['一山派'], 'predict': {'一山派'}},\n",
       " '伊扎克·拉宾的所属政党是什么': {'answer': ['伊扎克·拉宾'], 'predict': {'伊扎克·拉宾'}},\n",
       " '你知道绘架座面积排名是多少吗？': {'answer': ['绘架座'], 'predict': {'绘架座'}},\n",
       " '一街村是属于哪个政区的': {'answer': ['一街村'], 'predict': {'一街村'}},\n",
       " '1.18空难的伤亡怎么样': {'answer': ['1.18空难'], 'predict': set()},\n",
       " '功夫小妞是这个专辑的名称吗？': {'answer': ['功夫小妞'], 'predict': {'功夫小妞'}},\n",
       " '丁敬的女婿是谁': {'answer': ['丁敬'], 'predict': {'丁敬'}},\n",
       " '衡阳北站哪年建造的？': {'answer': ['衡阳北站'], 'predict': {'衡阳北站'}},\n",
       " '你能举出与交感神经高度紧张相关的疾病吗？': {'answer': ['交感神经高度紧张'], 'predict': {'交感神经高度紧张'}},\n",
       " '你知道四脉麻属的引种状况吗？': {'answer': ['四脉麻属'], 'predict': {'四脉麻属'}},\n",
       " '什么时候观音寺市诞生？': {'answer': ['观音寺市'], 'predict': {'观音寺市'}},\n",
       " '南京国际博览中心在哪里展出？': {'answer': ['南京国际博览中心'], 'predict': set()},\n",
       " '嘎娃嘎普是什么意思？': {'answer': ['嘎娃嘎普'], 'predict': {'嘎娃嘎普'}},\n",
       " '2010华语金曲奖的创办机构是什么': {'answer': ['2010华语金曲奖'], 'predict': {'2010华语金曲奖'}},\n",
       " '10·26朴正熙遇刺事件有哪些人员': {'answer': ['10·26朴正熙遇刺事件'],\n",
       "  'predict': {'10·26朴正熙遇刺事件'}},\n",
       " '你可以说出无国籍人士的含义吗？': {'answer': ['无国籍人士'], 'predict': {'无国籍人士'}},\n",
       " '请问坚韧的刺刀有哪些资源？': {'answer': ['坚韧的刺刀'], 'predict': {'坚韧的刺刀'}},\n",
       " '一番星之零喜欢吃什么': {'answer': ['一番星之零'], 'predict': {'一番星之零'}},\n",
       " '酷派7268的主屏尺寸是多大？': {'answer': ['酷派7268'], 'predict': {'酷派7268'}},\n",
       " '东极青华大帝用什么坐骑': {'answer': ['东极青华大帝'], 'predict': set()},\n",
       " '大家知道上海政法学院上海纪录片学院的院歌是什么吗': {'answer': ['上海政法学院上海纪录片学院'],\n",
       "  'predict': {'上海政法学院上海纪录片学院'}},\n",
       " '谁是75游骑兵战队的队长': {'answer': ['75游骑兵战队'], 'predict': {'75游骑兵战队'}},\n",
       " '谁负责汉南续修郡志？': {'answer': ['汉南续修郡志'], 'predict': {'汉南续修郡志'}},\n",
       " '蒙太奇学派是什么意思？': {'answer': ['蒙太奇学派'], 'predict': {'蒙太奇学派'}},\n",
       " '可导的要点是什么？': {'answer': ['可导'], 'predict': {'可导'}},\n",
       " '船用碟式分离机这门技术主要应用在什么地方？': {'answer': ['船用碟式分离机'], 'predict': {'船用碟式分离机'}},\n",
       " '你知道乌养一系的孙子吗': {'answer': ['乌养一系'], 'predict': {'乌养一系'}},\n",
       " '公主岭市益路社会工作服务中心服务哪些范围？': {'answer': ['公主岭市益路社会工作服务中心'],\n",
       "  'predict': {'公主岭市益路社会工作服务中心'}},\n",
       " '你知道东条英虎在哪个学校读书的嘛': {'answer': ['东条英虎'], 'predict': {'东条英虎'}},\n",
       " '请问巴黎工商会的服务范围包含了哪些地区？': {'answer': ['巴黎工商会'], 'predict': {'巴黎工商会'}},\n",
       " '你知道小街镇每人耕地面积多大啊？': {'answer': ['小街镇'], 'predict': {'小街镇'}},\n",
       " '一村之长之贵妇还乡在什么地方备案的': {'answer': ['一村之长之贵妇还乡'], 'predict': {'一村之长之贵妇还乡'}},\n",
       " '中国2010年上海世界博览会意大利国家馆在哪里有人知道吗？': {'answer': ['中国2010年上海世界博览会意大利国家馆'],\n",
       "  'predict': {'中国2010年上海世界博览会意大利国家馆'}},\n",
       " '三门县越剧团的主要领导有哪些': {'answer': ['三门县越剧团'], 'predict': {'三门县越剧团'}},\n",
       " '德天瀑布位于哪里？': {'answer': ['德天瀑布'], 'predict': set()},\n",
       " '航空公司的服务范围是什么？': {'answer': ['航空公司'], 'predict': {'航空公司'}},\n",
       " '你知道中苏的侄子是哪个吗': {'answer': ['中苏'], 'predict': {'中苏'}},\n",
       " '乐正宇的朋友都有谁': {'answer': ['乐正宇'], 'predict': {'乐正宇'}},\n",
       " '博览线的服务范围都包括些什么？': {'answer': ['博览线'], 'predict': {'博览线'}},\n",
       " '请问斯蒂芬·卡尔现在在哪个球队？': {'answer': ['斯蒂芬·卡尔'], 'predict': {'斯蒂芬·卡尔'}},\n",
       " '三明学院信息工程学院属于哪所大学呢？': {'answer': ['三明学院信息工程学院'], 'predict': {'三明学院信息工程学院'}},\n",
       " '什么鸟是加纳的国鸟啊': {'answer': ['加纳'], 'predict': {'加纳', '鸟'}},\n",
       " '你们知道俄罗斯蓝猫是如何繁殖的吗？': {'answer': ['俄罗斯蓝猫'], 'predict': {'俄罗斯蓝猫'}},\n",
       " '你知道三昧真火的历史原型是谁吗': {'answer': ['三昧真火'], 'predict': {'三昧真火'}},\n",
       " '你知道1971年精神药物公约是在哪签订的吗': {'answer': ['1971年精神药物公约'],\n",
       "  'predict': {'1971年精神药物公约'}},\n",
       " '求告诉我什么是伪满洲国的国花': {'answer': ['伪满洲国'], 'predict': {'伪满洲国'}},\n",
       " '谁是放课后保健室的作者？': {'answer': ['放课后保健室'], 'predict': {'放课后保健室'}},\n",
       " '什么是模糊神经网络的发展方向？': {'answer': ['模糊神经网络'], 'predict': {'模糊神经网络'}},\n",
       " '秘密结社鹰之爪是在什么时候发售的？': {'answer': ['秘密结社鹰之爪'], 'predict': {'秘密结社鹰之爪'}},\n",
       " '请问万神庙是什么类型的景点': {'answer': ['万神庙'], 'predict': {'万神庙'}},\n",
       " '谁知道察汗河国家森林公园属于哪里？': {'answer': ['察汗河国家森林公园'], 'predict': {'察汗河国家森林公园'}},\n",
       " '请问阿拉善盟气象局是哪个组织的？': {'answer': ['阿拉善盟气象局'], 'predict': set()},\n",
       " '你认识于红伟的前夫吗': {'answer': ['于红伟'], 'predict': {'于红伟'}},\n",
       " '谁是以丹格格的初恋': {'answer': ['以丹格格'], 'predict': {'丹格格'}},\n",
       " '莲花新村是什么类型的建筑？': {'answer': ['莲花新村'], 'predict': {'莲花新村'}},\n",
       " '禅院真依的亲属是谁？': {'answer': ['禅院真依'], 'predict': {'禅院真依'}},\n",
       " '裕龙花园四区属于哪种类别的建筑？': {'answer': ['裕龙花园四区'], 'predict': {'裕龙花园四区'}},\n",
       " '我想知道系统脱敏法需要什么治疗吗？': {'answer': ['系统脱敏法'], 'predict': {'系统脱敏法'}},\n",
       " '2006年度北京流行音乐典礼是什么类型的奖？': {'answer': ['2006年度北京流行音乐典礼'],\n",
       "  'predict': {'2006年度北京流行音乐典礼'}},\n",
       " '谁知道犹子指的是什么？': {'answer': ['犹子'], 'predict': {'犹子'}},\n",
       " '中国骑兵用什么坐骑': {'answer': ['中国骑兵'], 'predict': {'中国骑兵'}},\n",
       " '上河街道办事处的地址在哪呀': {'answer': ['上河街道办事处'], 'predict': set()},\n",
       " '三国连太郎有哪些亲属？': {'answer': ['三国连太郎'], 'predict': {'三国连太郎'}},\n",
       " '你知道英国皇家海军参与了什么战争？': {'answer': ['英国皇家海军'], 'predict': set()},\n",
       " '什么是龙山羽毛球队的发展方向？': {'answer': ['龙山羽毛球队'], 'predict': {'龙山羽毛球队'}},\n",
       " '你知道人马座的最佳观测时间吗': {'answer': ['人马座'], 'predict': {'人马座'}},\n",
       " '请问保加利亚货币是什么时候出生的？': {'answer': ['保加利亚货币'], 'predict': {'保加利亚货币'}},\n",
       " '请问著的简体部首是什么？': {'answer': ['著'], 'predict': {'著'}},\n",
       " '武当派是在哪里创立的？': {'answer': ['武当派'], 'predict': {'武当派'}},\n",
       " '你知道伊朗的国花吗': {'answer': ['伊朗'], 'predict': {'伊朗'}},\n",
       " '你知道10·4韩朝共同宣言是什么时候签的吗': {'answer': ['10·4韩朝共同宣言'],\n",
       "  'predict': {'10·4韩朝共同宣言'}},\n",
       " '东北商船学校到底是什么级别的文物呀': {'answer': ['东北商船学校'], 'predict': {'东北商船学校'}},\n",
       " '剑川木雕由哪个颜色起始？': {'answer': ['剑川木雕'], 'predict': {'剑川木雕'}},\n",
       " '回龙溪景区的最佳旅游时间是什么时候？': {'answer': ['回龙溪景区'], 'predict': {'回龙溪景区'}},\n",
       " '10·31湛江五金店火灾事故造成了多少人员伤亡': {'answer': ['10·31湛江五金店火灾事故'],\n",
       "  'predict': {'10·31湛江五金店火灾事故'}},\n",
       " '丹凤门东西有多长？': {'answer': ['丹凤门'], 'predict': {'丹凤门'}},\n",
       " '我想知道捏脊需要什么治疗吗？': {'answer': ['捏脊'], 'predict': {'捏脊'}},\n",
       " '汤达祯属于什么院校？': {'answer': ['汤达祯'], 'predict': {'汤达祯'}},\n",
       " '谁是上上国际美术馆的馆长啊': {'answer': ['上上国际美术馆'], 'predict': set()},\n",
       " '115怎么大写啊': {'answer': ['115'], 'predict': {'115'}},\n",
       " '你知道函谷八友的老师是谁吗？': {'answer': ['函谷八友'], 'predict': {'函谷八友'}},\n",
       " '你知道三藏法师的伙伴都有谁吗': {'answer': ['三藏法师'], 'predict': {'三藏法师'}},\n",
       " '告诉我中华国学的开课时间被': {'answer': ['中华国学'], 'predict': set()},\n",
       " '骀的部首是什么？': {'answer': ['骀'], 'predict': set()},\n",
       " '我想了解一下水丝梨它的形态特征是什么啊？': {'answer': ['水丝梨'], 'predict': {'水丝梨'}},\n",
       " '一村之长之参花怒放的备案地在哪': {'answer': ['一村之长之参花怒放'], 'predict': {'一村之长之参花怒放'}},\n",
       " '凝的简体是什么啊？': {'answer': ['凝'], 'predict': {'凝'}},\n",
       " '谁知道都有哪些线路通过乐清？': {'answer': ['乐清'], 'predict': {'乐清'}},\n",
       " '你知道2007年全国两会是什么时候召开的吗': {'answer': ['2007年全国两会'], 'predict': {'2007年全国两会'}},\n",
       " '三栋屋村是什么类型的民居呀': {'answer': ['三栋屋村'], 'predict': {'三栋屋村'}},\n",
       " '于垚辰的拦网高度是多少': {'answer': ['于垚辰'], 'predict': {'于垚辰'}},\n",
       " '你了解太太乐蘑菇精属于什么公司吗？': {'answer': ['太太乐蘑菇精'], 'predict': {'太太乐蘑菇精'}},\n",
       " '请问一厘米的阳光的男主是哪个呢': {'answer': ['一厘米的阳光'], 'predict': set()},\n",
       " '三妹是什么时候上星的': {'answer': ['三妹'], 'predict': {'三妹'}},\n",
       " '请问吐蕃等路宣慰使司都元帅府管辖哪里？': {'answer': ['吐蕃等路宣慰使司都元帅府'],\n",
       "  'predict': {'吐蕃等路宣慰使司都元帅府'}},\n",
       " '在梁山，刘唐排多少位': {'answer': ['刘唐'], 'predict': {'刘唐', '梁山'}},\n",
       " '七娃有什么法宝': {'answer': ['七娃'], 'predict': {'七娃'}},\n",
       " '你知道赤岩山的俗称是什么吗？': {'answer': ['赤岩山'], 'predict': {'赤岩山'}},\n",
       " '谁是乌拉拉的爷爷啊': {'answer': ['乌拉拉'], 'predict': {'乌拉拉'}},\n",
       " '请告诉我106的罗马数字': {'answer': ['106'], 'predict': {'106'}},\n",
       " '双推手有哪些要点？': {'answer': ['双推手'], 'predict': {'双推手'}},\n",
       " '你知道小红萝卜的成分是什么吗?': {'answer': ['小红萝卜'], 'predict': {'小红萝卜'}},\n",
       " '加贝斯湾深多少米？': {'answer': ['加贝斯湾'], 'predict': {'加贝斯湾'}},\n",
       " '大家知道电视概论有多少章节吗？': {'answer': ['电视概论'], 'predict': set()},\n",
       " '谁认识12个人的艺术总监呀': {'answer': ['12个人'], 'predict': {'12个人'}},\n",
       " '怎样才能得到于禁': {'answer': ['于禁'], 'predict': {'于禁'}},\n",
       " '你知道南阳村的林地面积是多大？': {'answer': ['南阳村'], 'predict': {'南阳村'}},\n",
       " '请问国家广播电视总局是什么样的机构？': {'answer': ['国家广播电视总局'], 'predict': set()},\n",
       " '你知道2019年埃博拉疫情死了多少人吗？': {'answer': ['2019年埃博拉疫情'], 'predict': {'2019年埃博拉疫情'}},\n",
       " '哪个地方给上海市青浦区朱家角人民医院发证的': {'answer': ['上海市青浦区朱家角人民医院'], 'predict': set()},\n",
       " '你知道丹·布拉克莫尔的天敌是什么啊': {'answer': ['丹·布拉克莫尔'], 'predict': {'丹·布拉克莫尔'}},\n",
       " '丁汉白的师弟是谁呀': {'answer': ['丁汉白'], 'predict': {'丁汉白'}},\n",
       " '请问释迦牟尼佛像是什么意思？': {'answer': ['释迦牟尼佛像'], 'predict': set()},\n",
       " '谁知道英飞特的企业精神是什么？': {'answer': ['英飞特'], 'predict': {'英飞特'}},\n",
       " '你知道河口村每人耕地面积多大啊？': {'answer': ['河口村'], 'predict': {'河口村'}},\n",
       " '现在谁是上海政法学院学报的主任': {'answer': ['上海政法学院学报'], 'predict': {'上海政法学院学报'}},\n",
       " '全球传信和什么相类似？': {'answer': ['全球传信'], 'predict': {'全球传信'}},\n",
       " '你知道中国2010年上海世博会阿联酋国家馆在什么地方吗？': {'answer': ['中国2010年上海世博会阿联酋国家馆'],\n",
       "  'predict': {'中国2010年上海世博会阿联酋国家馆'}},\n",
       " '请问贵妃饼有哪些营养成分？': {'answer': ['贵妃饼'], 'predict': {'贵妃饼'}},\n",
       " '伊理户结女以前的男朋友是谁': {'answer': ['伊理户结女'], 'predict': {'伊理户结女'}},\n",
       " '摆花街如何得名的？': {'answer': ['摆花街'], 'predict': {'摆花街'}},\n",
       " '谁是世界女子青年足球锦标赛的举办方？': {'answer': ['世界女子青年足球锦标赛'], 'predict': {'世界女子青年足球锦标赛'}},\n",
       " '谁知道三元里站有几个出入口': {'answer': ['三元里站'], 'predict': {'三元里站'}},\n",
       " '汉中市交通运输局是什么的管辖的啊？': {'answer': ['汉中市交通运输局'], 'predict': set()},\n",
       " '丁派是干什么行当的': {'answer': ['丁派'], 'predict': {'丁派'}},\n",
       " '2003年俄罗斯总统杯女排邀请赛起源于哪个国家': {'answer': ['2003年俄罗斯总统杯女排邀请赛'],\n",
       "  'predict': {'2003年俄罗斯总统杯女排邀请赛'}},\n",
       " '明末边军一小兵是什么时候首发的？': {'answer': ['明末边军一小兵'], 'predict': {'明末边军一小兵'}},\n",
       " '丽攀昭铁路途径哪些城市': {'answer': ['丽攀昭铁路'], 'predict': {'丽攀昭铁路'}},\n",
       " '伊尔库茨克州的州长是谁': {'answer': ['伊尔库茨克州'], 'predict': set()},\n",
       " '关东农政局的管辖范围是什么？': {'answer': ['关东农政局'], 'predict': {'关东农政局'}},\n",
       " '我想知道手指珊瑚是怎么繁殖的？': {'answer': ['手指珊瑚'], 'predict': {'手指珊瑚'}},\n",
       " '白银东方瓜园生物科技有限公司的业务有哪些？': {'answer': ['白银东方瓜园生物科技有限公司'], 'predict': set()},\n",
       " '你知道2011年世界女排大奖赛是多少个参加比赛的队数啊？': {'answer': ['2011年世界女排大奖赛'],\n",
       "  'predict': {'2011年世界女排大奖赛'}},\n",
       " '农业科学数据共享中心的项目编号是什么？': {'answer': ['农业科学数据共享中心'], 'predict': {'农业科学数据共享中心'}},\n",
       " '三池苗子的警衔是什么': {'answer': ['三池苗子'], 'predict': {'三池苗子'}},\n",
       " '天炉座的面积排多少名？': {'answer': ['天炉座'], 'predict': {'天炉座'}},\n",
       " '说谎的女人印张一共有几个？': {'answer': ['说谎的女人'], 'predict': {'说谎的女人'}},\n",
       " '10·28贵阳在建停车场垮塌事故造成了多少人员伤亡': {'answer': ['10·28贵阳在建停车场垮塌事故'],\n",
       "  'predict': {'10·28贵阳在建停车场垮塌事故'}},\n",
       " '请问弗洛伊德的制作统筹是谁？': {'answer': ['弗洛伊德'], 'predict': set()},\n",
       " '铜陵西站的车站性质是什么？': {'answer': ['铜陵西站'], 'predict': {'铜陵西站'}},\n",
       " '请问中国民营企业500强属于什么机构？': {'answer': ['中国民营企业500强'], 'predict': {'中国民营企业500强'}},\n",
       " '你知道妙法莲华经在哪个博物馆吗': {'answer': ['妙法莲华经'], 'predict': {'妙法莲华经'}},\n",
       " '杨忠烈公文集一共有多少章？': {'answer': ['杨忠烈公文集'], 'predict': {'杨忠烈公文集'}},\n",
       " '休·道金斯加入了什么团队': {'answer': ['休·道金斯'], 'predict': {'休·道金斯'}},\n",
       " '不朽大帝在什么境界': {'answer': ['不朽大帝'], 'predict': {'不朽大帝'}},\n",
       " '严小雨的挚爱是谁': {'answer': ['严小雨'], 'predict': {'严小雨'}},\n",
       " '后港湾红树林': {'answer': ['后港湾红树林'], 'predict': {'后港湾红树林'}},\n",
       " '石斛防风网多长时间冷却？': {'answer': ['石斛防风网'], 'predict': {'石斛防风网'}},\n",
       " '付锁链爆弹的罕贵度是什么？': {'answer': ['付锁链爆弹'], 'predict': {'付锁链爆弹'}},\n",
       " '天空圣龙这部漫画的作者是谁？': {'answer': ['天空圣龙'], 'predict': {'天空圣龙'}},\n",
       " '久本雅美的最高学历是什么': {'answer': ['久本雅美'], 'predict': {'久本雅美'}},\n",
       " '谁知道东南五省联军打过哪些仗？': {'answer': ['东南五省联军'], 'predict': {'东南五省联军'}},\n",
       " '你知道陈村水道的水有多深吗？': {'answer': ['陈村水道'], 'predict': {'陈村水道'}},\n",
       " '你知道三角城遗址属于哪个年代吗': {'answer': ['三角城遗址'], 'predict': {'三角城遗址'}},\n",
       " '巴西莱金现在在哪个球队效力？': {'answer': ['巴西莱金'], 'predict': {'巴西莱金'}},\n",
       " '新干东站是什么性质的车站？': {'answer': ['新干东站'], 'predict': set()},\n",
       " '告诉我第五人格是哪儿出版的?': {'answer': ['第五人格'], 'predict': {'第五人格'}},\n",
       " '你会怎么阐述手工电弧焊？': {'answer': ['手工电弧焊'], 'predict': {'手工电弧焊'}},\n",
       " '甘庄村有多少亩林地？': {'answer': ['甘庄村'], 'predict': {'甘庄村'}},\n",
       " '请问一下交叉粉碎的跳跃能力怎么样': {'answer': ['交叉粉碎'], 'predict': {'交叉粉碎'}},\n",
       " '@的音标是什么': {'answer': ['@'], 'predict': set()},\n",
       " '你知道两栖战舰艇属于什么兵种吗': {'answer': ['两栖战舰艇'], 'predict': {'两栖战舰艇'}},\n",
       " '爱德华·亚历山大·麦克道威尔从师于谁？': {'answer': ['爱德华·亚历山大·麦克道威尔'],\n",
       "  'predict': {'爱德华·亚历山大·麦克道威尔'}},\n",
       " '请告诉我108的八进制': {'answer': ['108'], 'predict': {'108'}},\n",
       " '谁知道天命是什么时候开始的？': {'answer': ['天命'], 'predict': {'天命'}},\n",
       " '你知道美种金吉拉兔的繁殖方式是什么吗？': {'answer': ['美种金吉拉兔'], 'predict': {'美种金吉拉兔'}},\n",
       " '八旗满洲指代着什么？': {'answer': ['八旗满洲'], 'predict': {'八旗满洲'}},\n",
       " '藏地密码5的印张是什么？': {'answer': ['藏地密码5'], 'predict': {'藏地密码5'}},\n",
       " '东方朋子有哪些情人': {'answer': ['东方朋子'], 'predict': {'东方朋子'}},\n",
       " '上原彩也香就读于哪个学校': {'answer': ['上原彩也香'], 'predict': {'上原彩也香'}},\n",
       " '我想知道五山乡有多少林地？': {'answer': ['五山乡'], 'predict': {'五山乡'}},\n",
       " '请问终极教师的首次发行时间是哪天？': {'answer': ['终极教师'], 'predict': {'终极教师'}},\n",
       " '潜夫山公园的东西长是多少？': {'answer': ['潜夫山公园'], 'predict': {'潜夫山公园'}},\n",
       " '上官透的姐夫是谁呀': {'answer': ['上官透'], 'predict': {'上官透'}},\n",
       " '中国共产党中央委员会政法委员会属于什么机构你知道吗？': {'answer': ['中国共产党中央委员会政法委员会'],\n",
       "  'predict': {'中国共产党中央委员会政法委员会'}},\n",
       " '乌尔缇玛的部下有哪些人': {'answer': ['乌尔缇玛'], 'predict': {'乌尔缇玛'}},\n",
       " '请问巍的简体部首是什么？': {'answer': ['巍'], 'predict': {'巍'}},\n",
       " '谁能告诉我珠海汉胜科技股份有限公司可以往哪些方向发展？': {'answer': ['珠海汉胜科技股份有限公司'],\n",
       "  'predict': {'珠海汉胜科技股份有限公司'}},\n",
       " '学考古的，你们知道三苏园是什么级别的文物吗': {'answer': ['三苏园'], 'predict': {'三苏园'}},\n",
       " '请问联合国世界妇女大会是哪个组织的？': {'answer': ['联合国世界妇女大会'], 'predict': set()},\n",
       " '丁浩的发证机关是哪个': {'answer': ['丁浩'], 'predict': {'丁浩'}},\n",
       " '有人认识一蓑烟雨任平生的制片主任吗': {'answer': ['一蓑烟雨任平生'], 'predict': {'一蓑烟雨任平生'}},\n",
       " '你知道雁门节度使的起始地在哪吗？': {'answer': ['雁门节度使'], 'predict': {'雁门节度使'}},\n",
       " '我想请教您麦当奴道在什么地理位置？': {'answer': ['麦当奴道'], 'predict': {'麦当奴道'}},\n",
       " '干扰的冷却时间是多少？': {'answer': ['干扰'], 'predict': {'干扰'}},\n",
       " '你知道红河谷风景旅游度假区什么时候最适合旅游吗？': {'answer': ['红河谷风景旅游度假区'],\n",
       "  'predict': {'红河谷风景旅游度假区'}},\n",
       " '请告诉我1089的八进制': {'answer': ['1089'], 'predict': {'1089'}},\n",
       " '你知道2008年度北京流行音乐典礼是哪种类型的奖项吗': {'answer': ['2008年度北京流行音乐典礼'],\n",
       "  'predict': set()},\n",
       " '蔡咪咪有过什么重要的事情吗？': {'answer': ['蔡咪咪'], 'predict': {'蔡咪咪'}},\n",
       " '你知道佐藤七海的握力如何': {'answer': ['佐藤七海'], 'predict': {'佐藤七海'}},\n",
       " '文明湖有多深？': {'answer': ['文明湖'], 'predict': {'文明湖'}},\n",
       " '中浦悠花的前任是哪个啊': {'answer': ['中浦悠花'], 'predict': {'中浦悠花'}},\n",
       " '朋克何时诞生的？': {'answer': ['朋克'], 'predict': {'朋克'}},\n",
       " '你知道12·26印度洋地震是几级的吗？': {'answer': ['12·26印度洋地震'], 'predict': {'12·26印度洋地震'}},\n",
       " '大国空巢：反思中国计划生育政策有多少张？': {'answer': ['大国空巢：反思中国计划生育政策'],\n",
       "  'predict': {'大国空巢：反思中国计划生育政策'}},\n",
       " '你认识乌云珠的前夫吗': {'answer': ['乌云珠'], 'predict': {'乌云珠'}},\n",
       " '1024的十六进制是多少': {'answer': ['1024'], 'predict': {'1024'}},\n",
       " '一气化三清是哪个门派的': {'answer': ['一气化三清'], 'predict': {'一气化三清'}},\n",
       " '万仙阵有什么法宝': {'answer': ['万仙阵'], 'predict': {'万仙阵'}},\n",
       " '上岳头村林地面积多大？': {'answer': ['上岳头村'], 'predict': {'上岳头村'}},\n",
       " '国贸美术馆的地址在哪？': {'answer': ['国贸美术馆'], 'predict': set()},\n",
       " '你记得青刺果油是在哪天被发现的吗？': {'answer': ['青刺果油'], 'predict': {'青刺果油'}},\n",
       " '刻托的亲戚是谁啊？': {'answer': ['刻托'], 'predict': {'刻托'}},\n",
       " '广西强强碳素股份有限公司主要是做什么节目的啊？': {'answer': ['广西强强碳素股份有限公司'], 'predict': set()},\n",
       " '成都天府站是什么性质的车站？': {'answer': ['成都天府站'], 'predict': set()},\n",
       " '你知道东岳庙的文物级别吗': {'answer': ['东岳庙'], 'predict': {'东岳庙'}},\n",
       " '1453年有哪些历史意义啊': {'answer': ['1453年'], 'predict': {'1453年'}},\n",
       " '谁是乐童的生母': {'answer': ['乐童'], 'predict': {'乐童'}},\n",
       " '你知道有关信用评分系统的发布信息吗？': {'answer': ['信用评分系统'], 'predict': {'信用评分系统'}},\n",
       " '你知道三十岁，你好的执行制片人吗': {'answer': ['三十岁，你好'], 'predict': {'三十岁，你好'}},\n",
       " '请问翳蔽是什么意思？': {'answer': ['翳蔽'], 'predict': {'翳蔽'}},\n",
       " '谁是7号差馆的副导演': {'answer': ['7号差馆'], 'predict': {'7号差馆'}},\n",
       " '你知道上官静儿的历史原型是谁吗': {'answer': ['上官静儿'], 'predict': {'上官静儿'}},\n",
       " '你知道2011年度北京流行音乐典礼的直播平台吗': {'answer': ['2011年度北京流行音乐典礼'],\n",
       "  'predict': {'2011年度北京流行音乐典礼'}},\n",
       " '生活观的作品体现的是什么主义？': {'answer': ['生活观'], 'predict': {'生活观'}},\n",
       " '慈溪市盐务管理局属于什么机构？': {'answer': ['慈溪市盐务管理局'], 'predict': {'慈溪市盐务管理局'}},\n",
       " '大家知道谁是二阶堂有希子的大儿子吗': {'answer': ['二阶堂有希子'], 'predict': {'二阶堂有希子'}},\n",
       " '你知道哪个是东堂明的青梅竹马吗': {'answer': ['东堂明'], 'predict': {'东堂明'}},\n",
       " '非学无以广才的主旨是什么？': {'answer': ['非学无以广才'], 'predict': {'非学无以广才'}},\n",
       " '你知道伯吉斯页岩化石群是在哪里发现的吗？': {'answer': ['伯吉斯页岩化石群'], 'predict': {'伯吉斯页岩化石群'}},\n",
       " '你知道几内亚比绍的国家格言吗': {'answer': ['几内亚比绍'], 'predict': {'几内亚比绍'}},\n",
       " '上海有哪些有名的大学': {'answer': ['上海'], 'predict': {'上海'}},\n",
       " '天堂凹是谁写的？': {'answer': ['天堂凹'], 'predict': {'天堂凹'}},\n",
       " '乌鸦座的最佳观测时间是什么时候': {'answer': ['乌鸦座'], 'predict': {'乌鸦座'}},\n",
       " '仙后的最佳观测纬度是什么': {'answer': ['仙后'], 'predict': {'仙后'}},\n",
       " '丹羽亚衣子有什么厌恶的呢': {'answer': ['丹羽亚衣子'], 'predict': {'丹羽亚衣子'}},\n",
       " '哪个是丰臣秀次的养父': {'answer': ['丰臣秀次'], 'predict': {'丰臣秀次'}},\n",
       " '你知道新胡安岛的土地面积是多少？': {'answer': ['新胡安岛'], 'predict': {'新胡安岛'}},\n",
       " '管阳的管辖范围是什么？': {'answer': ['管阳'], 'predict': {'管阳'}},\n",
       " '哥德堡号的属地是什么？': {'answer': ['哥德堡号'], 'predict': {'哥德堡号'}},\n",
       " '浮空弹多长时间冷却？': {'answer': ['浮空弹'], 'predict': {'浮空弹'}},\n",
       " '梧州长洲岛机场是哪年建成的？': {'answer': ['梧州长洲岛机场'], 'predict': {'梧州长洲岛机场'}},\n",
       " '请问晋卦的主旨是什么？': {'answer': ['晋卦'], 'predict': {'晋卦'}},\n",
       " '性病学是由哪个单位发起主办的？': {'answer': ['性病学'], 'predict': {'性病学'}},\n",
       " '我很好奇迪拜航空公司的代码是什么？': {'answer': ['迪拜航空公司'], 'predict': {'迪拜航空公司'}},\n",
       " '请问信阳电视台是由哪个部门批准进行的？': {'answer': ['信阳电视台'], 'predict': set()},\n",
       " '请问什社小米有哪些营养价值？': {'answer': ['什社小米'], 'predict': {'什社小米'}},\n",
       " '你知道华阳夫人是孩子叫什么吗?': {'answer': ['华阳夫人'], 'predict': set()},\n",
       " '请问鱼籽有哪些营养价值？': {'answer': ['鱼籽'], 'predict': {'鱼籽'}},\n",
       " '告诉我不破真广的女友是谁': {'answer': ['不破真广'], 'predict': {'不破真广'}},\n",
       " '大家知道道风山的建筑时间吗？': {'answer': ['道风山'], 'predict': {'道风山'}},\n",
       " '20172019周期国家卫生乡镇是什么机构创办的': {'answer': ['20172019周期国家卫生乡镇'],\n",
       "  'predict': set()},\n",
       " '红豆属是引种吗？': {'answer': ['红豆属'], 'predict': {'红豆属'}},\n",
       " '请问特亮县东西宽有多少米？': {'answer': ['特亮县'], 'predict': {'特亮县'}},\n",
       " '你知道任茜是什么级别的医生吗': {'answer': ['任茜'], 'predict': {'任茜'}},\n",
       " '你知道中国同名秀的播出时长吗': {'answer': ['中国同名秀'], 'predict': {'中国同名秀'}},\n",
       " '新余西站的车站性质是什么？': {'answer': ['新余西站'], 'predict': {'新余西站'}},\n",
       " '山河堰什么时候建设的？': {'answer': ['山河堰'], 'predict': {'山河堰'}},\n",
       " '你能解释一下管教的含义吗？': {'answer': ['管教'], 'predict': {'管教'}},\n",
       " '丰臣完子的养母是谁': {'answer': ['丰臣完子'], 'predict': {'丰臣完子'}},\n",
       " '1236年起源于哪个国家': {'answer': ['1236年'], 'predict': {'1236年'}},\n",
       " '鄄城县盐务局属于什么机构？': {'answer': ['鄄城县盐务局'], 'predict': set()},\n",
       " '东乡公主的祖母是谁': {'answer': ['东乡公主'], 'predict': {'东乡公主'}},\n",
       " '登霄石的东西宽是多少？': {'answer': ['登霄石'], 'predict': {'登霄石'}},\n",
       " '一捧雪是哪个章节出场的': {'answer': ['一捧雪'], 'predict': {'一捧雪'}},\n",
       " '有谁知道光速不变原理是什么时候诞生的？': {'answer': ['光速不变原理'], 'predict': {'光速不变原理'}},\n",
       " '扎尕那山的意义是什么啊？': {'answer': ['扎尕那山'], 'predict': {'扎尕那山'}},\n",
       " '请问直军参与过哪些战争？': {'answer': ['直军'], 'predict': {'直军'}},\n",
       " '你知道圣川真斗的导师是谁啊？': {'answer': ['圣川真斗'], 'predict': {'圣川真斗'}},\n",
       " '乾卦有哪些名言': {'answer': ['乾卦'], 'predict': {'乾卦'}},\n",
       " '江氏家风家训馆的名称是什么？': {'answer': ['江氏家风家训馆'], 'predict': set()},\n",
       " '使命召唤的全球票房有多少': {'answer': ['使命召唤'], 'predict': {'使命召唤'}},\n",
       " '请问和光同尘是什么时候冷却的有人知道吗？': {'answer': ['和光同尘'], 'predict': {'和光同尘'}},\n",
       " '于铁民被授予了什么警衔': {'answer': ['于铁民'], 'predict': {'于铁民'}},\n",
       " '中国铁道建筑集团有限公司的企业精神是什么？': {'answer': ['中国铁道建筑集团有限公司'],\n",
       "  'predict': {'中国铁道建筑集团有限公司'}},\n",
       " '便面是什么时候发现的？': {'answer': ['便面'], 'predict': {'便面'}},\n",
       " '上官博玉的老师是谁': {'answer': ['上官博玉'], 'predict': {'上官博玉'}},\n",
       " '你知道东京益力多燕子的球衣是什么颜色吗': {'answer': ['东京益力多燕子'], 'predict': {'东京益力多燕子'}},\n",
       " '锦上添花服务哪些范围？': {'answer': ['锦上添花'], 'predict': {'锦上添花'}},\n",
       " '2016亚洲金曲大赏在什么平台直播': {'answer': ['2016亚洲金曲大赏'], 'predict': {'2016亚洲金曲大赏'}},\n",
       " '你知道阿拉乌丁·摩诃末的儿子是谁吗？': {'answer': ['阿拉乌丁·摩诃末'], 'predict': {'阿拉乌丁·摩诃末'}},\n",
       " '你知道七月的喜好有什么吗': {'answer': ['七月'], 'predict': {'七月'}},\n",
       " '请问加里·福克纳干了什么事情啊?': {'answer': ['加里·福克纳'], 'predict': {'加里·福克纳'}},\n",
       " '你知道万敏有啥个人荣誉吗': {'answer': ['万敏'], 'predict': {'万敏'}},\n",
       " '你知道中岛夏海不喜欢什么吗': {'answer': ['中岛夏海'], 'predict': {'中岛夏海'}},\n",
       " '大学语文的印刷日期是什么时候？': {'answer': ['大学语文'], 'predict': {'大学语文'}},\n",
       " '爱就宅一起的片头曲是什么来着？': {'answer': ['爱就宅一起'], 'predict': {'爱就宅一起'}},\n",
       " '德勤会计师事务所主营一些什么业务？': {'answer': ['德勤会计师事务所'], 'predict': set()},\n",
       " '你知道中国女性文化什么时间开课的嘛': {'answer': ['中国女性文化'], 'predict': set()},\n",
       " '罗小华属于什么地方？': {'answer': ['罗小华'], 'predict': {'罗小华'}},\n",
       " '绍兴商业银行在哪里被创立？': {'answer': ['绍兴商业银行'], 'predict': {'绍兴商业银行'}},\n",
       " '寒川町位于哪里？': {'answer': ['寒川町'], 'predict': set()},\n",
       " '请问四川保宁醋有限公司的企业精神是什么？': {'answer': ['四川保宁醋有限公司'], 'predict': {'四川保宁醋有限公司'}},\n",
       " '山地战是指什么？': {'answer': ['山地战'], 'predict': {'山地战'}},\n",
       " '玻璃的亮度是多少？': {'answer': ['玻璃'], 'predict': {'玻璃'}},\n",
       " '湖南锦峰钢结构工程有限公司隶属于哪个公司？': {'answer': ['湖南锦峰钢结构工程有限公司'],\n",
       "  'predict': {'湖南锦峰钢结构工程有限公司'}},\n",
       " '你知道北礁沉船遗址从西边到东边一共多少公里长？': {'answer': ['北礁沉船遗址'], 'predict': {'北礁沉船遗址'}},\n",
       " '丁嘉力就读于哪个学校': {'answer': ['丁嘉力'], 'predict': {'丁嘉力'}},\n",
       " '葛山村林地面积多大？': {'answer': ['葛山村'], 'predict': {'葛山村'}},\n",
       " '仙王座的拉丁缩写是什么': {'answer': ['仙王座'], 'predict': {'仙王座'}},\n",
       " '有人认识一见倾心的制片主任吗': {'answer': ['一见倾心'], 'predict': {'一见倾心'}},\n",
       " '何群的未婚妻是谁': {'answer': ['何群'], 'predict': {'何群'}},\n",
       " '大佬们，康熙字典在哪个博物馆收藏的啊': {'answer': ['康熙字典'], 'predict': {'康熙字典'}},\n",
       " '你知道利布特奥特曼在水中的速度有多快吗': {'answer': ['利布特奥特曼'], 'predict': {'利布特奥特曼'}},\n",
       " '太平洋珊瑚礁东西有多宽？': {'answer': ['太平洋珊瑚礁'], 'predict': {'太平洋珊瑚礁'}},\n",
       " '你知道夐字的偏旁是什么吗？': {'answer': ['夐'], 'predict': set()},\n",
       " '二丫头的岳父是谁呀': {'answer': ['二丫头'], 'predict': {'二丫头'}},\n",
       " '请问内部报告控制指的是什么？': {'answer': ['内部报告控制'], 'predict': {'内部报告控制'}},\n",
       " '红棉路由哪个颜色起始？': {'answer': ['红棉路'], 'predict': {'红棉路'}},\n",
       " ...}"
      ]
     },
     "execution_count": 82,
     "metadata": {},
     "output_type": "execute_result"
    }
   ],
   "source": [
    "res"
   ]
  },
  {
   "cell_type": "code",
   "execution_count": 83,
   "id": "df63813a",
   "metadata": {},
   "outputs": [],
   "source": [
    "number_span_total=0\n",
    "number_span_right=0\n",
    "number_span_wrong=0\n",
    "\n",
    "for q,values in res.items():\n",
    "    answer=values['answer']\n",
    "    assert len(answer)==1\n",
    "    number_span_total+=1\n",
    "    answer=answer[0]\n",
    "    predict=list(values['predict'])\n",
    "    \n",
    "    for p in predict:\n",
    "        if p==answer:\n",
    "            number_span_right+=1\n",
    "        else:\n",
    "            number_span_wrong+=1"
   ]
  },
  {
   "cell_type": "code",
   "execution_count": 84,
   "id": "1d7a57ad",
   "metadata": {},
   "outputs": [],
   "source": [
    "recall=(number_span_right)/(number_span_total)\n",
    "precision=(number_span_right)/(number_span_right+number_span_wrong)\n",
    "f1=2*precision*recall/(precision+recall)"
   ]
  },
  {
   "cell_type": "code",
   "execution_count": 85,
   "id": "91ec99a2",
   "metadata": {},
   "outputs": [
    {
     "name": "stdout",
     "output_type": "stream",
     "text": [
      "0.8434343434343434 0.9577060931899641 0.8969452836522323\n"
     ]
    }
   ],
   "source": [
    "print(recall,precision,f1)"
   ]
  },
  {
   "cell_type": "code",
   "execution_count": 86,
   "id": "64cdcdc2",
   "metadata": {},
   "outputs": [
    {
     "data": {
      "text/plain": [
       "1584"
      ]
     },
     "execution_count": 86,
     "metadata": {},
     "output_type": "execute_result"
    }
   ],
   "source": [
    "number_span_total"
   ]
  },
  {
   "cell_type": "code",
   "execution_count": 87,
   "id": "e87ff556",
   "metadata": {},
   "outputs": [
    {
     "data": {
      "text/plain": [
       "1336"
      ]
     },
     "execution_count": 87,
     "metadata": {},
     "output_type": "execute_result"
    }
   ],
   "source": [
    "number_span_right"
   ]
  },
  {
   "cell_type": "code",
   "execution_count": 88,
   "id": "ef05c3a9",
   "metadata": {},
   "outputs": [
    {
     "data": {
      "text/plain": [
       "59"
      ]
     },
     "execution_count": 88,
     "metadata": {},
     "output_type": "execute_result"
    }
   ],
   "source": [
    "number_span_wrong"
   ]
  },
  {
   "cell_type": "code",
   "execution_count": 38,
   "id": "42cd4734",
   "metadata": {},
   "outputs": [],
   "source": [
    "# data=[]\n",
    "# import json\n",
    "# with open('/home/xhsun/Desktop/graduate_models/Section4/nlpcc/mixture/ner-predictions.json') as f:\n",
    "#     lines=f.readlines()\n",
    "#     for line in lines:\n",
    "#         data.append(json.loads(line.strip()))\n",
    "        \n",
    "data=[]\n",
    "import json\n",
    "with open('/home/xhsun/Desktop/graduate_models/Section4/kgclue/mixture-predictions.json') as f:\n",
    "    lines=f.readlines()\n",
    "    for line in lines:\n",
    "        data.append(json.loads(line.strip()))        "
   ]
  },
  {
   "cell_type": "code",
   "execution_count": 39,
   "id": "829a2936",
   "metadata": {},
   "outputs": [
    {
     "data": {
      "text/plain": [
       "6674"
      ]
     },
     "execution_count": 39,
     "metadata": {},
     "output_type": "execute_result"
    }
   ],
   "source": [
    "len(data)"
   ]
  },
  {
   "cell_type": "code",
   "execution_count": 40,
   "id": "873cad95",
   "metadata": {},
   "outputs": [
    {
     "data": {
      "text/plain": [
       "{'question': '传次郎喜欢吃什么。实体名词是：传次郎。这个句子的意图与下列哪一个关系最相似？_。 （0）性别，（1）别名，（2）喜爱的食物，（3）初次登场，（4）登场作品，（5）外文名，（6）配音，（7）身份，（8）身高，（9）不匹配，（10）中文名',\n",
       " 'answer': ['喜爱的食物'],\n",
       " 'predict': '喜爱的食物'}"
      ]
     },
     "execution_count": 40,
     "metadata": {},
     "output_type": "execute_result"
    }
   ],
   "source": [
    "data[0]"
   ]
  },
  {
   "cell_type": "code",
   "execution_count": 41,
   "id": "f6fb96f9",
   "metadata": {},
   "outputs": [],
   "source": [
    "wrong_examples=[]\n",
    "only_cn_examples=[]\n",
    "import string\n",
    "for example in data:\n",
    "    question=example['question'].lower()\n",
    "    en=False\n",
    "    for char in question:\n",
    "        if char in string.ascii_letters+\"-\"+\"0123456789\":\n",
    "            en=True\n",
    "            break\n",
    "    if en==False:\n",
    "        only_cn_examples.append(example)\n",
    "    predict=example['predict']\n",
    "    if predict not in question:\n",
    "        wrong_examples.append(example)"
   ]
  },
  {
   "cell_type": "code",
   "execution_count": 42,
   "id": "555bd0a8",
   "metadata": {},
   "outputs": [
    {
     "data": {
      "text/plain": [
       "1387"
      ]
     },
     "execution_count": 42,
     "metadata": {},
     "output_type": "execute_result"
    }
   ],
   "source": [
    "len(only_cn_examples)"
   ]
  },
  {
   "cell_type": "code",
   "execution_count": 43,
   "id": "c0760daf",
   "metadata": {},
   "outputs": [
    {
     "data": {
      "text/plain": [
       "6674"
      ]
     },
     "execution_count": 43,
     "metadata": {},
     "output_type": "execute_result"
    }
   ],
   "source": [
    "len(data)"
   ]
  },
  {
   "cell_type": "code",
   "execution_count": 44,
   "id": "4fcb53af",
   "metadata": {},
   "outputs": [],
   "source": [
    "wrong_examples=[]\n",
    "\n",
    "for example in only_cn_examples:\n",
    "    question=example['question'].lower()\n",
    "    predict=example['predict']\n",
    "    if predict not in question:\n",
    "        wrong_examples.append(example)"
   ]
  },
  {
   "cell_type": "code",
   "execution_count": null,
   "id": "5a2ef3ee",
   "metadata": {},
   "outputs": [],
   "source": []
  },
  {
   "cell_type": "code",
   "execution_count": 45,
   "id": "3330a5e3",
   "metadata": {},
   "outputs": [
    {
     "data": {
      "text/plain": [
       "7"
      ]
     },
     "execution_count": 45,
     "metadata": {},
     "output_type": "execute_result"
    }
   ],
   "source": [
    "len(wrong_examples)"
   ]
  },
  {
   "cell_type": "code",
   "execution_count": 46,
   "id": "d43b1c24",
   "metadata": {},
   "outputs": [
    {
     "data": {
      "text/plain": [
       "0.9949531362653208"
      ]
     },
     "execution_count": 46,
     "metadata": {},
     "output_type": "execute_result"
    }
   ],
   "source": [
    "(len(only_cn_examples)-len(wrong_examples))/len(only_cn_examples)"
   ]
  },
  {
   "cell_type": "code",
   "execution_count": 47,
   "id": "1b7346f2",
   "metadata": {},
   "outputs": [
    {
     "data": {
      "text/plain": [
       "[{'question': '威海—青岛高速公路经过哪些线路？。上个句子中哪些属于实体名词？_。',\n",
       "  'answer': ['威海—青岛高速公路'],\n",
       "  'predict': '威海青岛高速公路'},\n",
       " {'question': '东北鼢鼠有什么天敌啊。上个句子中哪些属于实体名词？_。',\n",
       "  'answer': ['东北鼢鼠'],\n",
       "  'predict': '东北鼠'},\n",
       " {'question': '东海岛—雷州高速公路限速多少。上个句子中哪些属于实体名词？_。',\n",
       "  'answer': ['东海岛—雷州高速公路'],\n",
       "  'predict': '东海岛雷州高速公路'},\n",
       " {'question': '于鋆炜的拦网高度是多少。上个句子中哪些属于实体名词？_。',\n",
       "  'answer': ['于鋆炜'],\n",
       "  'predict': '于炜'},\n",
       " {'question': '你知道东营—深圳公路的沿途有哪些城市吗。上个句子中哪些属于实体名词？_。',\n",
       "  'answer': ['东营—深圳公路'],\n",
       "  'predict': '东营深圳公路'},\n",
       " {'question': '中国共产党中央委员会政法委员会属于什么机构你知道吗？。上个句子中哪些属于实体名词？_。',\n",
       "  'answer': ['中国共产党中央委员会政法委员会'],\n",
       "  'predict': '中国共产党中央委員会政法委员会'},\n",
       " {'question': '烟台—海阳高速公路是什么时候开始的？。上个句子中哪些属于实体名词？_。',\n",
       "  'answer': ['烟台—海阳高速公路'],\n",
       "  'predict': '烟台海阳高速公路'}]"
      ]
     },
     "execution_count": 47,
     "metadata": {},
     "output_type": "execute_result"
    }
   ],
   "source": [
    "wrong_examples"
   ]
  },
  {
   "cell_type": "code",
   "execution_count": null,
   "id": "25cadec7",
   "metadata": {},
   "outputs": [],
   "source": []
  }
 ],
 "metadata": {
  "kernelspec": {
   "display_name": "Python 3 (ipykernel)",
   "language": "python",
   "name": "python3"
  },
  "language_info": {
   "codemirror_mode": {
    "name": "ipython",
    "version": 3
   },
   "file_extension": ".py",
   "mimetype": "text/x-python",
   "name": "python",
   "nbconvert_exporter": "python",
   "pygments_lexer": "ipython3",
   "version": "3.9.5"
  }
 },
 "nbformat": 4,
 "nbformat_minor": 5
}
